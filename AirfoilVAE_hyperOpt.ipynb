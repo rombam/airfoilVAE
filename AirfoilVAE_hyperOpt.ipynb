{
 "cells": [
  {
   "cell_type": "markdown",
   "metadata": {},
   "source": [
    "## Airfoil Aerodynamic Coefficients Prediction using ANN - Optimization of hyperparameters\n",
    "## 1. Bayesian Optimization (Ax)\n",
    "MLP-based surrogate model to infer aerodynamic coefficients.\n",
    "\n",
    "This notebook uses:\n",
    " - Bayesian Optimization methods with the Optuna library.\n"
   ]
  },
  {
   "cell_type": "code",
   "execution_count": 1,
   "metadata": {},
   "outputs": [],
   "source": [
    "import pandas as pd\n",
    "import numpy as np\n",
    "import matplotlib.pyplot as plt\n",
    "import optuna\n",
    "import time\n",
    "\n",
    "import torch\n",
    "from torch import nn\n",
    "from torch.utils.data import DataLoader\n",
    "from torch.nn import functional as F\n",
    "from matplotlib import rc\n",
    "from sklearn.model_selection import train_test_split\n",
    "from sklearn.preprocessing import MinMaxScaler\n",
    "from AirfoilVAE import AirfoilVAE\n",
    "from compute_fid import compute_fid\n",
    "\n",
    "\n",
    "plt.style.use('seaborn-whitegrid')"
   ]
  },
  {
   "cell_type": "code",
   "execution_count": 2,
   "metadata": {},
   "outputs": [
    {
     "name": "stdout",
     "output_type": "stream",
     "text": [
      "Using cuda device\n",
      "CUDA version: 11.1\n"
     ]
    }
   ],
   "source": [
    "# Library options\n",
    "pd.options.mode.chained_assignment = None  # default='warn'\n",
    "rc('font',**{'family':'sans-serif','sans-serif':['Helvetica']})\n",
    "rc('font',**{'family':'serif','serif':['Palatino']})\n",
    "rc('text', usetex=True)\n",
    "\n",
    "# Get CPU or GPU device for NN\n",
    "device = \"cuda\" if torch.cuda.is_available() else \"cpu\"\n",
    "print(f\"Using {device} device\")\n",
    "print(f\"CUDA version: {torch.version.cuda}\")"
   ]
  },
  {
   "cell_type": "markdown",
   "metadata": {},
   "source": [
    "### Helper functions"
   ]
  },
  {
   "cell_type": "code",
   "execution_count": 3,
   "metadata": {},
   "outputs": [],
   "source": [
    "def airfoil_plot(airfoil_coords, fig=None, label=None, spacing='cosine', n_points=30):\n",
    "    \"\"\"\n",
    "    Returns a plot of an airfoil. Used to visualize output of the optimizer. \n",
    "    Assumes 15 points for upper surface and 15 points for lower surface, with cosine spacing.\n",
    "    NOTE: This function should be edited depending on the database.\n",
    "    Inputs:\n",
    "        - airfoil_coords: pandas DataFrame with airfoil coordinates and other parameters\n",
    "    Outputs:\n",
    "        - Plot of airfoil shape\n",
    "    \"\"\"\n",
    "    if fig==None:\n",
    "        fig = plt.subplot2grid((1,3), (0,0), colspan = 3)\n",
    "    \n",
    "    # X coordinates\n",
    "    points_per_surf = int(n_points/2)\n",
    "    if spacing == 'cosine':\n",
    "        x = list(reversed([0.5*(1-np.cos(ang)) for ang in np.linspace(0,np.pi,points_per_surf+2)]))\n",
    "        aux_x = list([0.5*(1-np.cos(ang)) for ang in np.linspace(0,np.pi,points_per_surf+2)[1:points_per_surf+1]])\n",
    "        [x.append(i) for i in aux_x]\n",
    "        x.append(1)\n",
    "    elif spacing == 'linear':\n",
    "        x = list(reversed(list(np.linspace(0,1,points_per_surf+2))))\n",
    "        aux_x = list(list(np.linspace(0,1,points_per_surf+2)[1:points_per_surf+1]))\n",
    "        [x.append(i) for i in aux_x]\n",
    "        x.append(1)    \n",
    "\n",
    "    # Y coordinates\n",
    "    y = []\n",
    "    origin = (airfoil_coords.iloc[0][0]+airfoil_coords.iloc[0][points_per_surf])/2\n",
    "    y.append(0)\n",
    "    [y.append(j) for j in airfoil_coords.iloc[0][0:points_per_surf].values.tolist()]\n",
    "    y.append(origin)\n",
    "    #aux_y = list(reversed(airfoil_coords.iloc[points_per_surf:n_points].values.tolist()))\n",
    "    aux_y = list(airfoil_coords.iloc[0][points_per_surf:n_points].values.tolist())\n",
    "    [y.append(k) for k in aux_y]\n",
    "    y.append(0)\n",
    "\n",
    "    # Airfoil plot     \n",
    "    fig.plot(x, y, label = label)\n",
    "    fig.set_xlim([-0.1,1.1])\n",
    "    fig.set_ylim([-0.2,0.3])\n",
    "    fig.set_ylabel('$y/c$')\n",
    "    fig.set_xlabel('$x/c$') \n",
    "    fig.set_title('Airfoil plot', fontsize=16)\n",
    "    fig.legend(frameon=True)\n",
    "    if fig==None:\n",
    "        plt.show()\n",
    "    return\n",
    "\n",
    "\n",
    "def torch_test_split(X, y = None, test_size=0.2, seed=1234):\n",
    "    \"\"\"\n",
    "    Returns a train and test set in PyTorch tensor format from a numpy array dataset.\n",
    "    Inputs:\n",
    "        - X: numpy array with input data. Each row is a training/testing sample and each column is a feature.\n",
    "        - y: numpy array with output data. Each row is a training/testing sample and each column is an output.\n",
    "        - test_size: proportion of the dataset to be used as test set.\n",
    "        - seed: random seed for reproducibility.\n",
    "    Outputs:\n",
    "        - training_data: PyTorch tensor with training data.\n",
    "        - test_data: PyTorch tensor with test data.\n",
    "    \"\"\"\n",
    "    X_train_0, X_test_0, y_train_0, y_test_0 = train_test_split(X, y, test_size=test_size, random_state=seed)\n",
    "    X_train = torch.from_numpy(X_train_0).float()\n",
    "    X_test = torch.from_numpy(X_test_0).float()\n",
    "    y_train = torch.from_numpy(y_train_0).float()\n",
    "    y_test = torch.from_numpy(y_test_0).float()\n",
    "    training_data = []\n",
    "    testing_data = []\n",
    "    for i in range(len(X_train)):\n",
    "        training_data.append((X_train[i], y_train[i]))\n",
    "    for i in range(len(X_test)):\n",
    "        testing_data.append((X_test[i], y_test[i]))\n",
    "    return training_data, testing_data\n",
    "\n",
    "def normalize_data (data, scaler):\n",
    "    \"\"\"\n",
    "    Normalizes neural network inputs and outputs.\n",
    "    Inputs:\n",
    "        - data: data to be normalized. [np.array / pd.DataFrame]\n",
    "        - scaler: pre-fitted scaler object.\n",
    "    Outputs:\n",
    "        - normalized data. [pd.DataFrame]\n",
    "    \"\"\"\n",
    "    if type(data) == pd.DataFrame:\n",
    "        data = data.to_numpy().reshape(-1,scaler.n_features_in_)\n",
    "    elif type(data) == np.ndarray:\n",
    "        data = data.reshape(-1,scaler.n_features_in_)\n",
    "    else:\n",
    "        raise(TypeError('Input data must be either a pd.DataFrame or a np.ndarray'))\n",
    "    norm_data = pd.DataFrame(data = scaler.transform(data), columns = scaler.feature_names_in_)\n",
    "    return norm_data\n",
    "\n",
    "def denormalize_data (data, scaler):\n",
    "    \"\"\"\n",
    "    Denormalizes neural network inputs and outputs.\n",
    "    Inputs:\n",
    "        - data: data to be denormalized. [np.array / pd.DataFrame]\n",
    "        - scaler: pre-fitted scaler object.\n",
    "    Outputs:\n",
    "        - denormalized data. [pd.DataFrame]\n",
    "    \"\"\"\n",
    "    if type(data) == pd.DataFrame:\n",
    "        data = data.to_numpy().reshape(-1,scaler.n_features_in_)\n",
    "    elif type(data) == np.ndarray:\n",
    "        data = data.reshape(-1,scaler.n_features_in_)\n",
    "    else:\n",
    "        raise(TypeError('Input data must be either a pd.DataFrame or a np.ndarray'))\n",
    "    denorm_data = pd.DataFrame(data = scaler.inverse_transform(data), columns = scaler.feature_names_in_)\n",
    "    return denorm_data\n",
    "\n",
    "def init_weights(m):\n",
    "    \"\"\"\n",
    "    Resets all the weights in a given model. Uses a normal distribution with varying standard deviation for each weight depending on the layer type.\n",
    "    To be applied to a PyTorch model object as model.apply(init_weights).\n",
    "    Obtained from: https://stackoverflow.com/questions/64699434/reset-model-parameters-and-weights-of-a-network-pytorch-for-cross-validation\n",
    "    \"\"\"\n",
    "    if isinstance(m, nn.Embedding):\n",
    "        nn.init.normal_(m.weight, mean=0.0, std=0.1) ## or simply use your layer.reset_parameters()\n",
    "    if isinstance(m, nn.Linear):\n",
    "        nn.init.normal_(m.weight, mean=0.0, std=np.sqrt(1 / m.in_features))\n",
    "        if m.bias is not None: \n",
    "            nn.init.zeros_(m.bias)\n",
    "    if isinstance(m, nn.Conv1d):\n",
    "            nn.init.normal_(m.weight, mean=0.0, std=np.sqrt(4 / m.in_channels))\n",
    "            if m.bias is not None: \n",
    "                nn.init.zeros_(m.bias)\n"
   ]
  },
  {
   "cell_type": "markdown",
   "metadata": {},
   "source": [
    "## 1. Import data and optimize the model architecture\n",
    "A simple VAE will be taken as a baseline and its architecture (number of layers and units per hidden layer) will be optimized."
   ]
  },
  {
   "cell_type": "markdown",
   "metadata": {},
   "source": [
    "### 1.1 Load data"
   ]
  },
  {
   "cell_type": "code",
   "execution_count": 4,
   "metadata": {},
   "outputs": [
    {
     "name": "stdout",
     "output_type": "stream",
     "text": [
      "Number of airfoil coordinates: 198\n"
     ]
    },
    {
     "data": {
      "text/html": [
       "<div>\n",
       "<style scoped>\n",
       "    .dataframe tbody tr th:only-of-type {\n",
       "        vertical-align: middle;\n",
       "    }\n",
       "\n",
       "    .dataframe tbody tr th {\n",
       "        vertical-align: top;\n",
       "    }\n",
       "\n",
       "    .dataframe thead th {\n",
       "        text-align: right;\n",
       "    }\n",
       "</style>\n",
       "<table border=\"1\" class=\"dataframe\">\n",
       "  <thead>\n",
       "    <tr style=\"text-align: right;\">\n",
       "      <th></th>\n",
       "      <th>yU_1</th>\n",
       "      <th>yU_2</th>\n",
       "      <th>yU_3</th>\n",
       "      <th>yU_4</th>\n",
       "      <th>yU_5</th>\n",
       "      <th>yU_6</th>\n",
       "      <th>yU_7</th>\n",
       "      <th>yU_8</th>\n",
       "      <th>yU_9</th>\n",
       "      <th>yU_10</th>\n",
       "      <th>...</th>\n",
       "      <th>yL_90</th>\n",
       "      <th>yL_91</th>\n",
       "      <th>yL_92</th>\n",
       "      <th>yL_93</th>\n",
       "      <th>yL_94</th>\n",
       "      <th>yL_95</th>\n",
       "      <th>yL_96</th>\n",
       "      <th>yL_97</th>\n",
       "      <th>yL_98</th>\n",
       "      <th>yL_99</th>\n",
       "    </tr>\n",
       "  </thead>\n",
       "  <tbody>\n",
       "    <tr>\n",
       "      <th>0</th>\n",
       "      <td>0.000052</td>\n",
       "      <td>0.000207</td>\n",
       "      <td>0.000466</td>\n",
       "      <td>0.000828</td>\n",
       "      <td>0.001293</td>\n",
       "      <td>0.001860</td>\n",
       "      <td>0.002528</td>\n",
       "      <td>0.003298</td>\n",
       "      <td>0.004166</td>\n",
       "      <td>0.005133</td>\n",
       "      <td>...</td>\n",
       "      <td>0.002838</td>\n",
       "      <td>0.002308</td>\n",
       "      <td>0.001830</td>\n",
       "      <td>0.001406</td>\n",
       "      <td>0.001036</td>\n",
       "      <td>0.000721</td>\n",
       "      <td>0.000462</td>\n",
       "      <td>0.000261</td>\n",
       "      <td>0.000116</td>\n",
       "      <td>0.000029</td>\n",
       "    </tr>\n",
       "    <tr>\n",
       "      <th>1</th>\n",
       "      <td>0.000059</td>\n",
       "      <td>0.000235</td>\n",
       "      <td>0.000529</td>\n",
       "      <td>0.000938</td>\n",
       "      <td>0.001461</td>\n",
       "      <td>0.002096</td>\n",
       "      <td>0.002840</td>\n",
       "      <td>0.003691</td>\n",
       "      <td>0.004645</td>\n",
       "      <td>0.005697</td>\n",
       "      <td>...</td>\n",
       "      <td>0.001694</td>\n",
       "      <td>0.001380</td>\n",
       "      <td>0.001096</td>\n",
       "      <td>0.000843</td>\n",
       "      <td>0.000622</td>\n",
       "      <td>0.000433</td>\n",
       "      <td>0.000278</td>\n",
       "      <td>0.000157</td>\n",
       "      <td>0.000070</td>\n",
       "      <td>0.000017</td>\n",
       "    </tr>\n",
       "    <tr>\n",
       "      <th>2</th>\n",
       "      <td>0.000051</td>\n",
       "      <td>0.000204</td>\n",
       "      <td>0.000462</td>\n",
       "      <td>0.000829</td>\n",
       "      <td>0.001308</td>\n",
       "      <td>0.001905</td>\n",
       "      <td>0.002625</td>\n",
       "      <td>0.003470</td>\n",
       "      <td>0.004443</td>\n",
       "      <td>0.005543</td>\n",
       "      <td>...</td>\n",
       "      <td>0.001289</td>\n",
       "      <td>0.001060</td>\n",
       "      <td>0.000852</td>\n",
       "      <td>0.000664</td>\n",
       "      <td>0.000497</td>\n",
       "      <td>0.000351</td>\n",
       "      <td>0.000228</td>\n",
       "      <td>0.000130</td>\n",
       "      <td>0.000058</td>\n",
       "      <td>0.000015</td>\n",
       "    </tr>\n",
       "    <tr>\n",
       "      <th>3</th>\n",
       "      <td>0.000026</td>\n",
       "      <td>0.000105</td>\n",
       "      <td>0.000236</td>\n",
       "      <td>0.000420</td>\n",
       "      <td>0.000656</td>\n",
       "      <td>0.000943</td>\n",
       "      <td>0.001282</td>\n",
       "      <td>0.001669</td>\n",
       "      <td>0.002104</td>\n",
       "      <td>0.002581</td>\n",
       "      <td>...</td>\n",
       "      <td>-0.000372</td>\n",
       "      <td>-0.000303</td>\n",
       "      <td>-0.000240</td>\n",
       "      <td>-0.000185</td>\n",
       "      <td>-0.000137</td>\n",
       "      <td>-0.000096</td>\n",
       "      <td>-0.000062</td>\n",
       "      <td>-0.000035</td>\n",
       "      <td>-0.000016</td>\n",
       "      <td>-0.000004</td>\n",
       "    </tr>\n",
       "    <tr>\n",
       "      <th>4</th>\n",
       "      <td>0.000024</td>\n",
       "      <td>0.000095</td>\n",
       "      <td>0.000213</td>\n",
       "      <td>0.000380</td>\n",
       "      <td>0.000593</td>\n",
       "      <td>0.000854</td>\n",
       "      <td>0.001162</td>\n",
       "      <td>0.001514</td>\n",
       "      <td>0.001910</td>\n",
       "      <td>0.002347</td>\n",
       "      <td>...</td>\n",
       "      <td>-0.000223</td>\n",
       "      <td>-0.000178</td>\n",
       "      <td>-0.000138</td>\n",
       "      <td>-0.000103</td>\n",
       "      <td>-0.000073</td>\n",
       "      <td>-0.000050</td>\n",
       "      <td>-0.000031</td>\n",
       "      <td>-0.000017</td>\n",
       "      <td>-0.000007</td>\n",
       "      <td>-0.000002</td>\n",
       "    </tr>\n",
       "  </tbody>\n",
       "</table>\n",
       "<p>5 rows × 198 columns</p>\n",
       "</div>"
      ],
      "text/plain": [
       "       yU_1      yU_2      yU_3      yU_4      yU_5      yU_6      yU_7  \\\n",
       "0  0.000052  0.000207  0.000466  0.000828  0.001293  0.001860  0.002528   \n",
       "1  0.000059  0.000235  0.000529  0.000938  0.001461  0.002096  0.002840   \n",
       "2  0.000051  0.000204  0.000462  0.000829  0.001308  0.001905  0.002625   \n",
       "3  0.000026  0.000105  0.000236  0.000420  0.000656  0.000943  0.001282   \n",
       "4  0.000024  0.000095  0.000213  0.000380  0.000593  0.000854  0.001162   \n",
       "\n",
       "       yU_8      yU_9     yU_10  ...     yL_90     yL_91     yL_92     yL_93  \\\n",
       "0  0.003298  0.004166  0.005133  ...  0.002838  0.002308  0.001830  0.001406   \n",
       "1  0.003691  0.004645  0.005697  ...  0.001694  0.001380  0.001096  0.000843   \n",
       "2  0.003470  0.004443  0.005543  ...  0.001289  0.001060  0.000852  0.000664   \n",
       "3  0.001669  0.002104  0.002581  ... -0.000372 -0.000303 -0.000240 -0.000185   \n",
       "4  0.001514  0.001910  0.002347  ... -0.000223 -0.000178 -0.000138 -0.000103   \n",
       "\n",
       "      yL_94     yL_95     yL_96     yL_97     yL_98     yL_99  \n",
       "0  0.001036  0.000721  0.000462  0.000261  0.000116  0.000029  \n",
       "1  0.000622  0.000433  0.000278  0.000157  0.000070  0.000017  \n",
       "2  0.000497  0.000351  0.000228  0.000130  0.000058  0.000015  \n",
       "3 -0.000137 -0.000096 -0.000062 -0.000035 -0.000016 -0.000004  \n",
       "4 -0.000073 -0.000050 -0.000031 -0.000017 -0.000007 -0.000002  \n",
       "\n",
       "[5 rows x 198 columns]"
      ]
     },
     "execution_count": 4,
     "metadata": {},
     "output_type": "execute_result"
    }
   ],
   "source": [
    "# Define input dataset (.csv) name and path\n",
    "data_folder = './data/'\n",
    "dataset_name = 'NACA4Digit_Dataset15Point.csv'\n",
    "dataset_name = 'UIUC_dataset_198p.csv'\n",
    "\n",
    "# Import dataset\n",
    "airfoil_df = pd.read_csv(data_folder + dataset_name)\n",
    "try:\n",
    "    airfoil_df = airfoil_df.drop('Unnamed: 0', axis=1)    # Remove first column, counter\n",
    "except: pass\n",
    "num_coords = int(sum([1 for col in airfoil_df if col.startswith('y')]))\n",
    "print(f'Number of airfoil coordinates: {num_coords}')\n",
    "airfoil_df = airfoil_df.drop_duplicates(subset=['yU_1'], keep='first')    # Remove duplicate airfoil coordinates\n",
    "\n",
    "airfoil_df.head()"
   ]
  },
  {
   "cell_type": "code",
   "execution_count": 5,
   "metadata": {},
   "outputs": [
    {
     "name": "stdout",
     "output_type": "stream",
     "text": [
      "Shape of X [N, C, H, W]: torch.Size([256, 198]) torch.float32\n",
      "Shape of y: torch.Size([256, 198]) torch.float32\n"
     ]
    },
    {
     "name": "stderr",
     "output_type": "stream",
     "text": [
      "C:\\Users\\Roman\\anaconda3\\envs\\pytorch19\\lib\\site-packages\\sklearn\\base.py:450: UserWarning: X does not have valid feature names, but MinMaxScaler was fitted with feature names\n",
      "  warnings.warn(\n"
     ]
    }
   ],
   "source": [
    "# Data scaler fitting\n",
    "scaler = MinMaxScaler()\n",
    "scaler.fit(airfoil_df)\n",
    "\n",
    "# Assemble a DataFrame with all the minimum and maximum values of each column\n",
    "# For normalization and de-normalization. Gives an idea of the bounds.\n",
    "scaler_bounds = pd.DataFrame(data = np.stack([scaler.feature_names_in_, scaler.data_min_, scaler.data_max_], axis=1), columns=['property', 'min', 'max'])\n",
    "\n",
    "# Data normalization\n",
    "airfoil_df_norm = normalize_data(airfoil_df, scaler)\n",
    "\n",
    "# Input and \"output\" features\n",
    "# Input and output features are both the same for this dataset.\n",
    "try:\n",
    "    X = airfoil_df_norm.drop(['Cl', 'Cd', 'Cm', 'ReynoldsNumber', 'MachNumber', 'alpha'], axis=1).values\n",
    "except: \n",
    "    X = airfoil_df_norm.values\n",
    "\n",
    "# Data tensors\n",
    "training_data, test_data = torch_test_split(X, X, test_size=0.2)\n",
    "\n",
    "# Data loaders\n",
    "batch_size = 256\n",
    "\n",
    "train_dataloader = DataLoader(training_data, batch_size=batch_size)\n",
    "test_dataloader = DataLoader(test_data, batch_size=batch_size)\n",
    "\n",
    "for X, y in test_dataloader:\n",
    "    print(f\"Shape of X [N, C, H, W]: {X.shape} {y.dtype}\")\n",
    "    print(f\"Shape of y: {y.shape} {y.dtype}\")\n",
    "    break"
   ]
  },
  {
   "cell_type": "markdown",
   "metadata": {},
   "source": [
    "### 1.2 Architectural search\n",
    "First, we will look for the most optimal architecture for our VAE network."
   ]
  },
  {
   "cell_type": "code",
   "execution_count": 6,
   "metadata": {},
   "outputs": [],
   "source": [
    "# Helper functions\n",
    "def generate_VAE(trial):\n",
    "    \"\"\"\n",
    "    Assemble a Variational Autoencoder with the parameters defined in the trial object.\n",
    "    Inputs:\n",
    "        - trial: trial object from Optuna. It generates the parameters for the network.\n",
    "    Outputs:\n",
    "        - model: VAE model with an architecture suggested by the trial object.\n",
    "    \"\"\"\n",
    "\n",
    "    # --- VAE parameters ---\n",
    "    device = 'cuda'\n",
    "    latent_dims = 4\n",
    "    in_channels = 198\n",
    "\n",
    "    hidden_dims = []\n",
    "    n_layers = trial.suggest_int('n_layers', 2, 3)\n",
    "    \n",
    "    for i in range(n_layers):\n",
    "        out_features = trial.suggest_int(f'n_units_l{i}', 128, 1024)\n",
    "        hidden_dims.append(out_features)\n",
    "\n",
    "    model = AirfoilVAE(in_channels = in_channels,\n",
    "                       latent_dim = latent_dims,\n",
    "                       hidden_dims = hidden_dims).to(device)\n",
    "    print(f\"Model architecture: {hidden_dims}\")\n",
    "    return model, hidden_dims\n",
    "\n",
    "def train(dataloader, model, loss_fn, optimizer, epochs = 1):\n",
    "    \"\"\"\n",
    "    Train the input model on the input dataloader.\n",
    "    Inputs:\n",
    "        - Dataloader: a PyTorch DataLoader object.\n",
    "        - model: a PyTorch neural network model object.\n",
    "        - loss_fn: a PyTorch loss function object.\n",
    "        - optimizer: a PyTorch optimizer object.\n",
    "        - [Optional, int] epochs: number of epochs to train the model.\n",
    "    \"\"\"\n",
    "    for t in range(epochs):\n",
    "        kld_weight_coef = 5e-6\n",
    "        kld_weight = kld_weight_coef*(t/20 if t/20 <= 1 else 1)\n",
    "        model.train()\n",
    "        for batch, (X, y) in enumerate(dataloader):\n",
    "            X, y = X.to(device), y.to(device)\n",
    "\n",
    "            # Compute prediction error\n",
    "            pred = model(X)\n",
    "            loss = loss_fn(pred, weight = kld_weight)\n",
    "\n",
    "            # Backpropagation\n",
    "            optimizer.zero_grad()\n",
    "            loss['loss'].backward()\n",
    "            optimizer.step()\n",
    "            \n",
    "def test(model): \n",
    "    \"\"\"\n",
    "    Calculate the input model FID with respect to the training dataset.\n",
    "    Inputs:\n",
    "        - model: a PyTorch neural network model object.\n",
    "    Outputs:\n",
    "        - fid: model FID with respect to the training dataset.\n",
    "    \"\"\"\n",
    "    sampled_norm = model.sample(10000, 'cuda', std_coef = 1)\n",
    "    sampled = denormalize_data(sampled_norm.detach().cpu().numpy(),scaler)\n",
    "    fid = compute_fid(airfoil_df.to_numpy(), sampled)\n",
    "    \n",
    "    print(f\"Model FID: {fid} \\n\")\n",
    "    return fid"
   ]
  },
  {
   "cell_type": "code",
   "execution_count": 7,
   "metadata": {},
   "outputs": [],
   "source": [
    "# Objective function\n",
    "def objective(trial):\n",
    "    \"\"\"\n",
    "    Objective function. Takes a trial object that generates a MLP model architecture and outputs the test (validation) set RMSE.\n",
    "    \"\"\"\n",
    "    start_time = time.time()\n",
    "    model, hidden_dims = generate_VAE(trial)\n",
    "    optimizer = torch.optim.Adam(model.parameters(), lr=0.0005, betas=(0.9, 0.999), eps=1e-08, weight_decay=0)\n",
    "    train(train_dataloader, model, model.loss_function, optimizer, epochs = 5000)\n",
    "    fid = test(model)\n",
    "    with open('./hyperopt/hyperopt_results.txt', 'a') as f:\n",
    "        f.write(f\"|{trial.number:^9}|{str(hidden_dims):^20}|{fid:^17.6f}|{time.time()-start_time:^19.1f}|\\n\")\n",
    "    return fid"
   ]
  },
  {
   "cell_type": "code",
   "execution_count": 8,
   "metadata": {},
   "outputs": [
    {
     "name": "stderr",
     "output_type": "stream",
     "text": [
      "\u001b[32m[I 2022-05-23 19:38:01,637]\u001b[0m A new study created in memory with name: no-name-97ed4e8f-0085-458c-bf23-1907d46aa0c7\u001b[0m\n"
     ]
    },
    {
     "name": "stdout",
     "output_type": "stream",
     "text": [
      "Sampler is TPESampler\n",
      "Pruner is HyperbandPruner\n"
     ]
    }
   ],
   "source": [
    "# Create a study object\n",
    "study = optuna.create_study(direction='minimize', pruner=optuna.pruners.HyperbandPruner())\n",
    "\n",
    "print(f\"Sampler is {study.sampler.__class__.__name__}\")\n",
    "print(f\"Pruner is {study.pruner.__class__.__name__}\")"
   ]
  },
  {
   "cell_type": "code",
   "execution_count": 11,
   "metadata": {},
   "outputs": [
    {
     "name": "stdout",
     "output_type": "stream",
     "text": [
      "Model architecture: [729, 209, 163]\n"
     ]
    },
    {
     "name": "stderr",
     "output_type": "stream",
     "text": [
      "\u001b[32m[I 2022-05-24 00:23:25,043]\u001b[0m Trial 200 finished with value: 0.0010552207003293014 and parameters: {'n_layers': 3, 'n_units_l0': 163, 'n_units_l1': 209, 'n_units_l2': 729}. Best is trial 110 with value: 0.0007873166198468978.\u001b[0m\n"
     ]
    },
    {
     "name": "stdout",
     "output_type": "stream",
     "text": [
      "Model FID: 0.0010552207003293014 \n",
      "\n",
      "Model architecture: [688, 142, 256]\n"
     ]
    },
    {
     "name": "stderr",
     "output_type": "stream",
     "text": [
      "\u001b[32m[I 2022-05-24 00:24:40,972]\u001b[0m Trial 201 finished with value: 0.0010413655791750463 and parameters: {'n_layers': 3, 'n_units_l0': 256, 'n_units_l1': 142, 'n_units_l2': 688}. Best is trial 110 with value: 0.0007873166198468978.\u001b[0m\n"
     ]
    },
    {
     "name": "stdout",
     "output_type": "stream",
     "text": [
      "Model FID: 0.0010413655791750463 \n",
      "\n",
      "Model architecture: [692, 149, 254]\n"
     ]
    },
    {
     "name": "stderr",
     "output_type": "stream",
     "text": [
      "\u001b[32m[I 2022-05-24 00:25:56,541]\u001b[0m Trial 202 finished with value: 0.22508504808795202 and parameters: {'n_layers': 3, 'n_units_l0': 254, 'n_units_l1': 149, 'n_units_l2': 692}. Best is trial 110 with value: 0.0007873166198468978.\u001b[0m\n"
     ]
    },
    {
     "name": "stdout",
     "output_type": "stream",
     "text": [
      "Model FID: 0.22508504808795202 \n",
      "\n",
      "Model architecture: [680, 176, 211]\n"
     ]
    },
    {
     "name": "stderr",
     "output_type": "stream",
     "text": [
      "\u001b[32m[I 2022-05-24 00:27:11,851]\u001b[0m Trial 203 finished with value: 0.001021489751977731 and parameters: {'n_layers': 3, 'n_units_l0': 211, 'n_units_l1': 176, 'n_units_l2': 680}. Best is trial 110 with value: 0.0007873166198468978.\u001b[0m\n"
     ]
    },
    {
     "name": "stdout",
     "output_type": "stream",
     "text": [
      "Model FID: 0.001021489751977731 \n",
      "\n",
      "Model architecture: [665, 178, 218]\n"
     ]
    },
    {
     "name": "stderr",
     "output_type": "stream",
     "text": [
      "\u001b[32m[I 2022-05-24 00:28:27,343]\u001b[0m Trial 204 finished with value: 0.0013565718241074312 and parameters: {'n_layers': 3, 'n_units_l0': 218, 'n_units_l1': 178, 'n_units_l2': 665}. Best is trial 110 with value: 0.0007873166198468978.\u001b[0m\n"
     ]
    },
    {
     "name": "stdout",
     "output_type": "stream",
     "text": [
      "Model FID: 0.0013565718241074312 \n",
      "\n",
      "Model architecture: [688, 128, 243]\n"
     ]
    },
    {
     "name": "stderr",
     "output_type": "stream",
     "text": [
      "\u001b[32m[I 2022-05-24 00:29:42,705]\u001b[0m Trial 205 finished with value: 0.0011241712752782947 and parameters: {'n_layers': 3, 'n_units_l0': 243, 'n_units_l1': 128, 'n_units_l2': 688}. Best is trial 110 with value: 0.0007873166198468978.\u001b[0m\n"
     ]
    },
    {
     "name": "stdout",
     "output_type": "stream",
     "text": [
      "Model FID: 0.0011241712752782947 \n",
      "\n",
      "Model architecture: [677, 189, 226]\n"
     ]
    },
    {
     "name": "stderr",
     "output_type": "stream",
     "text": [
      "\u001b[32m[I 2022-05-24 00:30:57,941]\u001b[0m Trial 206 finished with value: 0.013222669964252531 and parameters: {'n_layers': 3, 'n_units_l0': 226, 'n_units_l1': 189, 'n_units_l2': 677}. Best is trial 110 with value: 0.0007873166198468978.\u001b[0m\n"
     ]
    },
    {
     "name": "stdout",
     "output_type": "stream",
     "text": [
      "Model FID: 0.013222669964252531 \n",
      "\n",
      "Model architecture: [647, 173, 261]\n"
     ]
    },
    {
     "name": "stderr",
     "output_type": "stream",
     "text": [
      "\u001b[32m[I 2022-05-24 00:32:13,104]\u001b[0m Trial 207 finished with value: 9.225362794050119 and parameters: {'n_layers': 3, 'n_units_l0': 261, 'n_units_l1': 173, 'n_units_l2': 647}. Best is trial 110 with value: 0.0007873166198468978.\u001b[0m\n"
     ]
    },
    {
     "name": "stdout",
     "output_type": "stream",
     "text": [
      "Model FID: 9.225362794050119 \n",
      "\n",
      "Model architecture: [829, 150, 273]\n"
     ]
    },
    {
     "name": "stderr",
     "output_type": "stream",
     "text": [
      "\u001b[32m[I 2022-05-24 00:33:27,716]\u001b[0m Trial 208 finished with value: 0.0010827453498116768 and parameters: {'n_layers': 3, 'n_units_l0': 273, 'n_units_l1': 150, 'n_units_l2': 829}. Best is trial 110 with value: 0.0007873166198468978.\u001b[0m\n"
     ]
    },
    {
     "name": "stdout",
     "output_type": "stream",
     "text": [
      "Model FID: 0.0010827453498116768 \n",
      "\n",
      "Model architecture: [739, 206, 210]\n"
     ]
    },
    {
     "name": "stderr",
     "output_type": "stream",
     "text": [
      "\u001b[32m[I 2022-05-24 00:34:42,625]\u001b[0m Trial 209 finished with value: 0.16094216082513807 and parameters: {'n_layers': 3, 'n_units_l0': 210, 'n_units_l1': 206, 'n_units_l2': 739}. Best is trial 110 with value: 0.0007873166198468978.\u001b[0m\n"
     ]
    },
    {
     "name": "stdout",
     "output_type": "stream",
     "text": [
      "Model FID: 0.16094216082513807 \n",
      "\n",
      "Model architecture: [317, 245, 243]\n"
     ]
    },
    {
     "name": "stderr",
     "output_type": "stream",
     "text": [
      "\u001b[32m[I 2022-05-24 00:35:55,511]\u001b[0m Trial 210 finished with value: 0.005177539432661668 and parameters: {'n_layers': 3, 'n_units_l0': 243, 'n_units_l1': 245, 'n_units_l2': 317}. Best is trial 110 with value: 0.0007873166198468978.\u001b[0m\n"
     ]
    },
    {
     "name": "stdout",
     "output_type": "stream",
     "text": [
      "Model FID: 0.005177539432661668 \n",
      "\n",
      "Model architecture: [719, 164, 181]\n"
     ]
    },
    {
     "name": "stderr",
     "output_type": "stream",
     "text": [
      "\u001b[32m[I 2022-05-24 00:37:10,703]\u001b[0m Trial 211 finished with value: 0.0012519634185392623 and parameters: {'n_layers': 3, 'n_units_l0': 181, 'n_units_l1': 164, 'n_units_l2': 719}. Best is trial 110 with value: 0.0007873166198468978.\u001b[0m\n"
     ]
    },
    {
     "name": "stdout",
     "output_type": "stream",
     "text": [
      "Model FID: 0.0012519634185392623 \n",
      "\n",
      "Model architecture: [670, 150, 197]\n"
     ]
    },
    {
     "name": "stderr",
     "output_type": "stream",
     "text": [
      "\u001b[32m[I 2022-05-24 00:38:25,610]\u001b[0m Trial 212 finished with value: 0.0007379003873216501 and parameters: {'n_layers': 3, 'n_units_l0': 197, 'n_units_l1': 150, 'n_units_l2': 670}. Best is trial 212 with value: 0.0007379003873216501.\u001b[0m\n"
     ]
    },
    {
     "name": "stdout",
     "output_type": "stream",
     "text": [
      "Model FID: 0.0007379003873216501 \n",
      "\n",
      "Model architecture: [671, 142, 201]\n"
     ]
    },
    {
     "name": "stderr",
     "output_type": "stream",
     "text": [
      "\u001b[32m[I 2022-05-24 00:39:40,543]\u001b[0m Trial 213 finished with value: 0.001562344056942186 and parameters: {'n_layers': 3, 'n_units_l0': 201, 'n_units_l1': 142, 'n_units_l2': 671}. Best is trial 212 with value: 0.0007379003873216501.\u001b[0m\n"
     ]
    },
    {
     "name": "stdout",
     "output_type": "stream",
     "text": [
      "Model FID: 0.001562344056942186 \n",
      "\n",
      "Model architecture: [370, 184, 234]\n"
     ]
    },
    {
     "name": "stderr",
     "output_type": "stream",
     "text": [
      "\u001b[32m[I 2022-05-24 00:40:55,567]\u001b[0m Trial 214 finished with value: 0.001499025802591485 and parameters: {'n_layers': 3, 'n_units_l0': 234, 'n_units_l1': 184, 'n_units_l2': 370}. Best is trial 212 with value: 0.0007379003873216501.\u001b[0m\n"
     ]
    },
    {
     "name": "stdout",
     "output_type": "stream",
     "text": [
      "Model FID: 0.001499025802591485 \n",
      "\n",
      "Model architecture: [796, 142, 256]\n"
     ]
    },
    {
     "name": "stderr",
     "output_type": "stream",
     "text": [
      "\u001b[32m[I 2022-05-24 00:42:10,730]\u001b[0m Trial 215 finished with value: 0.33710458789533104 and parameters: {'n_layers': 3, 'n_units_l0': 256, 'n_units_l1': 142, 'n_units_l2': 796}. Best is trial 212 with value: 0.0007379003873216501.\u001b[0m\n"
     ]
    },
    {
     "name": "stdout",
     "output_type": "stream",
     "text": [
      "Model FID: 0.33710458789533104 \n",
      "\n",
      "Model architecture: [870, 128, 283]\n"
     ]
    },
    {
     "name": "stderr",
     "output_type": "stream",
     "text": [
      "\u001b[32m[I 2022-05-24 00:43:25,849]\u001b[0m Trial 216 finished with value: 0.0014040228092110263 and parameters: {'n_layers': 3, 'n_units_l0': 283, 'n_units_l1': 128, 'n_units_l2': 870}. Best is trial 212 with value: 0.0007379003873216501.\u001b[0m\n"
     ]
    },
    {
     "name": "stdout",
     "output_type": "stream",
     "text": [
      "Model FID: 0.0014040228092110263 \n",
      "\n",
      "Model architecture: [662, 164, 227]\n"
     ]
    },
    {
     "name": "stderr",
     "output_type": "stream",
     "text": [
      "\u001b[32m[I 2022-05-24 00:44:41,135]\u001b[0m Trial 217 finished with value: 0.0013742023757255027 and parameters: {'n_layers': 3, 'n_units_l0': 227, 'n_units_l1': 164, 'n_units_l2': 662}. Best is trial 212 with value: 0.0007379003873216501.\u001b[0m\n"
     ]
    },
    {
     "name": "stdout",
     "output_type": "stream",
     "text": [
      "Model FID: 0.0013742023757255027 \n",
      "\n",
      "Model architecture: [639, 188, 268]\n"
     ]
    },
    {
     "name": "stderr",
     "output_type": "stream",
     "text": [
      "\u001b[32m[I 2022-05-24 00:45:55,134]\u001b[0m Trial 218 finished with value: 1.2890156245171003 and parameters: {'n_layers': 3, 'n_units_l0': 268, 'n_units_l1': 188, 'n_units_l2': 639}. Best is trial 212 with value: 0.0007379003873216501.\u001b[0m\n"
     ]
    },
    {
     "name": "stdout",
     "output_type": "stream",
     "text": [
      "Model FID: 1.2890156245171003 \n",
      "\n",
      "Model architecture: [289, 155, 203]\n"
     ]
    },
    {
     "name": "stderr",
     "output_type": "stream",
     "text": [
      "\u001b[32m[I 2022-05-24 00:47:09,683]\u001b[0m Trial 219 finished with value: 0.0010440048119957728 and parameters: {'n_layers': 3, 'n_units_l0': 203, 'n_units_l1': 155, 'n_units_l2': 289}. Best is trial 212 with value: 0.0007379003873216501.\u001b[0m\n"
     ]
    },
    {
     "name": "stdout",
     "output_type": "stream",
     "text": [
      "Model FID: 0.0010440048119957728 \n",
      "\n",
      "Model architecture: [687, 171, 298]\n"
     ]
    },
    {
     "name": "stderr",
     "output_type": "stream",
     "text": [
      "\u001b[32m[I 2022-05-24 00:48:24,827]\u001b[0m Trial 220 finished with value: 0.0011405672897582674 and parameters: {'n_layers': 3, 'n_units_l0': 298, 'n_units_l1': 171, 'n_units_l2': 687}. Best is trial 212 with value: 0.0007379003873216501.\u001b[0m\n"
     ]
    },
    {
     "name": "stdout",
     "output_type": "stream",
     "text": [
      "Model FID: 0.0011405672897582674 \n",
      "\n",
      "Model architecture: [303, 150, 151]\n"
     ]
    },
    {
     "name": "stderr",
     "output_type": "stream",
     "text": [
      "\u001b[32m[I 2022-05-24 00:49:39,503]\u001b[0m Trial 221 finished with value: 0.0016415438033542352 and parameters: {'n_layers': 3, 'n_units_l0': 151, 'n_units_l1': 150, 'n_units_l2': 303}. Best is trial 212 with value: 0.0007379003873216501.\u001b[0m\n"
     ]
    },
    {
     "name": "stdout",
     "output_type": "stream",
     "text": [
      "Model FID: 0.0016415438033542352 \n",
      "\n",
      "Model architecture: [260, 157, 211]\n"
     ]
    },
    {
     "name": "stderr",
     "output_type": "stream",
     "text": [
      "\u001b[32m[I 2022-05-24 00:50:53,592]\u001b[0m Trial 222 finished with value: 0.00124962441606625 and parameters: {'n_layers': 3, 'n_units_l0': 211, 'n_units_l1': 157, 'n_units_l2': 260}. Best is trial 212 with value: 0.0007379003873216501.\u001b[0m\n"
     ]
    },
    {
     "name": "stdout",
     "output_type": "stream",
     "text": [
      "Model FID: 0.00124962441606625 \n",
      "\n",
      "Model architecture: [274, 178, 202]\n"
     ]
    },
    {
     "name": "stderr",
     "output_type": "stream",
     "text": [
      "\u001b[32m[I 2022-05-24 00:52:08,226]\u001b[0m Trial 223 finished with value: 0.0020677800005846807 and parameters: {'n_layers': 3, 'n_units_l0': 202, 'n_units_l1': 178, 'n_units_l2': 274}. Best is trial 212 with value: 0.0007379003873216501.\u001b[0m\n"
     ]
    },
    {
     "name": "stdout",
     "output_type": "stream",
     "text": [
      "Model FID: 0.0020677800005846807 \n",
      "\n",
      "Model architecture: [292, 156, 992]\n"
     ]
    },
    {
     "name": "stderr",
     "output_type": "stream",
     "text": [
      "\u001b[32m[I 2022-05-24 00:53:19,365]\u001b[0m Trial 224 finished with value: 0.2755637279573636 and parameters: {'n_layers': 3, 'n_units_l0': 992, 'n_units_l1': 156, 'n_units_l2': 292}. Best is trial 212 with value: 0.0007379003873216501.\u001b[0m\n"
     ]
    },
    {
     "name": "stdout",
     "output_type": "stream",
     "text": [
      "Model FID: 0.2755637279573636 \n",
      "\n",
      "Model architecture: [705, 128, 173]\n"
     ]
    },
    {
     "name": "stderr",
     "output_type": "stream",
     "text": [
      "\u001b[32m[I 2022-05-24 00:54:34,648]\u001b[0m Trial 225 finished with value: 0.001204082673426349 and parameters: {'n_layers': 3, 'n_units_l0': 173, 'n_units_l1': 128, 'n_units_l2': 705}. Best is trial 212 with value: 0.0007379003873216501.\u001b[0m\n"
     ]
    },
    {
     "name": "stdout",
     "output_type": "stream",
     "text": [
      "Model FID: 0.001204082673426349 \n",
      "\n",
      "Model architecture: [479, 194, 248]\n"
     ]
    },
    {
     "name": "stderr",
     "output_type": "stream",
     "text": [
      "\u001b[32m[I 2022-05-24 00:55:49,113]\u001b[0m Trial 226 finished with value: 0.0010443518781784256 and parameters: {'n_layers': 3, 'n_units_l0': 248, 'n_units_l1': 194, 'n_units_l2': 479}. Best is trial 212 with value: 0.0007379003873216501.\u001b[0m\n"
     ]
    },
    {
     "name": "stdout",
     "output_type": "stream",
     "text": [
      "Model FID: 0.0010443518781784256 \n",
      "\n",
      "Model architecture: [354, 146, 228]\n"
     ]
    },
    {
     "name": "stderr",
     "output_type": "stream",
     "text": [
      "\u001b[32m[I 2022-05-24 00:57:03,349]\u001b[0m Trial 227 finished with value: 0.0009355311455171172 and parameters: {'n_layers': 3, 'n_units_l0': 228, 'n_units_l1': 146, 'n_units_l2': 354}. Best is trial 212 with value: 0.0007379003873216501.\u001b[0m\n"
     ]
    },
    {
     "name": "stdout",
     "output_type": "stream",
     "text": [
      "Model FID: 0.0009355311455171172 \n",
      "\n",
      "Model architecture: [348, 143, 233]\n"
     ]
    },
    {
     "name": "stderr",
     "output_type": "stream",
     "text": [
      "\u001b[32m[I 2022-05-24 00:58:17,212]\u001b[0m Trial 228 finished with value: 0.0011312973992918716 and parameters: {'n_layers': 3, 'n_units_l0': 233, 'n_units_l1': 143, 'n_units_l2': 348}. Best is trial 212 with value: 0.0007379003873216501.\u001b[0m\n"
     ]
    },
    {
     "name": "stdout",
     "output_type": "stream",
     "text": [
      "Model FID: 0.0011312973992918716 \n",
      "\n",
      "Model architecture: [408, 171, 259]\n"
     ]
    },
    {
     "name": "stderr",
     "output_type": "stream",
     "text": [
      "\u001b[32m[I 2022-05-24 00:59:32,562]\u001b[0m Trial 229 finished with value: 0.0009784590432115406 and parameters: {'n_layers': 3, 'n_units_l0': 259, 'n_units_l1': 171, 'n_units_l2': 408}. Best is trial 212 with value: 0.0007379003873216501.\u001b[0m\n"
     ]
    },
    {
     "name": "stdout",
     "output_type": "stream",
     "text": [
      "Model FID: 0.0009784590432115406 \n",
      "\n",
      "Model architecture: [409, 178, 317]\n"
     ]
    },
    {
     "name": "stderr",
     "output_type": "stream",
     "text": [
      "\u001b[32m[I 2022-05-24 01:00:47,739]\u001b[0m Trial 230 finished with value: 0.0015016105531175572 and parameters: {'n_layers': 3, 'n_units_l0': 317, 'n_units_l1': 178, 'n_units_l2': 409}. Best is trial 212 with value: 0.0007379003873216501.\u001b[0m\n"
     ]
    },
    {
     "name": "stdout",
     "output_type": "stream",
     "text": [
      "Model FID: 0.0015016105531175572 \n",
      "\n",
      "Model architecture: [442, 169, 260]\n"
     ]
    },
    {
     "name": "stderr",
     "output_type": "stream",
     "text": [
      "\u001b[32m[I 2022-05-24 01:02:02,791]\u001b[0m Trial 231 finished with value: 0.32142595961627163 and parameters: {'n_layers': 3, 'n_units_l0': 260, 'n_units_l1': 169, 'n_units_l2': 442}. Best is trial 212 with value: 0.0007379003873216501.\u001b[0m\n"
     ]
    },
    {
     "name": "stdout",
     "output_type": "stream",
     "text": [
      "Model FID: 0.32142595961627163 \n",
      "\n",
      "Model architecture: [430, 142, 279]\n"
     ]
    },
    {
     "name": "stderr",
     "output_type": "stream",
     "text": [
      "\u001b[32m[I 2022-05-24 01:03:17,611]\u001b[0m Trial 232 finished with value: 0.0008314593980369524 and parameters: {'n_layers': 3, 'n_units_l0': 279, 'n_units_l1': 142, 'n_units_l2': 430}. Best is trial 212 with value: 0.0007379003873216501.\u001b[0m\n"
     ]
    },
    {
     "name": "stdout",
     "output_type": "stream",
     "text": [
      "Model FID: 0.0008314593980369524 \n",
      "\n",
      "Model architecture: [425, 203, 272]\n"
     ]
    },
    {
     "name": "stderr",
     "output_type": "stream",
     "text": [
      "\u001b[32m[I 2022-05-24 01:04:31,999]\u001b[0m Trial 233 finished with value: 0.0008474299446754533 and parameters: {'n_layers': 3, 'n_units_l0': 272, 'n_units_l1': 203, 'n_units_l2': 425}. Best is trial 212 with value: 0.0007379003873216501.\u001b[0m\n"
     ]
    },
    {
     "name": "stdout",
     "output_type": "stream",
     "text": [
      "Model FID: 0.0008474299446754533 \n",
      "\n",
      "Model architecture: [388, 225, 285]\n"
     ]
    },
    {
     "name": "stderr",
     "output_type": "stream",
     "text": [
      "\u001b[32m[I 2022-05-24 01:05:45,720]\u001b[0m Trial 234 finished with value: 0.0014454992301035025 and parameters: {'n_layers': 3, 'n_units_l0': 285, 'n_units_l1': 225, 'n_units_l2': 388}. Best is trial 212 with value: 0.0007379003873216501.\u001b[0m\n"
     ]
    },
    {
     "name": "stdout",
     "output_type": "stream",
     "text": [
      "Model FID: 0.0014454992301035025 \n",
      "\n",
      "Model architecture: [403, 326, 296]\n"
     ]
    },
    {
     "name": "stderr",
     "output_type": "stream",
     "text": [
      "\u001b[32m[I 2022-05-24 01:06:58,871]\u001b[0m Trial 235 finished with value: 0.001394425040687318 and parameters: {'n_layers': 3, 'n_units_l0': 296, 'n_units_l1': 326, 'n_units_l2': 403}. Best is trial 212 with value: 0.0007379003873216501.\u001b[0m\n"
     ]
    },
    {
     "name": "stdout",
     "output_type": "stream",
     "text": [
      "Model FID: 0.001394425040687318 \n",
      "\n",
      "Model architecture: [361, 208, 274]\n"
     ]
    },
    {
     "name": "stderr",
     "output_type": "stream",
     "text": [
      "\u001b[32m[I 2022-05-24 01:08:11,089]\u001b[0m Trial 236 finished with value: 0.0011470452453215816 and parameters: {'n_layers': 3, 'n_units_l0': 274, 'n_units_l1': 208, 'n_units_l2': 361}. Best is trial 212 with value: 0.0007379003873216501.\u001b[0m\n"
     ]
    },
    {
     "name": "stdout",
     "output_type": "stream",
     "text": [
      "Model FID: 0.0011470452453215816 \n",
      "\n",
      "Model architecture: [416, 197, 309]\n"
     ]
    },
    {
     "name": "stderr",
     "output_type": "stream",
     "text": [
      "\u001b[32m[I 2022-05-24 01:09:26,054]\u001b[0m Trial 237 finished with value: 0.0009770767419335423 and parameters: {'n_layers': 3, 'n_units_l0': 309, 'n_units_l1': 197, 'n_units_l2': 416}. Best is trial 212 with value: 0.0007379003873216501.\u001b[0m\n"
     ]
    },
    {
     "name": "stdout",
     "output_type": "stream",
     "text": [
      "Model FID: 0.0009770767419335423 \n",
      "\n",
      "Model architecture: [415, 192, 315]\n"
     ]
    },
    {
     "name": "stderr",
     "output_type": "stream",
     "text": [
      "\u001b[32m[I 2022-05-24 01:10:41,256]\u001b[0m Trial 238 finished with value: 0.09659810140867714 and parameters: {'n_layers': 3, 'n_units_l0': 315, 'n_units_l1': 192, 'n_units_l2': 415}. Best is trial 212 with value: 0.0007379003873216501.\u001b[0m\n"
     ]
    },
    {
     "name": "stdout",
     "output_type": "stream",
     "text": [
      "Model FID: 0.09659810140867714 \n",
      "\n",
      "Model architecture: [409, 205, 344]\n"
     ]
    },
    {
     "name": "stderr",
     "output_type": "stream",
     "text": [
      "\u001b[32m[I 2022-05-24 01:11:56,274]\u001b[0m Trial 239 finished with value: 0.00228846337962592 and parameters: {'n_layers': 3, 'n_units_l0': 344, 'n_units_l1': 205, 'n_units_l2': 409}. Best is trial 212 with value: 0.0007379003873216501.\u001b[0m\n"
     ]
    },
    {
     "name": "stdout",
     "output_type": "stream",
     "text": [
      "Model FID: 0.00228846337962592 \n",
      "\n",
      "Model architecture: [421, 182, 308]\n"
     ]
    },
    {
     "name": "stderr",
     "output_type": "stream",
     "text": [
      "\u001b[32m[I 2022-05-24 01:13:11,548]\u001b[0m Trial 240 finished with value: 0.0018040902842696295 and parameters: {'n_layers': 3, 'n_units_l0': 308, 'n_units_l1': 182, 'n_units_l2': 421}. Best is trial 212 with value: 0.0007379003873216501.\u001b[0m\n"
     ]
    },
    {
     "name": "stdout",
     "output_type": "stream",
     "text": [
      "Model FID: 0.0018040902842696295 \n",
      "\n",
      "Model architecture: [378, 161, 277]\n"
     ]
    },
    {
     "name": "stderr",
     "output_type": "stream",
     "text": [
      "\u001b[32m[I 2022-05-24 01:14:25,267]\u001b[0m Trial 241 finished with value: 0.0009546908502194284 and parameters: {'n_layers': 3, 'n_units_l0': 277, 'n_units_l1': 161, 'n_units_l2': 378}. Best is trial 212 with value: 0.0007379003873216501.\u001b[0m\n"
     ]
    },
    {
     "name": "stdout",
     "output_type": "stream",
     "text": [
      "Model FID: 0.0009546908502194284 \n",
      "\n",
      "Model architecture: [459, 161, 277]\n"
     ]
    },
    {
     "name": "stderr",
     "output_type": "stream",
     "text": [
      "\u001b[32m[I 2022-05-24 01:15:40,439]\u001b[0m Trial 242 finished with value: 0.0014189506211362156 and parameters: {'n_layers': 3, 'n_units_l0': 277, 'n_units_l1': 161, 'n_units_l2': 459}. Best is trial 212 with value: 0.0007379003873216501.\u001b[0m\n"
     ]
    },
    {
     "name": "stdout",
     "output_type": "stream",
     "text": [
      "Model FID: 0.0014189506211362156 \n",
      "\n",
      "Model architecture: [397, 144, 292]\n"
     ]
    },
    {
     "name": "stderr",
     "output_type": "stream",
     "text": [
      "\u001b[32m[I 2022-05-24 01:16:53,971]\u001b[0m Trial 243 finished with value: 0.0014302355489724011 and parameters: {'n_layers': 3, 'n_units_l0': 292, 'n_units_l1': 144, 'n_units_l2': 397}. Best is trial 212 with value: 0.0007379003873216501.\u001b[0m\n"
     ]
    },
    {
     "name": "stdout",
     "output_type": "stream",
     "text": [
      "Model FID: 0.0014302355489724011 \n",
      "\n",
      "Model architecture: [382, 167, 324]\n"
     ]
    },
    {
     "name": "stderr",
     "output_type": "stream",
     "text": [
      "\u001b[32m[I 2022-05-24 01:18:07,853]\u001b[0m Trial 244 finished with value: 0.0012936312014291337 and parameters: {'n_layers': 3, 'n_units_l0': 324, 'n_units_l1': 167, 'n_units_l2': 382}. Best is trial 212 with value: 0.0007379003873216501.\u001b[0m\n"
     ]
    },
    {
     "name": "stdout",
     "output_type": "stream",
     "text": [
      "Model FID: 0.0012936312014291337 \n",
      "\n",
      "Model architecture: [430, 129, 265]\n"
     ]
    },
    {
     "name": "stderr",
     "output_type": "stream",
     "text": [
      "\u001b[32m[I 2022-05-24 01:19:22,785]\u001b[0m Trial 245 finished with value: 0.0011145445118484793 and parameters: {'n_layers': 3, 'n_units_l0': 265, 'n_units_l1': 129, 'n_units_l2': 430}. Best is trial 212 with value: 0.0007379003873216501.\u001b[0m\n"
     ]
    },
    {
     "name": "stdout",
     "output_type": "stream",
     "text": [
      "Model FID: 0.0011145445118484793 \n",
      "\n",
      "Model architecture: [370, 186, 284]\n"
     ]
    },
    {
     "name": "stderr",
     "output_type": "stream",
     "text": [
      "\u001b[32m[I 2022-05-24 01:20:37,620]\u001b[0m Trial 246 finished with value: 0.0014517665467383544 and parameters: {'n_layers': 3, 'n_units_l0': 284, 'n_units_l1': 186, 'n_units_l2': 370}. Best is trial 212 with value: 0.0007379003873216501.\u001b[0m\n"
     ]
    },
    {
     "name": "stdout",
     "output_type": "stream",
     "text": [
      "Model FID: 0.0014517665467383544 \n",
      "\n",
      "Model architecture: [450, 151, 305]\n"
     ]
    },
    {
     "name": "stderr",
     "output_type": "stream",
     "text": [
      "\u001b[32m[I 2022-05-24 01:21:52,807]\u001b[0m Trial 247 finished with value: 0.0012702297360039582 and parameters: {'n_layers': 3, 'n_units_l0': 305, 'n_units_l1': 151, 'n_units_l2': 450}. Best is trial 212 with value: 0.0007379003873216501.\u001b[0m\n"
     ]
    },
    {
     "name": "stdout",
     "output_type": "stream",
     "text": [
      "Model FID: 0.0012702297360039582 \n",
      "\n",
      "Model architecture: [387, 201, 267]\n"
     ]
    },
    {
     "name": "stderr",
     "output_type": "stream",
     "text": [
      "\u001b[32m[I 2022-05-24 01:23:07,411]\u001b[0m Trial 248 finished with value: 0.001764840864336171 and parameters: {'n_layers': 3, 'n_units_l0': 267, 'n_units_l1': 201, 'n_units_l2': 387}. Best is trial 212 with value: 0.0007379003873216501.\u001b[0m\n"
     ]
    },
    {
     "name": "stdout",
     "output_type": "stream",
     "text": [
      "Model FID: 0.001764840864336171 \n",
      "\n",
      "Model architecture: [851, 171, 247]\n"
     ]
    },
    {
     "name": "stderr",
     "output_type": "stream",
     "text": [
      "\u001b[32m[I 2022-05-24 01:24:22,514]\u001b[0m Trial 249 finished with value: 0.03332877905809653 and parameters: {'n_layers': 3, 'n_units_l0': 247, 'n_units_l1': 171, 'n_units_l2': 851}. Best is trial 212 with value: 0.0007379003873216501.\u001b[0m\n"
     ]
    },
    {
     "name": "stdout",
     "output_type": "stream",
     "text": [
      "Model FID: 0.03332877905809653 \n",
      "\n",
      "Model architecture: [350, 217, 286]\n"
     ]
    },
    {
     "name": "stderr",
     "output_type": "stream",
     "text": [
      "\u001b[32m[I 2022-05-24 01:25:35,958]\u001b[0m Trial 250 finished with value: 0.0017497667176030298 and parameters: {'n_layers': 3, 'n_units_l0': 286, 'n_units_l1': 217, 'n_units_l2': 350}. Best is trial 212 with value: 0.0007379003873216501.\u001b[0m\n"
     ]
    },
    {
     "name": "stdout",
     "output_type": "stream",
     "text": [
      "Model FID: 0.0017497667176030298 \n",
      "\n",
      "Model architecture: [427, 143, 331]\n"
     ]
    },
    {
     "name": "stderr",
     "output_type": "stream",
     "text": [
      "\u001b[32m[I 2022-05-24 01:26:50,807]\u001b[0m Trial 251 finished with value: 0.0010621883591142363 and parameters: {'n_layers': 3, 'n_units_l0': 331, 'n_units_l1': 143, 'n_units_l2': 427}. Best is trial 212 with value: 0.0007379003873216501.\u001b[0m\n"
     ]
    },
    {
     "name": "stdout",
     "output_type": "stream",
     "text": [
      "Model FID: 0.0010621883591142363 \n",
      "\n",
      "Model architecture: [327, 163, 259]\n"
     ]
    },
    {
     "name": "stderr",
     "output_type": "stream",
     "text": [
      "\u001b[32m[I 2022-05-24 01:28:04,122]\u001b[0m Trial 252 finished with value: 0.0013899482206144963 and parameters: {'n_layers': 3, 'n_units_l0': 259, 'n_units_l1': 163, 'n_units_l2': 327}. Best is trial 212 with value: 0.0007379003873216501.\u001b[0m\n"
     ]
    },
    {
     "name": "stdout",
     "output_type": "stream",
     "text": [
      "Model FID: 0.0013899482206144963 \n",
      "\n",
      "Model architecture: [613, 188, 223]\n"
     ]
    },
    {
     "name": "stderr",
     "output_type": "stream",
     "text": [
      "\u001b[32m[I 2022-05-24 01:29:19,370]\u001b[0m Trial 253 finished with value: 0.0011329237251032577 and parameters: {'n_layers': 3, 'n_units_l0': 223, 'n_units_l1': 188, 'n_units_l2': 613}. Best is trial 212 with value: 0.0007379003873216501.\u001b[0m\n"
     ]
    },
    {
     "name": "stdout",
     "output_type": "stream",
     "text": [
      "Model FID: 0.0011329237251032577 \n",
      "\n",
      "Model architecture: [144, 299]\n"
     ]
    },
    {
     "name": "stderr",
     "output_type": "stream",
     "text": [
      "\u001b[32m[I 2022-05-24 01:30:19,919]\u001b[0m Trial 254 finished with value: 0.013586382036254615 and parameters: {'n_layers': 2, 'n_units_l0': 299, 'n_units_l1': 144}. Best is trial 212 with value: 0.0007379003873216501.\u001b[0m\n"
     ]
    },
    {
     "name": "stdout",
     "output_type": "stream",
     "text": [
      "Model FID: 0.013586382036254615 \n",
      "\n",
      "Model architecture: [373, 176, 393]\n"
     ]
    },
    {
     "name": "stderr",
     "output_type": "stream",
     "text": [
      "\u001b[32m[I 2022-05-24 01:31:33,847]\u001b[0m Trial 255 finished with value: 0.0010919507954215148 and parameters: {'n_layers': 3, 'n_units_l0': 393, 'n_units_l1': 176, 'n_units_l2': 373}. Best is trial 212 with value: 0.0007379003873216501.\u001b[0m\n"
     ]
    },
    {
     "name": "stdout",
     "output_type": "stream",
     "text": [
      "Model FID: 0.0010919507954215148 \n",
      "\n",
      "Model architecture: [814, 128, 276]\n"
     ]
    },
    {
     "name": "stderr",
     "output_type": "stream",
     "text": [
      "\u001b[32m[I 2022-05-24 01:32:48,009]\u001b[0m Trial 256 finished with value: 0.0010869786571268735 and parameters: {'n_layers': 3, 'n_units_l0': 276, 'n_units_l1': 128, 'n_units_l2': 814}. Best is trial 212 with value: 0.0007379003873216501.\u001b[0m\n"
     ]
    },
    {
     "name": "stdout",
     "output_type": "stream",
     "text": [
      "Model FID: 0.0010869786571268735 \n",
      "\n",
      "Model architecture: [398, 157, 365]\n"
     ]
    },
    {
     "name": "stderr",
     "output_type": "stream",
     "text": [
      "\u001b[32m[I 2022-05-24 01:34:03,107]\u001b[0m Trial 257 finished with value: 0.0012478721527621713 and parameters: {'n_layers': 3, 'n_units_l0': 365, 'n_units_l1': 157, 'n_units_l2': 398}. Best is trial 212 with value: 0.0007379003873216501.\u001b[0m\n"
     ]
    },
    {
     "name": "stdout",
     "output_type": "stream",
     "text": [
      "Model FID: 0.0012478721527621713 \n",
      "\n",
      "Model architecture: [773, 811, 240]\n"
     ]
    },
    {
     "name": "stderr",
     "output_type": "stream",
     "text": [
      "\u001b[32m[I 2022-05-24 01:35:18,341]\u001b[0m Trial 258 finished with value: 30.299459232159073 and parameters: {'n_layers': 3, 'n_units_l0': 240, 'n_units_l1': 811, 'n_units_l2': 773}. Best is trial 212 with value: 0.0007379003873216501.\u001b[0m\n"
     ]
    },
    {
     "name": "stdout",
     "output_type": "stream",
     "text": [
      "Model FID: 30.299459232159073 \n",
      "\n",
      "Model architecture: [420, 197, 249]\n"
     ]
    },
    {
     "name": "stderr",
     "output_type": "stream",
     "text": [
      "\u001b[32m[I 2022-05-24 01:36:33,253]\u001b[0m Trial 259 finished with value: 0.001623265411583689 and parameters: {'n_layers': 3, 'n_units_l0': 249, 'n_units_l1': 197, 'n_units_l2': 420}. Best is trial 212 with value: 0.0007379003873216501.\u001b[0m\n"
     ]
    },
    {
     "name": "stdout",
     "output_type": "stream",
     "text": [
      "Model FID: 0.001623265411583689 \n",
      "\n",
      "Model architecture: [330, 896, 221]\n"
     ]
    },
    {
     "name": "stderr",
     "output_type": "stream",
     "text": [
      "\u001b[32m[I 2022-05-24 01:37:47,510]\u001b[0m Trial 260 finished with value: 0.0019073868508915908 and parameters: {'n_layers': 3, 'n_units_l0': 221, 'n_units_l1': 896, 'n_units_l2': 330}. Best is trial 212 with value: 0.0007379003873216501.\u001b[0m\n"
     ]
    },
    {
     "name": "stdout",
     "output_type": "stream",
     "text": [
      "Model FID: 0.0019073868508915908 \n",
      "\n",
      "Model architecture: [666, 230, 274]\n"
     ]
    },
    {
     "name": "stderr",
     "output_type": "stream",
     "text": [
      "\u001b[32m[I 2022-05-24 01:39:01,878]\u001b[0m Trial 261 finished with value: 0.3141737065064123 and parameters: {'n_layers': 3, 'n_units_l0': 274, 'n_units_l1': 230, 'n_units_l2': 666}. Best is trial 212 with value: 0.0007379003873216501.\u001b[0m\n"
     ]
    },
    {
     "name": "stdout",
     "output_type": "stream",
     "text": [
      "Model FID: 0.3141737065064123 \n",
      "\n",
      "Model architecture: [313, 155, 304]\n"
     ]
    },
    {
     "name": "stderr",
     "output_type": "stream",
     "text": [
      "\u001b[32m[I 2022-05-24 01:40:16,614]\u001b[0m Trial 262 finished with value: 0.0009311268596664247 and parameters: {'n_layers': 3, 'n_units_l0': 304, 'n_units_l1': 155, 'n_units_l2': 313}. Best is trial 212 with value: 0.0007379003873216501.\u001b[0m\n"
     ]
    },
    {
     "name": "stdout",
     "output_type": "stream",
     "text": [
      "Model FID: 0.0009311268596664247 \n",
      "\n",
      "Model architecture: [314, 152, 342]\n"
     ]
    },
    {
     "name": "stderr",
     "output_type": "stream",
     "text": [
      "\u001b[32m[I 2022-05-24 01:41:30,527]\u001b[0m Trial 263 finished with value: 0.0015168115893419956 and parameters: {'n_layers': 3, 'n_units_l0': 342, 'n_units_l1': 152, 'n_units_l2': 314}. Best is trial 212 with value: 0.0007379003873216501.\u001b[0m\n"
     ]
    },
    {
     "name": "stdout",
     "output_type": "stream",
     "text": [
      "Model FID: 0.0015168115893419956 \n",
      "\n",
      "Model architecture: [338, 143, 321]\n"
     ]
    },
    {
     "name": "stderr",
     "output_type": "stream",
     "text": [
      "\u001b[32m[I 2022-05-24 01:42:43,516]\u001b[0m Trial 264 finished with value: 0.001658087926990732 and parameters: {'n_layers': 3, 'n_units_l0': 321, 'n_units_l1': 143, 'n_units_l2': 338}. Best is trial 212 with value: 0.0007379003873216501.\u001b[0m\n"
     ]
    },
    {
     "name": "stdout",
     "output_type": "stream",
     "text": [
      "Model FID: 0.001658087926990732 \n",
      "\n",
      "Model architecture: [358, 166, 304]\n"
     ]
    },
    {
     "name": "stderr",
     "output_type": "stream",
     "text": [
      "\u001b[32m[I 2022-05-24 01:43:57,546]\u001b[0m Trial 265 finished with value: 0.0019287663666792188 and parameters: {'n_layers': 3, 'n_units_l0': 304, 'n_units_l1': 166, 'n_units_l2': 358}. Best is trial 212 with value: 0.0007379003873216501.\u001b[0m\n"
     ]
    },
    {
     "name": "stdout",
     "output_type": "stream",
     "text": [
      "Model FID: 0.0019287663666792188 \n",
      "\n",
      "Model architecture: [305, 176, 294]\n"
     ]
    },
    {
     "name": "stderr",
     "output_type": "stream",
     "text": [
      "\u001b[32m[I 2022-05-24 01:45:12,274]\u001b[0m Trial 266 finished with value: 0.0016467546958864765 and parameters: {'n_layers': 3, 'n_units_l0': 294, 'n_units_l1': 176, 'n_units_l2': 305}. Best is trial 212 with value: 0.0007379003873216501.\u001b[0m\n"
     ]
    },
    {
     "name": "stdout",
     "output_type": "stream",
     "text": [
      "Model FID: 0.0016467546958864765 \n",
      "\n",
      "Model architecture: [920, 156, 259]\n"
     ]
    },
    {
     "name": "stderr",
     "output_type": "stream",
     "text": [
      "\u001b[32m[I 2022-05-24 01:46:26,948]\u001b[0m Trial 267 finished with value: 0.0017239141663071217 and parameters: {'n_layers': 3, 'n_units_l0': 259, 'n_units_l1': 156, 'n_units_l2': 920}. Best is trial 212 with value: 0.0007379003873216501.\u001b[0m\n"
     ]
    },
    {
     "name": "stdout",
     "output_type": "stream",
     "text": [
      "Model FID: 0.0017239141663071217 \n",
      "\n",
      "Model architecture: [438, 140, 234]\n"
     ]
    },
    {
     "name": "stderr",
     "output_type": "stream",
     "text": [
      "\u001b[32m[I 2022-05-24 01:47:41,734]\u001b[0m Trial 268 finished with value: 0.001122102137718974 and parameters: {'n_layers': 3, 'n_units_l0': 234, 'n_units_l1': 140, 'n_units_l2': 438}. Best is trial 212 with value: 0.0007379003873216501.\u001b[0m\n"
     ]
    },
    {
     "name": "stdout",
     "output_type": "stream",
     "text": [
      "Model FID: 0.001122102137718974 \n",
      "\n",
      "Model architecture: [1008, 129, 184]\n"
     ]
    },
    {
     "name": "stderr",
     "output_type": "stream",
     "text": [
      "\u001b[32m[I 2022-05-24 01:48:57,181]\u001b[0m Trial 269 finished with value: 0.0014993328920307478 and parameters: {'n_layers': 3, 'n_units_l0': 184, 'n_units_l1': 129, 'n_units_l2': 1008}. Best is trial 212 with value: 0.0007379003873216501.\u001b[0m\n"
     ]
    },
    {
     "name": "stdout",
     "output_type": "stream",
     "text": [
      "Model FID: 0.0014993328920307478 \n",
      "\n",
      "Model architecture: [632, 182, 315]\n"
     ]
    },
    {
     "name": "stderr",
     "output_type": "stream",
     "text": [
      "\u001b[32m[I 2022-05-24 01:50:12,345]\u001b[0m Trial 270 finished with value: 0.0018541105233803089 and parameters: {'n_layers': 3, 'n_units_l0': 315, 'n_units_l1': 182, 'n_units_l2': 632}. Best is trial 212 with value: 0.0007379003873216501.\u001b[0m\n"
     ]
    },
    {
     "name": "stdout",
     "output_type": "stream",
     "text": [
      "Model FID: 0.0018541105233803089 \n",
      "\n",
      "Model architecture: [466, 161, 275]\n"
     ]
    },
    {
     "name": "stderr",
     "output_type": "stream",
     "text": [
      "\u001b[32m[I 2022-05-24 01:51:27,382]\u001b[0m Trial 271 finished with value: 0.0013274123017693843 and parameters: {'n_layers': 3, 'n_units_l0': 275, 'n_units_l1': 161, 'n_units_l2': 466}. Best is trial 212 with value: 0.0007379003873216501.\u001b[0m\n"
     ]
    },
    {
     "name": "stdout",
     "output_type": "stream",
     "text": [
      "Model FID: 0.0013274123017693843 \n",
      "\n",
      "Model architecture: [748, 1018, 252]\n"
     ]
    },
    {
     "name": "stderr",
     "output_type": "stream",
     "text": [
      "\u001b[32m[I 2022-05-24 01:52:42,469]\u001b[0m Trial 272 finished with value: 0.007831174516153094 and parameters: {'n_layers': 3, 'n_units_l0': 252, 'n_units_l1': 1018, 'n_units_l2': 748}. Best is trial 212 with value: 0.0007379003873216501.\u001b[0m\n"
     ]
    },
    {
     "name": "stdout",
     "output_type": "stream",
     "text": [
      "Model FID: 0.007831174516153094 \n",
      "\n",
      "Model architecture: [317, 501, 219]\n"
     ]
    },
    {
     "name": "stderr",
     "output_type": "stream",
     "text": [
      "\u001b[32m[I 2022-05-24 01:53:55,231]\u001b[0m Trial 273 finished with value: 0.004648107684383267 and parameters: {'n_layers': 3, 'n_units_l0': 219, 'n_units_l1': 501, 'n_units_l2': 317}. Best is trial 212 with value: 0.0007379003873216501.\u001b[0m\n"
     ]
    },
    {
     "name": "stdout",
     "output_type": "stream",
     "text": [
      "Model FID: 0.004648107684383267 \n",
      "\n",
      "Model architecture: [649, 175, 292]\n"
     ]
    },
    {
     "name": "stderr",
     "output_type": "stream",
     "text": [
      "\u001b[32m[I 2022-05-24 01:55:10,417]\u001b[0m Trial 274 finished with value: 0.0011882636999219931 and parameters: {'n_layers': 3, 'n_units_l0': 292, 'n_units_l1': 175, 'n_units_l2': 649}. Best is trial 212 with value: 0.0007379003873216501.\u001b[0m\n"
     ]
    },
    {
     "name": "stdout",
     "output_type": "stream",
     "text": [
      "Model FID: 0.0011882636999219931 \n",
      "\n",
      "Model architecture: [404, 145, 333]\n"
     ]
    },
    {
     "name": "stderr",
     "output_type": "stream",
     "text": [
      "\u001b[32m[I 2022-05-24 01:56:25,436]\u001b[0m Trial 275 finished with value: 0.0008487065559855732 and parameters: {'n_layers': 3, 'n_units_l0': 333, 'n_units_l1': 145, 'n_units_l2': 404}. Best is trial 212 with value: 0.0007379003873216501.\u001b[0m\n"
     ]
    },
    {
     "name": "stdout",
     "output_type": "stream",
     "text": [
      "Model FID: 0.0008487065559855732 \n",
      "\n",
      "Model architecture: [379, 143, 353]\n"
     ]
    },
    {
     "name": "stderr",
     "output_type": "stream",
     "text": [
      "\u001b[32m[I 2022-05-24 01:57:38,969]\u001b[0m Trial 276 finished with value: 0.0012879244475652422 and parameters: {'n_layers': 3, 'n_units_l0': 353, 'n_units_l1': 143, 'n_units_l2': 379}. Best is trial 212 with value: 0.0007379003873216501.\u001b[0m\n"
     ]
    },
    {
     "name": "stdout",
     "output_type": "stream",
     "text": [
      "Model FID: 0.0012879244475652422 \n",
      "\n",
      "Model architecture: [395, 129, 327]\n"
     ]
    },
    {
     "name": "stderr",
     "output_type": "stream",
     "text": [
      "\u001b[32m[I 2022-05-24 01:58:53,731]\u001b[0m Trial 277 finished with value: 0.0010490998322008121 and parameters: {'n_layers': 3, 'n_units_l0': 327, 'n_units_l1': 129, 'n_units_l2': 395}. Best is trial 212 with value: 0.0007379003873216501.\u001b[0m\n"
     ]
    },
    {
     "name": "stdout",
     "output_type": "stream",
     "text": [
      "Model FID: 0.0010490998322008121 \n",
      "\n",
      "Model architecture: [404, 155, 372]\n"
     ]
    },
    {
     "name": "stderr",
     "output_type": "stream",
     "text": [
      "\u001b[32m[I 2022-05-24 02:00:08,650]\u001b[0m Trial 278 finished with value: 0.506167060453895 and parameters: {'n_layers': 3, 'n_units_l0': 372, 'n_units_l1': 155, 'n_units_l2': 404}. Best is trial 212 with value: 0.0007379003873216501.\u001b[0m\n"
     ]
    },
    {
     "name": "stdout",
     "output_type": "stream",
     "text": [
      "Model FID: 0.506167060453895 \n",
      "\n",
      "Model architecture: [439, 147, 333]\n"
     ]
    },
    {
     "name": "stderr",
     "output_type": "stream",
     "text": [
      "\u001b[32m[I 2022-05-24 02:01:23,589]\u001b[0m Trial 279 finished with value: 0.0014354828220298084 and parameters: {'n_layers': 3, 'n_units_l0': 333, 'n_units_l1': 147, 'n_units_l2': 439}. Best is trial 212 with value: 0.0007379003873216501.\u001b[0m\n"
     ]
    },
    {
     "name": "stdout",
     "output_type": "stream",
     "text": [
      "Model FID: 0.0014354828220298084 \n",
      "\n",
      "Model architecture: [423, 197, 348]\n"
     ]
    },
    {
     "name": "stderr",
     "output_type": "stream",
     "text": [
      "\u001b[32m[I 2022-05-24 02:02:38,501]\u001b[0m Trial 280 finished with value: 0.0014177896227808076 and parameters: {'n_layers': 3, 'n_units_l0': 348, 'n_units_l1': 197, 'n_units_l2': 423}. Best is trial 212 with value: 0.0007379003873216501.\u001b[0m\n"
     ]
    },
    {
     "name": "stdout",
     "output_type": "stream",
     "text": [
      "Model FID: 0.0014177896227808076 \n",
      "\n",
      "Model architecture: [285, 162, 302]\n"
     ]
    },
    {
     "name": "stderr",
     "output_type": "stream",
     "text": [
      "\u001b[32m[I 2022-05-24 02:03:53,208]\u001b[0m Trial 281 finished with value: 0.0012793609537739893 and parameters: {'n_layers': 3, 'n_units_l0': 302, 'n_units_l1': 162, 'n_units_l2': 285}. Best is trial 212 with value: 0.0007379003873216501.\u001b[0m\n"
     ]
    },
    {
     "name": "stdout",
     "output_type": "stream",
     "text": [
      "Model FID: 0.0012793609537739893 \n",
      "\n",
      "Model architecture: [354, 144, 316]\n"
     ]
    },
    {
     "name": "stderr",
     "output_type": "stream",
     "text": [
      "\u001b[32m[I 2022-05-24 02:05:05,964]\u001b[0m Trial 282 finished with value: 0.0009976543296497833 and parameters: {'n_layers': 3, 'n_units_l0': 316, 'n_units_l1': 144, 'n_units_l2': 354}. Best is trial 212 with value: 0.0007379003873216501.\u001b[0m\n"
     ]
    },
    {
     "name": "stdout",
     "output_type": "stream",
     "text": [
      "Model FID: 0.0009976543296497833 \n",
      "\n",
      "Model architecture: [348, 163, 304]\n"
     ]
    },
    {
     "name": "stderr",
     "output_type": "stream",
     "text": [
      "\u001b[32m[I 2022-05-24 02:06:19,587]\u001b[0m Trial 283 finished with value: 0.0011038516013011654 and parameters: {'n_layers': 3, 'n_units_l0': 304, 'n_units_l1': 163, 'n_units_l2': 348}. Best is trial 212 with value: 0.0007379003873216501.\u001b[0m\n"
     ]
    },
    {
     "name": "stdout",
     "output_type": "stream",
     "text": [
      "Model FID: 0.0011038516013011654 \n",
      "\n",
      "Model architecture: [370, 212, 657]\n"
     ]
    },
    {
     "name": "stderr",
     "output_type": "stream",
     "text": [
      "\u001b[32m[I 2022-05-24 02:07:32,532]\u001b[0m Trial 284 finished with value: 0.0035141762653782124 and parameters: {'n_layers': 3, 'n_units_l0': 657, 'n_units_l1': 212, 'n_units_l2': 370}. Best is trial 212 with value: 0.0007379003873216501.\u001b[0m\n"
     ]
    },
    {
     "name": "stdout",
     "output_type": "stream",
     "text": [
      "Model FID: 0.0035141762653782124 \n",
      "\n",
      "Model architecture: [347, 128, 273]\n"
     ]
    },
    {
     "name": "stderr",
     "output_type": "stream",
     "text": [
      "\u001b[32m[I 2022-05-24 02:08:46,974]\u001b[0m Trial 285 finished with value: 0.0014853106017948346 and parameters: {'n_layers': 3, 'n_units_l0': 273, 'n_units_l1': 128, 'n_units_l2': 347}. Best is trial 212 with value: 0.0007379003873216501.\u001b[0m\n"
     ]
    },
    {
     "name": "stdout",
     "output_type": "stream",
     "text": [
      "Model FID: 0.0014853106017948346 \n",
      "\n",
      "Model architecture: [330, 190, 316]\n"
     ]
    },
    {
     "name": "stderr",
     "output_type": "stream",
     "text": [
      "\u001b[32m[I 2022-05-24 02:10:01,733]\u001b[0m Trial 286 finished with value: 0.0007414951571036464 and parameters: {'n_layers': 3, 'n_units_l0': 316, 'n_units_l1': 190, 'n_units_l2': 330}. Best is trial 212 with value: 0.0007379003873216501.\u001b[0m\n"
     ]
    },
    {
     "name": "stdout",
     "output_type": "stream",
     "text": [
      "Model FID: 0.0007414951571036464 \n",
      "\n",
      "Model architecture: [390, 194, 279]\n"
     ]
    },
    {
     "name": "stderr",
     "output_type": "stream",
     "text": [
      "\u001b[32m[I 2022-05-24 02:11:15,890]\u001b[0m Trial 287 finished with value: 0.0015988968363460738 and parameters: {'n_layers': 3, 'n_units_l0': 279, 'n_units_l1': 194, 'n_units_l2': 390}. Best is trial 212 with value: 0.0007379003873216501.\u001b[0m\n"
     ]
    },
    {
     "name": "stdout",
     "output_type": "stream",
     "text": [
      "Model FID: 0.0015988968363460738 \n",
      "\n",
      "Model architecture: [979, 218, 288]\n"
     ]
    },
    {
     "name": "stderr",
     "output_type": "stream",
     "text": [
      "\u001b[32m[I 2022-05-24 02:12:30,688]\u001b[0m Trial 288 finished with value: 0.002060843282762752 and parameters: {'n_layers': 3, 'n_units_l0': 288, 'n_units_l1': 218, 'n_units_l2': 979}. Best is trial 212 with value: 0.0007379003873216501.\u001b[0m\n"
     ]
    },
    {
     "name": "stdout",
     "output_type": "stream",
     "text": [
      "Model FID: 0.002060843282762752 \n",
      "\n",
      "Model architecture: [365, 186, 830]\n"
     ]
    },
    {
     "name": "stderr",
     "output_type": "stream",
     "text": [
      "\u001b[32m[I 2022-05-24 02:13:44,745]\u001b[0m Trial 289 finished with value: 0.0010862133048007948 and parameters: {'n_layers': 3, 'n_units_l0': 830, 'n_units_l1': 186, 'n_units_l2': 365}. Best is trial 212 with value: 0.0007379003873216501.\u001b[0m\n"
     ]
    },
    {
     "name": "stdout",
     "output_type": "stream",
     "text": [
      "Model FID: 0.0010862133048007948 \n",
      "\n",
      "Model architecture: [408, 177, 315]\n"
     ]
    },
    {
     "name": "stderr",
     "output_type": "stream",
     "text": [
      "\u001b[32m[I 2022-05-24 02:14:59,947]\u001b[0m Trial 290 finished with value: 0.001009252490563108 and parameters: {'n_layers': 3, 'n_units_l0': 315, 'n_units_l1': 177, 'n_units_l2': 408}. Best is trial 212 with value: 0.0007379003873216501.\u001b[0m\n"
     ]
    },
    {
     "name": "stdout",
     "output_type": "stream",
     "text": [
      "Model FID: 0.001009252490563108 \n",
      "\n",
      "Model architecture: [333, 146, 257]\n"
     ]
    },
    {
     "name": "stderr",
     "output_type": "stream",
     "text": [
      "\u001b[32m[I 2022-05-24 02:16:13,608]\u001b[0m Trial 291 finished with value: 0.0011795246056907301 and parameters: {'n_layers': 3, 'n_units_l0': 257, 'n_units_l1': 146, 'n_units_l2': 333}. Best is trial 212 with value: 0.0007379003873216501.\u001b[0m\n"
     ]
    },
    {
     "name": "stdout",
     "output_type": "stream",
     "text": [
      "Model FID: 0.0011795246056907301 \n",
      "\n",
      "Model architecture: [456, 201, 239]\n"
     ]
    },
    {
     "name": "stderr",
     "output_type": "stream",
     "text": [
      "\u001b[32m[I 2022-05-24 02:17:28,207]\u001b[0m Trial 292 finished with value: 0.001360796274443348 and parameters: {'n_layers': 3, 'n_units_l0': 239, 'n_units_l1': 201, 'n_units_l2': 456}. Best is trial 212 with value: 0.0007379003873216501.\u001b[0m\n"
     ]
    },
    {
     "name": "stdout",
     "output_type": "stream",
     "text": [
      "Model FID: 0.001360796274443348 \n",
      "\n",
      "Model architecture: [297, 165, 489]\n"
     ]
    },
    {
     "name": "stderr",
     "output_type": "stream",
     "text": [
      "\u001b[32m[I 2022-05-24 02:18:42,402]\u001b[0m Trial 293 finished with value: 0.09193785357827079 and parameters: {'n_layers': 3, 'n_units_l0': 489, 'n_units_l1': 165, 'n_units_l2': 297}. Best is trial 212 with value: 0.0007379003873216501.\u001b[0m\n"
     ]
    },
    {
     "name": "stdout",
     "output_type": "stream",
     "text": [
      "Model FID: 0.09193785357827079 \n",
      "\n",
      "Model architecture: [315, 150, 263]\n"
     ]
    },
    {
     "name": "stderr",
     "output_type": "stream",
     "text": [
      "\u001b[32m[I 2022-05-24 02:19:56,377]\u001b[0m Trial 294 finished with value: 0.0017995752926505475 and parameters: {'n_layers': 3, 'n_units_l0': 263, 'n_units_l1': 150, 'n_units_l2': 315}. Best is trial 212 with value: 0.0007379003873216501.\u001b[0m\n"
     ]
    },
    {
     "name": "stdout",
     "output_type": "stream",
     "text": [
      "Model FID: 0.0017995752926505475 \n",
      "\n",
      "Model architecture: [240, 294]\n"
     ]
    },
    {
     "name": "stderr",
     "output_type": "stream",
     "text": [
      "\u001b[32m[I 2022-05-24 02:20:56,517]\u001b[0m Trial 295 finished with value: 0.013825190233243714 and parameters: {'n_layers': 2, 'n_units_l0': 294, 'n_units_l1': 240}. Best is trial 212 with value: 0.0007379003873216501.\u001b[0m\n"
     ]
    },
    {
     "name": "stdout",
     "output_type": "stream",
     "text": [
      "Model FID: 0.013825190233243714 \n",
      "\n",
      "Model architecture: [885, 190, 309]\n"
     ]
    },
    {
     "name": "stderr",
     "output_type": "stream",
     "text": [
      "\u001b[32m[I 2022-05-24 02:22:11,666]\u001b[0m Trial 296 finished with value: 0.012476964697793306 and parameters: {'n_layers': 3, 'n_units_l0': 309, 'n_units_l1': 190, 'n_units_l2': 885}. Best is trial 212 with value: 0.0007379003873216501.\u001b[0m\n"
     ]
    },
    {
     "name": "stdout",
     "output_type": "stream",
     "text": [
      "Model FID: 0.012476964697793306 \n",
      "\n",
      "Model architecture: [379, 176, 245]\n"
     ]
    },
    {
     "name": "stderr",
     "output_type": "stream",
     "text": [
      "\u001b[32m[I 2022-05-24 02:23:26,545]\u001b[0m Trial 297 finished with value: 0.0012963069903712608 and parameters: {'n_layers': 3, 'n_units_l0': 245, 'n_units_l1': 176, 'n_units_l2': 379}. Best is trial 212 with value: 0.0007379003873216501.\u001b[0m\n"
     ]
    },
    {
     "name": "stdout",
     "output_type": "stream",
     "text": [
      "Model FID: 0.0012963069903712608 \n",
      "\n",
      "Model architecture: [480, 145, 269]\n"
     ]
    },
    {
     "name": "stderr",
     "output_type": "stream",
     "text": [
      "\u001b[32m[I 2022-05-24 02:24:41,426]\u001b[0m Trial 298 finished with value: 0.001151482637644937 and parameters: {'n_layers': 3, 'n_units_l0': 269, 'n_units_l1': 145, 'n_units_l2': 480}. Best is trial 212 with value: 0.0007379003873216501.\u001b[0m\n"
     ]
    },
    {
     "name": "stdout",
     "output_type": "stream",
     "text": [
      "Model FID: 0.001151482637644937 \n",
      "\n",
      "Model architecture: [418, 211, 325]\n"
     ]
    },
    {
     "name": "stderr",
     "output_type": "stream",
     "text": [
      "\u001b[32m[I 2022-05-24 02:25:56,348]\u001b[0m Trial 299 finished with value: 0.0009985413944904836 and parameters: {'n_layers': 3, 'n_units_l0': 325, 'n_units_l1': 211, 'n_units_l2': 418}. Best is trial 212 with value: 0.0007379003873216501.\u001b[0m\n"
     ]
    },
    {
     "name": "stdout",
     "output_type": "stream",
     "text": [
      "Model FID: 0.0009985413944904836 \n",
      "\n",
      "Model architecture: [356, 129, 285]\n"
     ]
    },
    {
     "name": "stderr",
     "output_type": "stream",
     "text": [
      "\u001b[32m[I 2022-05-24 02:27:10,367]\u001b[0m Trial 300 finished with value: 0.0010739564856530365 and parameters: {'n_layers': 3, 'n_units_l0': 285, 'n_units_l1': 129, 'n_units_l2': 356}. Best is trial 212 with value: 0.0007379003873216501.\u001b[0m\n"
     ]
    },
    {
     "name": "stdout",
     "output_type": "stream",
     "text": [
      "Model FID: 0.0010739564856530365 \n",
      "\n",
      "Model architecture: [270, 162, 231]\n"
     ]
    },
    {
     "name": "stderr",
     "output_type": "stream",
     "text": [
      "\u001b[32m[I 2022-05-24 02:28:24,962]\u001b[0m Trial 301 finished with value: 0.0013632544454654177 and parameters: {'n_layers': 3, 'n_units_l0': 231, 'n_units_l1': 162, 'n_units_l2': 270}. Best is trial 212 with value: 0.0007379003873216501.\u001b[0m\n"
     ]
    },
    {
     "name": "stdout",
     "output_type": "stream",
     "text": [
      "Model FID: 0.0013632544454654177 \n",
      "\n",
      "Model architecture: [336, 180, 255]\n"
     ]
    },
    {
     "name": "stderr",
     "output_type": "stream",
     "text": [
      "\u001b[32m[I 2022-05-24 02:29:38,636]\u001b[0m Trial 302 finished with value: 0.0012880267087859193 and parameters: {'n_layers': 3, 'n_units_l0': 255, 'n_units_l1': 180, 'n_units_l2': 336}. Best is trial 212 with value: 0.0007379003873216501.\u001b[0m\n"
     ]
    },
    {
     "name": "stdout",
     "output_type": "stream",
     "text": [
      "Model FID: 0.0012880267087859193 \n",
      "\n",
      "Model architecture: [397, 149, 339]\n"
     ]
    },
    {
     "name": "stderr",
     "output_type": "stream",
     "text": [
      "\u001b[32m[I 2022-05-24 02:30:53,452]\u001b[0m Trial 303 finished with value: 0.0010236986209523915 and parameters: {'n_layers': 3, 'n_units_l0': 339, 'n_units_l1': 149, 'n_units_l2': 397}. Best is trial 212 with value: 0.0007379003873216501.\u001b[0m\n"
     ]
    },
    {
     "name": "stdout",
     "output_type": "stream",
     "text": [
      "Model FID: 0.0010236986209523915 \n",
      "\n",
      "Model architecture: [437, 166, 195]\n"
     ]
    },
    {
     "name": "stderr",
     "output_type": "stream",
     "text": [
      "\u001b[32m[I 2022-05-24 02:32:08,263]\u001b[0m Trial 304 finished with value: 0.0010910741742828423 and parameters: {'n_layers': 3, 'n_units_l0': 195, 'n_units_l1': 166, 'n_units_l2': 437}. Best is trial 212 with value: 0.0007379003873216501.\u001b[0m\n"
     ]
    },
    {
     "name": "stdout",
     "output_type": "stream",
     "text": [
      "Model FID: 0.0010910741742828423 \n",
      "\n",
      "Model architecture: [304, 225, 292]\n"
     ]
    },
    {
     "name": "stderr",
     "output_type": "stream",
     "text": [
      "\u001b[32m[I 2022-05-24 02:33:23,306]\u001b[0m Trial 305 finished with value: 0.0013878426382849453 and parameters: {'n_layers': 3, 'n_units_l0': 292, 'n_units_l1': 225, 'n_units_l2': 304}. Best is trial 212 with value: 0.0007379003873216501.\u001b[0m\n"
     ]
    },
    {
     "name": "stdout",
     "output_type": "stream",
     "text": [
      "Model FID: 0.0013878426382849453 \n",
      "\n",
      "Model architecture: [908, 194, 272]\n"
     ]
    },
    {
     "name": "stderr",
     "output_type": "stream",
     "text": [
      "\u001b[32m[I 2022-05-24 02:34:37,339]\u001b[0m Trial 306 finished with value: 0.4707155596176682 and parameters: {'n_layers': 3, 'n_units_l0': 272, 'n_units_l1': 194, 'n_units_l2': 908}. Best is trial 212 with value: 0.0007379003873216501.\u001b[0m\n"
     ]
    },
    {
     "name": "stdout",
     "output_type": "stream",
     "text": [
      "Model FID: 0.4707155596176682 \n",
      "\n",
      "Model architecture: [376, 144, 311]\n"
     ]
    },
    {
     "name": "stderr",
     "output_type": "stream",
     "text": [
      "\u001b[32m[I 2022-05-24 02:35:50,481]\u001b[0m Trial 307 finished with value: 0.0011072760316414886 and parameters: {'n_layers': 3, 'n_units_l0': 311, 'n_units_l1': 144, 'n_units_l2': 376}. Best is trial 212 with value: 0.0007379003873216501.\u001b[0m\n"
     ]
    },
    {
     "name": "stdout",
     "output_type": "stream",
     "text": [
      "Model FID: 0.0011072760316414886 \n",
      "\n",
      "Model architecture: [407, 177, 223]\n"
     ]
    },
    {
     "name": "stderr",
     "output_type": "stream",
     "text": [
      "\u001b[32m[I 2022-05-24 02:37:05,669]\u001b[0m Trial 308 finished with value: 0.001175780618605175 and parameters: {'n_layers': 3, 'n_units_l0': 223, 'n_units_l1': 177, 'n_units_l2': 407}. Best is trial 212 with value: 0.0007379003873216501.\u001b[0m\n"
     ]
    },
    {
     "name": "stdout",
     "output_type": "stream",
     "text": [
      "Model FID: 0.001175780618605175 \n",
      "\n",
      "Model architecture: [349, 574, 283]\n"
     ]
    },
    {
     "name": "stderr",
     "output_type": "stream",
     "text": [
      "\u001b[32m[I 2022-05-24 02:38:19,099]\u001b[0m Trial 309 finished with value: 0.0026239026420288407 and parameters: {'n_layers': 3, 'n_units_l0': 283, 'n_units_l1': 574, 'n_units_l2': 349}. Best is trial 212 with value: 0.0007379003873216501.\u001b[0m\n"
     ]
    },
    {
     "name": "stdout",
     "output_type": "stream",
     "text": [
      "Model FID: 0.0026239026420288407 \n",
      "\n",
      "Model architecture: [327, 162, 253]\n"
     ]
    },
    {
     "name": "stderr",
     "output_type": "stream",
     "text": [
      "\u001b[32m[I 2022-05-24 02:39:32,481]\u001b[0m Trial 310 finished with value: 0.0011357402337947324 and parameters: {'n_layers': 3, 'n_units_l0': 253, 'n_units_l1': 162, 'n_units_l2': 327}. Best is trial 212 with value: 0.0007379003873216501.\u001b[0m\n"
     ]
    },
    {
     "name": "stdout",
     "output_type": "stream",
     "text": [
      "Model FID: 0.0011357402337947324 \n",
      "\n",
      "Model architecture: [425, 145, 241]\n"
     ]
    },
    {
     "name": "stderr",
     "output_type": "stream",
     "text": [
      "\u001b[32m[I 2022-05-24 02:40:47,618]\u001b[0m Trial 311 finished with value: 0.0012410038001019561 and parameters: {'n_layers': 3, 'n_units_l0': 241, 'n_units_l1': 145, 'n_units_l2': 425}. Best is trial 212 with value: 0.0007379003873216501.\u001b[0m\n"
     ]
    },
    {
     "name": "stdout",
     "output_type": "stream",
     "text": [
      "Model FID: 0.0012410038001019561 \n",
      "\n",
      "Model architecture: [580, 196, 267]\n"
     ]
    },
    {
     "name": "stderr",
     "output_type": "stream",
     "text": [
      "\u001b[32m[I 2022-05-24 02:42:01,671]\u001b[0m Trial 312 finished with value: 0.0012278208661294795 and parameters: {'n_layers': 3, 'n_units_l0': 267, 'n_units_l1': 196, 'n_units_l2': 580}. Best is trial 212 with value: 0.0007379003873216501.\u001b[0m\n"
     ]
    },
    {
     "name": "stdout",
     "output_type": "stream",
     "text": [
      "Model FID: 0.0012278208661294795 \n",
      "\n",
      "Model architecture: [453, 128, 451]\n"
     ]
    },
    {
     "name": "stderr",
     "output_type": "stream",
     "text": [
      "\u001b[32m[I 2022-05-24 02:43:16,544]\u001b[0m Trial 313 finished with value: 0.0010613258925770465 and parameters: {'n_layers': 3, 'n_units_l0': 451, 'n_units_l1': 128, 'n_units_l2': 453}. Best is trial 212 with value: 0.0007379003873216501.\u001b[0m\n"
     ]
    },
    {
     "name": "stdout",
     "output_type": "stream",
     "text": [
      "Model FID: 0.0010613258925770465 \n",
      "\n",
      "Model architecture: [717, 211, 328]\n"
     ]
    },
    {
     "name": "stderr",
     "output_type": "stream",
     "text": [
      "\u001b[32m[I 2022-05-24 02:44:31,531]\u001b[0m Trial 314 finished with value: 0.5788496563659262 and parameters: {'n_layers': 3, 'n_units_l0': 328, 'n_units_l1': 211, 'n_units_l2': 717}. Best is trial 212 with value: 0.0007379003873216501.\u001b[0m\n"
     ]
    },
    {
     "name": "stdout",
     "output_type": "stream",
     "text": [
      "Model FID: 0.5788496563659262 \n",
      "\n",
      "Model architecture: [248, 174, 212]\n"
     ]
    },
    {
     "name": "stderr",
     "output_type": "stream",
     "text": [
      "\u001b[32m[I 2022-05-24 02:45:46,177]\u001b[0m Trial 315 finished with value: 0.0009869450146365942 and parameters: {'n_layers': 3, 'n_units_l0': 212, 'n_units_l1': 174, 'n_units_l2': 248}. Best is trial 212 with value: 0.0007379003873216501.\u001b[0m\n"
     ]
    },
    {
     "name": "stdout",
     "output_type": "stream",
     "text": [
      "Model FID: 0.0009869450146365942 \n",
      "\n",
      "Model architecture: [221, 392, 204]\n"
     ]
    },
    {
     "name": "stderr",
     "output_type": "stream",
     "text": [
      "\u001b[32m[I 2022-05-24 02:46:59,256]\u001b[0m Trial 316 finished with value: 0.004623096613038118 and parameters: {'n_layers': 3, 'n_units_l0': 204, 'n_units_l1': 392, 'n_units_l2': 221}. Best is trial 212 with value: 0.0007379003873216501.\u001b[0m\n"
     ]
    },
    {
     "name": "stdout",
     "output_type": "stream",
     "text": [
      "Model FID: 0.004623096613038118 \n",
      "\n",
      "Model architecture: [255, 420, 171]\n"
     ]
    },
    {
     "name": "stderr",
     "output_type": "stream",
     "text": [
      "\u001b[32m[I 2022-05-24 02:48:13,933]\u001b[0m Trial 317 finished with value: 0.0021210509231937473 and parameters: {'n_layers': 3, 'n_units_l0': 171, 'n_units_l1': 420, 'n_units_l2': 255}. Best is trial 212 with value: 0.0007379003873216501.\u001b[0m\n"
     ]
    },
    {
     "name": "stdout",
     "output_type": "stream",
     "text": [
      "Model FID: 0.0021210509231937473 \n",
      "\n",
      "Model architecture: [278, 182, 221]\n"
     ]
    },
    {
     "name": "stderr",
     "output_type": "stream",
     "text": [
      "\u001b[32m[I 2022-05-24 02:49:28,984]\u001b[0m Trial 318 finished with value: 0.0011770250958582373 and parameters: {'n_layers': 3, 'n_units_l0': 221, 'n_units_l1': 182, 'n_units_l2': 278}. Best is trial 212 with value: 0.0007379003873216501.\u001b[0m\n"
     ]
    },
    {
     "name": "stdout",
     "output_type": "stream",
     "text": [
      "Model FID: 0.0011770250958582373 \n",
      "\n",
      "Model architecture: [249, 166, 192]\n"
     ]
    },
    {
     "name": "stderr",
     "output_type": "stream",
     "text": [
      "\u001b[32m[I 2022-05-24 02:50:43,846]\u001b[0m Trial 319 finished with value: 0.0013293836905776267 and parameters: {'n_layers': 3, 'n_units_l0': 192, 'n_units_l1': 166, 'n_units_l2': 249}. Best is trial 212 with value: 0.0007379003873216501.\u001b[0m\n"
     ]
    },
    {
     "name": "stdout",
     "output_type": "stream",
     "text": [
      "Model FID: 0.0013293836905776267 \n",
      "\n",
      "Model architecture: [765, 203, 231]\n"
     ]
    },
    {
     "name": "stderr",
     "output_type": "stream",
     "text": [
      "\u001b[32m[I 2022-05-24 02:51:58,652]\u001b[0m Trial 320 finished with value: 0.02823440624306495 and parameters: {'n_layers': 3, 'n_units_l0': 231, 'n_units_l1': 203, 'n_units_l2': 765}. Best is trial 212 with value: 0.0007379003873216501.\u001b[0m\n"
     ]
    },
    {
     "name": "stdout",
     "output_type": "stream",
     "text": [
      "Model FID: 0.02823440624306495 \n",
      "\n",
      "Model architecture: [296, 248, 204]\n"
     ]
    },
    {
     "name": "stderr",
     "output_type": "stream",
     "text": [
      "\u001b[32m[I 2022-05-24 02:53:08,924]\u001b[0m Trial 321 finished with value: 0.0007958925632595941 and parameters: {'n_layers': 3, 'n_units_l0': 204, 'n_units_l1': 248, 'n_units_l2': 296}. Best is trial 212 with value: 0.0007379003873216501.\u001b[0m\n"
     ]
    },
    {
     "name": "stdout",
     "output_type": "stream",
     "text": [
      "Model FID: 0.0007958925632595941 \n",
      "\n",
      "Model architecture: [237, 263, 208]\n"
     ]
    },
    {
     "name": "stderr",
     "output_type": "stream",
     "text": [
      "\u001b[32m[I 2022-05-24 02:54:20,654]\u001b[0m Trial 322 finished with value: 0.001098470847187902 and parameters: {'n_layers': 3, 'n_units_l0': 208, 'n_units_l1': 263, 'n_units_l2': 237}. Best is trial 212 with value: 0.0007379003873216501.\u001b[0m\n"
     ]
    },
    {
     "name": "stdout",
     "output_type": "stream",
     "text": [
      "Model FID: 0.001098470847187902 \n",
      "\n",
      "Model architecture: [282, 217, 158]\n"
     ]
    },
    {
     "name": "stderr",
     "output_type": "stream",
     "text": [
      "\u001b[32m[I 2022-05-24 02:55:35,910]\u001b[0m Trial 323 finished with value: 0.0011623923336492171 and parameters: {'n_layers': 3, 'n_units_l0': 158, 'n_units_l1': 217, 'n_units_l2': 282}. Best is trial 212 with value: 0.0007379003873216501.\u001b[0m\n"
     ]
    },
    {
     "name": "stdout",
     "output_type": "stream",
     "text": [
      "Model FID: 0.0011623923336492171 \n",
      "\n",
      "Model architecture: [308, 247, 183]\n"
     ]
    },
    {
     "name": "stderr",
     "output_type": "stream",
     "text": [
      "\u001b[32m[I 2022-05-24 02:56:51,307]\u001b[0m Trial 324 finished with value: 0.0014507208835282664 and parameters: {'n_layers': 3, 'n_units_l0': 183, 'n_units_l1': 247, 'n_units_l2': 308}. Best is trial 212 with value: 0.0007379003873216501.\u001b[0m\n"
     ]
    },
    {
     "name": "stdout",
     "output_type": "stream",
     "text": [
      "Model FID: 0.0014507208835282664 \n",
      "\n",
      "Model architecture: [198, 233, 208]\n"
     ]
    },
    {
     "name": "stderr",
     "output_type": "stream",
     "text": [
      "\u001b[32m[I 2022-05-24 02:58:04,978]\u001b[0m Trial 325 finished with value: 0.001162239371754636 and parameters: {'n_layers': 3, 'n_units_l0': 208, 'n_units_l1': 233, 'n_units_l2': 198}. Best is trial 212 with value: 0.0007379003873216501.\u001b[0m\n"
     ]
    },
    {
     "name": "stdout",
     "output_type": "stream",
     "text": [
      "Model FID: 0.001162239371754636 \n",
      "\n",
      "Model architecture: [266, 192, 234]\n"
     ]
    },
    {
     "name": "stderr",
     "output_type": "stream",
     "text": [
      "\u001b[32m[I 2022-05-24 02:59:19,907]\u001b[0m Trial 326 finished with value: 0.0016212712446157197 and parameters: {'n_layers': 3, 'n_units_l0': 234, 'n_units_l1': 192, 'n_units_l2': 266}. Best is trial 212 with value: 0.0007379003873216501.\u001b[0m\n"
     ]
    },
    {
     "name": "stdout",
     "output_type": "stream",
     "text": [
      "Model FID: 0.0016212712446157197 \n",
      "\n",
      "Model architecture: [295, 276, 222]\n"
     ]
    },
    {
     "name": "stderr",
     "output_type": "stream",
     "text": [
      "\u001b[32m[I 2022-05-24 03:00:31,780]\u001b[0m Trial 327 finished with value: 0.0014768087669738432 and parameters: {'n_layers': 3, 'n_units_l0': 222, 'n_units_l1': 276, 'n_units_l2': 295}. Best is trial 212 with value: 0.0007379003873216501.\u001b[0m\n"
     ]
    },
    {
     "name": "stdout",
     "output_type": "stream",
     "text": [
      "Model FID: 0.0014768087669738432 \n",
      "\n",
      "Model architecture: [497, 239, 251]\n"
     ]
    },
    {
     "name": "stderr",
     "output_type": "stream",
     "text": [
      "\u001b[32m[I 2022-05-24 03:01:46,725]\u001b[0m Trial 328 finished with value: 0.0010479956367432923 and parameters: {'n_layers': 3, 'n_units_l0': 251, 'n_units_l1': 239, 'n_units_l2': 497}. Best is trial 212 with value: 0.0007379003873216501.\u001b[0m\n"
     ]
    },
    {
     "name": "stdout",
     "output_type": "stream",
     "text": [
      "Model FID: 0.0010479956367432923 \n",
      "\n",
      "Model architecture: [528, 178, 195]\n"
     ]
    },
    {
     "name": "stderr",
     "output_type": "stream",
     "text": [
      "\u001b[32m[I 2022-05-24 03:03:01,337]\u001b[0m Trial 329 finished with value: 0.0011883388135968378 and parameters: {'n_layers': 3, 'n_units_l0': 195, 'n_units_l1': 178, 'n_units_l2': 528}. Best is trial 212 with value: 0.0007379003873216501.\u001b[0m\n"
     ]
    },
    {
     "name": "stdout",
     "output_type": "stream",
     "text": [
      "Model FID: 0.0011883388135968378 \n",
      "\n",
      "Model architecture: [313, 217, 242]\n"
     ]
    },
    {
     "name": "stderr",
     "output_type": "stream",
     "text": [
      "\u001b[32m[I 2022-05-24 03:04:14,408]\u001b[0m Trial 330 finished with value: 0.001307214103936963 and parameters: {'n_layers': 3, 'n_units_l0': 242, 'n_units_l1': 217, 'n_units_l2': 313}. Best is trial 212 with value: 0.0007379003873216501.\u001b[0m\n"
     ]
    },
    {
     "name": "stdout",
     "output_type": "stream",
     "text": [
      "Model FID: 0.001307214103936963 \n",
      "\n",
      "Model architecture: [420, 196, 217]\n"
     ]
    },
    {
     "name": "stderr",
     "output_type": "stream",
     "text": [
      "\u001b[32m[I 2022-05-24 03:05:28,834]\u001b[0m Trial 331 finished with value: 0.001052875584356634 and parameters: {'n_layers': 3, 'n_units_l0': 217, 'n_units_l1': 196, 'n_units_l2': 420}. Best is trial 212 with value: 0.0007379003873216501.\u001b[0m\n"
     ]
    },
    {
     "name": "stdout",
     "output_type": "stream",
     "text": [
      "Model FID: 0.001052875584356634 \n",
      "\n",
      "Model architecture: [732, 168, 143]\n"
     ]
    },
    {
     "name": "stderr",
     "output_type": "stream",
     "text": [
      "\u001b[32m[I 2022-05-24 03:06:44,090]\u001b[0m Trial 332 finished with value: 0.0024022563054315773 and parameters: {'n_layers': 3, 'n_units_l0': 143, 'n_units_l1': 168, 'n_units_l2': 732}. Best is trial 212 with value: 0.0007379003873216501.\u001b[0m\n"
     ]
    },
    {
     "name": "stdout",
     "output_type": "stream",
     "text": [
      "Model FID: 0.0024022563054315773 \n",
      "\n",
      "Model architecture: [185, 262]\n"
     ]
    },
    {
     "name": "stderr",
     "output_type": "stream",
     "text": [
      "\u001b[32m[I 2022-05-24 03:07:44,414]\u001b[0m Trial 333 finished with value: 0.010161988003155861 and parameters: {'n_layers': 2, 'n_units_l0': 262, 'n_units_l1': 185}. Best is trial 212 with value: 0.0007379003873216501.\u001b[0m\n"
     ]
    },
    {
     "name": "stdout",
     "output_type": "stream",
     "text": [
      "Model FID: 0.010161988003155861 \n",
      "\n",
      "Model architecture: [236, 651, 179]\n"
     ]
    },
    {
     "name": "stderr",
     "output_type": "stream",
     "text": [
      "\u001b[32m[I 2022-05-24 03:09:01,754]\u001b[0m Trial 334 finished with value: 0.00665542228396343 and parameters: {'n_layers': 3, 'n_units_l0': 179, 'n_units_l1': 651, 'n_units_l2': 236}. Best is trial 212 with value: 0.0007379003873216501.\u001b[0m\n"
     ]
    },
    {
     "name": "stdout",
     "output_type": "stream",
     "text": [
      "Model FID: 0.00665542228396343 \n",
      "\n",
      "Model architecture: [286, 158, 237]\n"
     ]
    },
    {
     "name": "stderr",
     "output_type": "stream",
     "text": [
      "\u001b[32m[I 2022-05-24 03:10:15,282]\u001b[0m Trial 335 finished with value: 0.0010985774577596998 and parameters: {'n_layers': 3, 'n_units_l0': 237, 'n_units_l1': 158, 'n_units_l2': 286}. Best is trial 212 with value: 0.0007379003873216501.\u001b[0m\n"
     ]
    },
    {
     "name": "stdout",
     "output_type": "stream",
     "text": [
      "Model FID: 0.0010985774577596998 \n",
      "\n",
      "Model architecture: [389, 217, 554]\n"
     ]
    },
    {
     "name": "stderr",
     "output_type": "stream",
     "text": [
      "\u001b[32m[I 2022-05-24 03:11:29,531]\u001b[0m Trial 336 finished with value: 0.0023663758157609826 and parameters: {'n_layers': 3, 'n_units_l0': 554, 'n_units_l1': 217, 'n_units_l2': 389}. Best is trial 212 with value: 0.0007379003873216501.\u001b[0m\n"
     ]
    },
    {
     "name": "stdout",
     "output_type": "stream",
     "text": [
      "Model FID: 0.0023663758157609826 \n",
      "\n",
      "Model architecture: [446, 257, 270]\n"
     ]
    },
    {
     "name": "stderr",
     "output_type": "stream",
     "text": [
      "\u001b[32m[I 2022-05-24 03:12:41,857]\u001b[0m Trial 337 finished with value: 0.01583022696190223 and parameters: {'n_layers': 3, 'n_units_l0': 270, 'n_units_l1': 257, 'n_units_l2': 446}. Best is trial 212 with value: 0.0007379003873216501.\u001b[0m\n"
     ]
    },
    {
     "name": "stdout",
     "output_type": "stream",
     "text": [
      "Model FID: 0.01583022696190223 \n",
      "\n",
      "Model architecture: [794, 154, 212]\n"
     ]
    },
    {
     "name": "stderr",
     "output_type": "stream",
     "text": [
      "\u001b[32m[I 2022-05-24 03:13:56,970]\u001b[0m Trial 338 finished with value: 0.0021059937461195416 and parameters: {'n_layers': 3, 'n_units_l0': 212, 'n_units_l1': 154, 'n_units_l2': 794}. Best is trial 212 with value: 0.0007379003873216501.\u001b[0m\n"
     ]
    },
    {
     "name": "stdout",
     "output_type": "stream",
     "text": [
      "Model FID: 0.0021059937461195416 \n",
      "\n",
      "Model architecture: [322, 176, 253]\n"
     ]
    },
    {
     "name": "stderr",
     "output_type": "stream",
     "text": [
      "\u001b[32m[I 2022-05-24 03:15:13,824]\u001b[0m Trial 339 finished with value: 0.0016085650763708276 and parameters: {'n_layers': 3, 'n_units_l0': 253, 'n_units_l1': 176, 'n_units_l2': 322}. Best is trial 212 with value: 0.0007379003873216501.\u001b[0m\n"
     ]
    },
    {
     "name": "stdout",
     "output_type": "stream",
     "text": [
      "Model FID: 0.0016085650763708276 \n",
      "\n",
      "Model architecture: [701, 128, 271]\n"
     ]
    },
    {
     "name": "stderr",
     "output_type": "stream",
     "text": [
      "\u001b[32m[I 2022-05-24 03:16:28,850]\u001b[0m Trial 340 finished with value: 0.0016028856783305357 and parameters: {'n_layers': 3, 'n_units_l0': 271, 'n_units_l1': 128, 'n_units_l2': 701}. Best is trial 212 with value: 0.0007379003873216501.\u001b[0m\n"
     ]
    },
    {
     "name": "stdout",
     "output_type": "stream",
     "text": [
      "Model FID: 0.0016028856783305357 \n",
      "\n",
      "Model architecture: [561, 445, 422]\n"
     ]
    },
    {
     "name": "stderr",
     "output_type": "stream",
     "text": [
      "\u001b[32m[I 2022-05-24 03:17:42,359]\u001b[0m Trial 341 finished with value: 0.0012796753985321952 and parameters: {'n_layers': 3, 'n_units_l0': 422, 'n_units_l1': 445, 'n_units_l2': 561}. Best is trial 212 with value: 0.0007379003873216501.\u001b[0m\n"
     ]
    },
    {
     "name": "stdout",
     "output_type": "stream",
     "text": [
      "Model FID: 0.0012796753985321952 \n",
      "\n",
      "Model architecture: [260, 297, 295]\n"
     ]
    },
    {
     "name": "stderr",
     "output_type": "stream",
     "text": [
      "\u001b[32m[I 2022-05-24 03:18:53,777]\u001b[0m Trial 342 finished with value: 0.05907112790675202 and parameters: {'n_layers': 3, 'n_units_l0': 295, 'n_units_l1': 297, 'n_units_l2': 260}. Best is trial 212 with value: 0.0007379003873216501.\u001b[0m\n"
     ]
    },
    {
     "name": "stdout",
     "output_type": "stream",
     "text": [
      "Model FID: 0.05907112790675202 \n",
      "\n",
      "Model architecture: [408, 201, 239]\n"
     ]
    },
    {
     "name": "stderr",
     "output_type": "stream",
     "text": [
      "\u001b[32m[I 2022-05-24 03:20:08,545]\u001b[0m Trial 343 finished with value: 0.001162956891399758 and parameters: {'n_layers': 3, 'n_units_l0': 239, 'n_units_l1': 201, 'n_units_l2': 408}. Best is trial 212 with value: 0.0007379003873216501.\u001b[0m\n"
     ]
    },
    {
     "name": "stdout",
     "output_type": "stream",
     "text": [
      "Model FID: 0.001162956891399758 \n",
      "\n",
      "Model architecture: [299, 148, 192]\n"
     ]
    },
    {
     "name": "stderr",
     "output_type": "stream",
     "text": [
      "\u001b[32m[I 2022-05-24 03:21:22,145]\u001b[0m Trial 344 finished with value: 0.0014390574505849956 and parameters: {'n_layers': 3, 'n_units_l0': 192, 'n_units_l1': 148, 'n_units_l2': 299}. Best is trial 212 with value: 0.0007379003873216501.\u001b[0m\n"
     ]
    },
    {
     "name": "stdout",
     "output_type": "stream",
     "text": [
      "Model FID: 0.0014390574505849956 \n",
      "\n",
      "Model architecture: [335, 168, 284]\n"
     ]
    },
    {
     "name": "stderr",
     "output_type": "stream",
     "text": [
      "\u001b[32m[I 2022-05-24 03:22:33,470]\u001b[0m Trial 345 finished with value: 0.001161685190927081 and parameters: {'n_layers': 3, 'n_units_l0': 284, 'n_units_l1': 168, 'n_units_l2': 335}. Best is trial 212 with value: 0.0007379003873216501.\u001b[0m\n"
     ]
    },
    {
     "name": "stdout",
     "output_type": "stream",
     "text": [
      "Model FID: 0.001161685190927081 \n",
      "\n",
      "Model architecture: [433, 185, 222]\n"
     ]
    },
    {
     "name": "stderr",
     "output_type": "stream",
     "text": [
      "\u001b[32m[I 2022-05-24 03:23:48,560]\u001b[0m Trial 346 finished with value: 0.0011398654934675703 and parameters: {'n_layers': 3, 'n_units_l0': 222, 'n_units_l1': 185, 'n_units_l2': 433}. Best is trial 212 with value: 0.0007379003873216501.\u001b[0m\n"
     ]
    },
    {
     "name": "stdout",
     "output_type": "stream",
     "text": [
      "Model FID: 0.0011398654934675703 \n",
      "\n",
      "Model architecture: [370, 532, 255]\n"
     ]
    },
    {
     "name": "stderr",
     "output_type": "stream",
     "text": [
      "\u001b[32m[I 2022-05-24 03:25:02,995]\u001b[0m Trial 347 finished with value: 0.0038262890866909544 and parameters: {'n_layers': 3, 'n_units_l0': 255, 'n_units_l1': 532, 'n_units_l2': 370}. Best is trial 212 with value: 0.0007379003873216501.\u001b[0m\n"
     ]
    },
    {
     "name": "stdout",
     "output_type": "stream",
     "text": [
      "Model FID: 0.0038262890866909544 \n",
      "\n",
      "Model architecture: [749, 143, 303]\n"
     ]
    },
    {
     "name": "stderr",
     "output_type": "stream",
     "text": [
      "\u001b[32m[I 2022-05-24 03:26:18,286]\u001b[0m Trial 348 finished with value: 0.38774319411534514 and parameters: {'n_layers': 3, 'n_units_l0': 303, 'n_units_l1': 143, 'n_units_l2': 749}. Best is trial 212 with value: 0.0007379003873216501.\u001b[0m\n"
     ]
    },
    {
     "name": "stdout",
     "output_type": "stream",
     "text": [
      "Model FID: 0.38774319411534514 \n",
      "\n",
      "Model architecture: [618, 206, 202]\n"
     ]
    },
    {
     "name": "stderr",
     "output_type": "stream",
     "text": [
      "\u001b[32m[I 2022-05-24 03:27:32,865]\u001b[0m Trial 349 finished with value: 0.0018230046781362607 and parameters: {'n_layers': 3, 'n_units_l0': 202, 'n_units_l1': 206, 'n_units_l2': 618}. Best is trial 212 with value: 0.0007379003873216501.\u001b[0m\n"
     ]
    },
    {
     "name": "stdout",
     "output_type": "stream",
     "text": [
      "Model FID: 0.0018230046781362607 \n",
      "\n",
      "Model architecture: [385, 231, 732]\n"
     ]
    },
    {
     "name": "stderr",
     "output_type": "stream",
     "text": [
      "\u001b[32m[I 2022-05-24 03:28:49,296]\u001b[0m Trial 350 finished with value: 0.027395925519043386 and parameters: {'n_layers': 3, 'n_units_l0': 732, 'n_units_l1': 231, 'n_units_l2': 385}. Best is trial 212 with value: 0.0007379003873216501.\u001b[0m\n"
     ]
    },
    {
     "name": "stdout",
     "output_type": "stream",
     "text": [
      "Model FID: 0.027395925519043386 \n",
      "\n",
      "Model architecture: [316, 169, 281]\n"
     ]
    },
    {
     "name": "stderr",
     "output_type": "stream",
     "text": [
      "\u001b[32m[I 2022-05-24 03:30:04,237]\u001b[0m Trial 351 finished with value: 0.001587162293100957 and parameters: {'n_layers': 3, 'n_units_l0': 281, 'n_units_l1': 169, 'n_units_l2': 316}. Best is trial 212 with value: 0.0007379003873216501.\u001b[0m\n"
     ]
    },
    {
     "name": "stdout",
     "output_type": "stream",
     "text": [
      "Model FID: 0.001587162293100957 \n",
      "\n",
      "Model architecture: [468, 153, 246]\n"
     ]
    },
    {
     "name": "stderr",
     "output_type": "stream",
     "text": [
      "\u001b[32m[I 2022-05-24 03:31:19,395]\u001b[0m Trial 352 finished with value: 0.0014136203565677484 and parameters: {'n_layers': 3, 'n_units_l0': 246, 'n_units_l1': 153, 'n_units_l2': 468}. Best is trial 212 with value: 0.0007379003873216501.\u001b[0m\n"
     ]
    },
    {
     "name": "stdout",
     "output_type": "stream",
     "text": [
      "Model FID: 0.0014136203565677484 \n",
      "\n",
      "Model architecture: [272, 179, 265]\n"
     ]
    },
    {
     "name": "stderr",
     "output_type": "stream",
     "text": [
      "\u001b[32m[I 2022-05-24 03:32:33,737]\u001b[0m Trial 353 finished with value: 0.0011801547579940444 and parameters: {'n_layers': 3, 'n_units_l0': 265, 'n_units_l1': 179, 'n_units_l2': 272}. Best is trial 212 with value: 0.0007379003873216501.\u001b[0m\n"
     ]
    },
    {
     "name": "stdout",
     "output_type": "stream",
     "text": [
      "Model FID: 0.0011801547579940444 \n",
      "\n",
      "Model architecture: [600, 137, 226]\n"
     ]
    },
    {
     "name": "stderr",
     "output_type": "stream",
     "text": [
      "\u001b[32m[I 2022-05-24 03:33:48,138]\u001b[0m Trial 354 finished with value: 0.0008952495271241277 and parameters: {'n_layers': 3, 'n_units_l0': 226, 'n_units_l1': 137, 'n_units_l2': 600}. Best is trial 212 with value: 0.0007379003873216501.\u001b[0m\n"
     ]
    },
    {
     "name": "stdout",
     "output_type": "stream",
     "text": [
      "Model FID: 0.0008952495271241277 \n",
      "\n",
      "Model architecture: [597, 134, 229]\n"
     ]
    },
    {
     "name": "stderr",
     "output_type": "stream",
     "text": [
      "\u001b[32m[I 2022-05-24 03:35:02,481]\u001b[0m Trial 355 finished with value: 0.0016718690979593274 and parameters: {'n_layers': 3, 'n_units_l0': 229, 'n_units_l1': 134, 'n_units_l2': 597}. Best is trial 212 with value: 0.0007379003873216501.\u001b[0m\n"
     ]
    },
    {
     "name": "stdout",
     "output_type": "stream",
     "text": [
      "Model FID: 0.0016718690979593274 \n",
      "\n",
      "Model architecture: [614, 139, 257]\n"
     ]
    },
    {
     "name": "stderr",
     "output_type": "stream",
     "text": [
      "\u001b[32m[I 2022-05-24 03:36:17,343]\u001b[0m Trial 356 finished with value: 0.0012206007155876367 and parameters: {'n_layers': 3, 'n_units_l0': 257, 'n_units_l1': 139, 'n_units_l2': 614}. Best is trial 212 with value: 0.0007379003873216501.\u001b[0m\n"
     ]
    },
    {
     "name": "stdout",
     "output_type": "stream",
     "text": [
      "Model FID: 0.0012206007155876367 \n",
      "\n",
      "Model architecture: [665, 157, 284]\n"
     ]
    },
    {
     "name": "stderr",
     "output_type": "stream",
     "text": [
      "\u001b[32m[I 2022-05-24 03:37:32,245]\u001b[0m Trial 357 finished with value: 0.001177948730269164 and parameters: {'n_layers': 3, 'n_units_l0': 284, 'n_units_l1': 157, 'n_units_l2': 665}. Best is trial 212 with value: 0.0007379003873216501.\u001b[0m\n"
     ]
    },
    {
     "name": "stdout",
     "output_type": "stream",
     "text": [
      "Model FID: 0.001177948730269164 \n",
      "\n",
      "Model architecture: [634, 772, 304]\n"
     ]
    },
    {
     "name": "stderr",
     "output_type": "stream",
     "text": [
      "\u001b[32m[I 2022-05-24 03:38:46,551]\u001b[0m Trial 358 finished with value: 0.0053656375184778435 and parameters: {'n_layers': 3, 'n_units_l0': 304, 'n_units_l1': 772, 'n_units_l2': 634}. Best is trial 212 with value: 0.0007379003873216501.\u001b[0m\n"
     ]
    },
    {
     "name": "stdout",
     "output_type": "stream",
     "text": [
      "Model FID: 0.0053656375184778435 \n",
      "\n",
      "Model architecture: [575, 131, 239]\n"
     ]
    },
    {
     "name": "stderr",
     "output_type": "stream",
     "text": [
      "\u001b[32m[I 2022-05-24 03:40:01,220]\u001b[0m Trial 359 finished with value: 0.0008733172836023403 and parameters: {'n_layers': 3, 'n_units_l0': 239, 'n_units_l1': 131, 'n_units_l2': 575}. Best is trial 212 with value: 0.0007379003873216501.\u001b[0m\n"
     ]
    },
    {
     "name": "stdout",
     "output_type": "stream",
     "text": [
      "Model FID: 0.0008733172836023403 \n",
      "\n",
      "Model architecture: [580, 129, 233]\n"
     ]
    },
    {
     "name": "stderr",
     "output_type": "stream",
     "text": [
      "\u001b[32m[I 2022-05-24 03:41:15,172]\u001b[0m Trial 360 finished with value: 0.0011534805660510196 and parameters: {'n_layers': 3, 'n_units_l0': 233, 'n_units_l1': 129, 'n_units_l2': 580}. Best is trial 212 with value: 0.0007379003873216501.\u001b[0m\n"
     ]
    },
    {
     "name": "stdout",
     "output_type": "stream",
     "text": [
      "Model FID: 0.0011534805660510196 \n",
      "\n",
      "Model architecture: [551, 128, 241]\n"
     ]
    },
    {
     "name": "stderr",
     "output_type": "stream",
     "text": [
      "\u001b[32m[I 2022-05-24 03:42:30,179]\u001b[0m Trial 361 finished with value: 0.0013797345664747769 and parameters: {'n_layers': 3, 'n_units_l0': 241, 'n_units_l1': 128, 'n_units_l2': 551}. Best is trial 212 with value: 0.0007379003873216501.\u001b[0m\n"
     ]
    },
    {
     "name": "stdout",
     "output_type": "stream",
     "text": [
      "Model FID: 0.0013797345664747769 \n",
      "\n",
      "Model architecture: [537, 148, 220]\n"
     ]
    },
    {
     "name": "stderr",
     "output_type": "stream",
     "text": [
      "\u001b[32m[I 2022-05-24 03:43:44,186]\u001b[0m Trial 362 finished with value: 0.0012397881361279571 and parameters: {'n_layers': 3, 'n_units_l0': 220, 'n_units_l1': 148, 'n_units_l2': 537}. Best is trial 212 with value: 0.0007379003873216501.\u001b[0m\n"
     ]
    },
    {
     "name": "stdout",
     "output_type": "stream",
     "text": [
      "Model FID: 0.0012397881361279571 \n",
      "\n",
      "Model architecture: [593, 128, 176]\n"
     ]
    },
    {
     "name": "stderr",
     "output_type": "stream",
     "text": [
      "\u001b[32m[I 2022-05-24 03:44:58,164]\u001b[0m Trial 363 finished with value: 0.0013142893408147225 and parameters: {'n_layers': 3, 'n_units_l0': 176, 'n_units_l1': 128, 'n_units_l2': 593}. Best is trial 212 with value: 0.0007379003873216501.\u001b[0m\n"
     ]
    },
    {
     "name": "stdout",
     "output_type": "stream",
     "text": [
      "Model FID: 0.0013142893408147225 \n",
      "\n",
      "Model architecture: [549, 153, 276]\n"
     ]
    },
    {
     "name": "stderr",
     "output_type": "stream",
     "text": [
      "\u001b[32m[I 2022-05-24 03:46:12,821]\u001b[0m Trial 364 finished with value: 0.000795055262550861 and parameters: {'n_layers': 3, 'n_units_l0': 276, 'n_units_l1': 153, 'n_units_l2': 549}. Best is trial 212 with value: 0.0007379003873216501.\u001b[0m\n"
     ]
    },
    {
     "name": "stdout",
     "output_type": "stream",
     "text": [
      "Model FID: 0.000795055262550861 \n",
      "\n",
      "Model architecture: [563, 144, 268]\n"
     ]
    },
    {
     "name": "stderr",
     "output_type": "stream",
     "text": [
      "\u001b[32m[I 2022-05-24 03:47:26,234]\u001b[0m Trial 365 finished with value: 0.00069642398119257 and parameters: {'n_layers': 3, 'n_units_l0': 268, 'n_units_l1': 144, 'n_units_l2': 563}. Best is trial 365 with value: 0.00069642398119257.\u001b[0m\n"
     ]
    },
    {
     "name": "stdout",
     "output_type": "stream",
     "text": [
      "Model FID: 0.00069642398119257 \n",
      "\n",
      "Model architecture: [546, 147, 588]\n"
     ]
    },
    {
     "name": "stderr",
     "output_type": "stream",
     "text": [
      "\u001b[32m[I 2022-05-24 03:48:40,440]\u001b[0m Trial 366 finished with value: 0.0010691681902287057 and parameters: {'n_layers': 3, 'n_units_l0': 588, 'n_units_l1': 147, 'n_units_l2': 546}. Best is trial 365 with value: 0.00069642398119257.\u001b[0m\n"
     ]
    },
    {
     "name": "stdout",
     "output_type": "stream",
     "text": [
      "Model FID: 0.0010691681902287057 \n",
      "\n",
      "Model architecture: [517, 144, 276]\n"
     ]
    },
    {
     "name": "stderr",
     "output_type": "stream",
     "text": [
      "\u001b[32m[I 2022-05-24 03:49:54,081]\u001b[0m Trial 367 finished with value: 0.0012517693574188508 and parameters: {'n_layers': 3, 'n_units_l0': 276, 'n_units_l1': 144, 'n_units_l2': 517}. Best is trial 365 with value: 0.00069642398119257.\u001b[0m\n"
     ]
    },
    {
     "name": "stdout",
     "output_type": "stream",
     "text": [
      "Model FID: 0.0012517693574188508 \n",
      "\n",
      "Model architecture: [561, 128, 267]\n"
     ]
    },
    {
     "name": "stderr",
     "output_type": "stream",
     "text": [
      "\u001b[32m[I 2022-05-24 03:51:08,992]\u001b[0m Trial 368 finished with value: 0.5916772517939538 and parameters: {'n_layers': 3, 'n_units_l0': 267, 'n_units_l1': 128, 'n_units_l2': 561}. Best is trial 365 with value: 0.00069642398119257.\u001b[0m\n"
     ]
    },
    {
     "name": "stdout",
     "output_type": "stream",
     "text": [
      "Model FID: 0.5916772517939538 \n",
      "\n",
      "Model architecture: [582, 152, 249]\n"
     ]
    },
    {
     "name": "stderr",
     "output_type": "stream",
     "text": [
      "\u001b[32m[I 2022-05-24 03:52:23,920]\u001b[0m Trial 369 finished with value: 0.00114236135946505 and parameters: {'n_layers': 3, 'n_units_l0': 249, 'n_units_l1': 152, 'n_units_l2': 582}. Best is trial 365 with value: 0.00069642398119257.\u001b[0m\n"
     ]
    },
    {
     "name": "stdout",
     "output_type": "stream",
     "text": [
      "Model FID: 0.00114236135946505 \n",
      "\n",
      "Model architecture: [571, 159, 291]\n"
     ]
    },
    {
     "name": "stderr",
     "output_type": "stream",
     "text": [
      "\u001b[32m[I 2022-05-24 03:53:38,969]\u001b[0m Trial 370 finished with value: 0.0009421432845887815 and parameters: {'n_layers': 3, 'n_units_l0': 291, 'n_units_l1': 159, 'n_units_l2': 571}. Best is trial 365 with value: 0.00069642398119257.\u001b[0m\n"
     ]
    },
    {
     "name": "stdout",
     "output_type": "stream",
     "text": [
      "Model FID: 0.0009421432845887815 \n",
      "\n",
      "Model architecture: [560, 160, 295]\n"
     ]
    },
    {
     "name": "stderr",
     "output_type": "stream",
     "text": [
      "\u001b[32m[I 2022-05-24 03:54:54,001]\u001b[0m Trial 371 finished with value: 0.079613620984313 and parameters: {'n_layers': 3, 'n_units_l0': 295, 'n_units_l1': 160, 'n_units_l2': 560}. Best is trial 365 with value: 0.00069642398119257.\u001b[0m\n"
     ]
    },
    {
     "name": "stdout",
     "output_type": "stream",
     "text": [
      "Model FID: 0.079613620984313 \n",
      "\n",
      "Model architecture: [570, 142, 329]\n"
     ]
    },
    {
     "name": "stderr",
     "output_type": "stream",
     "text": [
      "\u001b[32m[I 2022-05-24 03:56:08,624]\u001b[0m Trial 372 finished with value: 0.0013486428726695258 and parameters: {'n_layers': 3, 'n_units_l0': 329, 'n_units_l1': 142, 'n_units_l2': 570}. Best is trial 365 with value: 0.00069642398119257.\u001b[0m\n"
     ]
    },
    {
     "name": "stdout",
     "output_type": "stream",
     "text": [
      "Model FID: 0.0013486428726695258 \n",
      "\n",
      "Model architecture: [598, 128, 286]\n"
     ]
    },
    {
     "name": "stderr",
     "output_type": "stream",
     "text": [
      "\u001b[32m[I 2022-05-24 03:57:23,767]\u001b[0m Trial 373 finished with value: 0.0010459557491607264 and parameters: {'n_layers': 3, 'n_units_l0': 286, 'n_units_l1': 128, 'n_units_l2': 598}. Best is trial 365 with value: 0.00069642398119257.\u001b[0m\n"
     ]
    },
    {
     "name": "stdout",
     "output_type": "stream",
     "text": [
      "Model FID: 0.0010459557491607264 \n",
      "\n",
      "Model architecture: [540, 163, 298]\n"
     ]
    },
    {
     "name": "stderr",
     "output_type": "stream",
     "text": [
      "\u001b[32m[I 2022-05-24 03:58:38,777]\u001b[0m Trial 374 finished with value: 0.0008880905733017974 and parameters: {'n_layers': 3, 'n_units_l0': 298, 'n_units_l1': 163, 'n_units_l2': 540}. Best is trial 365 with value: 0.00069642398119257.\u001b[0m\n"
     ]
    },
    {
     "name": "stdout",
     "output_type": "stream",
     "text": [
      "Model FID: 0.0008880905733017974 \n",
      "\n",
      "Model architecture: [166, 311]\n"
     ]
    },
    {
     "name": "stderr",
     "output_type": "stream",
     "text": [
      "\u001b[32m[I 2022-05-24 03:59:39,089]\u001b[0m Trial 375 finished with value: 0.014962640602591237 and parameters: {'n_layers': 2, 'n_units_l0': 311, 'n_units_l1': 166}. Best is trial 365 with value: 0.00069642398119257.\u001b[0m\n"
     ]
    },
    {
     "name": "stdout",
     "output_type": "stream",
     "text": [
      "Model FID: 0.014962640602591237 \n",
      "\n",
      "Model architecture: [542, 158, 286]\n"
     ]
    },
    {
     "name": "stderr",
     "output_type": "stream",
     "text": [
      "\u001b[32m[I 2022-05-24 04:00:53,801]\u001b[0m Trial 376 finished with value: 0.004784498459648753 and parameters: {'n_layers': 3, 'n_units_l0': 286, 'n_units_l1': 158, 'n_units_l2': 542}. Best is trial 365 with value: 0.00069642398119257.\u001b[0m\n"
     ]
    },
    {
     "name": "stdout",
     "output_type": "stream",
     "text": [
      "Model FID: 0.004784498459648753 \n",
      "\n",
      "Model architecture: [569, 156, 305]\n"
     ]
    },
    {
     "name": "stderr",
     "output_type": "stream",
     "text": [
      "\u001b[32m[I 2022-05-24 04:02:08,819]\u001b[0m Trial 377 finished with value: 0.0015607365195742754 and parameters: {'n_layers': 3, 'n_units_l0': 305, 'n_units_l1': 156, 'n_units_l2': 569}. Best is trial 365 with value: 0.00069642398119257.\u001b[0m\n"
     ]
    },
    {
     "name": "stdout",
     "output_type": "stream",
     "text": [
      "Model FID: 0.0015607365195742754 \n",
      "\n",
      "Model architecture: [512, 160, 523]\n"
     ]
    },
    {
     "name": "stderr",
     "output_type": "stream",
     "text": [
      "\u001b[32m[I 2022-05-24 04:03:22,634]\u001b[0m Trial 378 finished with value: 36.940567854233095 and parameters: {'n_layers': 3, 'n_units_l0': 523, 'n_units_l1': 160, 'n_units_l2': 512}. Best is trial 365 with value: 0.00069642398119257.\u001b[0m\n"
     ]
    },
    {
     "name": "stdout",
     "output_type": "stream",
     "text": [
      "Model FID: 36.940567854233095 \n",
      "\n",
      "Model architecture: [580, 145, 335]\n"
     ]
    },
    {
     "name": "stderr",
     "output_type": "stream",
     "text": [
      "\u001b[32m[I 2022-05-24 04:04:37,177]\u001b[0m Trial 379 finished with value: 0.0010429736599238634 and parameters: {'n_layers': 3, 'n_units_l0': 335, 'n_units_l1': 145, 'n_units_l2': 580}. Best is trial 365 with value: 0.00069642398119257.\u001b[0m\n"
     ]
    },
    {
     "name": "stdout",
     "output_type": "stream",
     "text": [
      "Model FID: 0.0010429736599238634 \n",
      "\n",
      "Model architecture: [529, 170, 295]\n"
     ]
    },
    {
     "name": "stderr",
     "output_type": "stream",
     "text": [
      "\u001b[32m[I 2022-05-24 04:05:52,249]\u001b[0m Trial 380 finished with value: 0.0026671105594696684 and parameters: {'n_layers': 3, 'n_units_l0': 295, 'n_units_l1': 170, 'n_units_l2': 529}. Best is trial 365 with value: 0.00069642398119257.\u001b[0m\n"
     ]
    },
    {
     "name": "stdout",
     "output_type": "stream",
     "text": [
      "Model FID: 0.0026671105594696684 \n",
      "\n",
      "Model architecture: [594, 144, 351]\n"
     ]
    },
    {
     "name": "stderr",
     "output_type": "stream",
     "text": [
      "\u001b[32m[I 2022-05-24 04:07:06,994]\u001b[0m Trial 381 finished with value: 0.6416062170618333 and parameters: {'n_layers': 3, 'n_units_l0': 351, 'n_units_l1': 144, 'n_units_l2': 594}. Best is trial 365 with value: 0.00069642398119257.\u001b[0m\n"
     ]
    },
    {
     "name": "stdout",
     "output_type": "stream",
     "text": [
      "Model FID: 0.6416062170618333 \n",
      "\n",
      "Model architecture: [548, 178, 277]\n"
     ]
    },
    {
     "name": "stderr",
     "output_type": "stream",
     "text": [
      "\u001b[32m[I 2022-05-24 04:08:21,678]\u001b[0m Trial 382 finished with value: 0.14000449426831837 and parameters: {'n_layers': 3, 'n_units_l0': 277, 'n_units_l1': 178, 'n_units_l2': 548}. Best is trial 365 with value: 0.00069642398119257.\u001b[0m\n"
     ]
    },
    {
     "name": "stdout",
     "output_type": "stream",
     "text": [
      "Model FID: 0.14000449426831837 \n",
      "\n",
      "Model architecture: [558, 159, 271]\n"
     ]
    },
    {
     "name": "stderr",
     "output_type": "stream",
     "text": [
      "\u001b[32m[I 2022-05-24 04:09:36,205]\u001b[0m Trial 383 finished with value: 0.0013606709757793818 and parameters: {'n_layers': 3, 'n_units_l0': 271, 'n_units_l1': 159, 'n_units_l2': 558}. Best is trial 365 with value: 0.00069642398119257.\u001b[0m\n"
     ]
    },
    {
     "name": "stdout",
     "output_type": "stream",
     "text": [
      "Model FID: 0.0013606709757793818 \n",
      "\n",
      "Model architecture: [570, 143, 324]\n"
     ]
    },
    {
     "name": "stderr",
     "output_type": "stream",
     "text": [
      "\u001b[32m[I 2022-05-24 04:10:50,820]\u001b[0m Trial 384 finished with value: 0.0008649460979773115 and parameters: {'n_layers': 3, 'n_units_l0': 324, 'n_units_l1': 143, 'n_units_l2': 570}. Best is trial 365 with value: 0.00069642398119257.\u001b[0m\n"
     ]
    },
    {
     "name": "stdout",
     "output_type": "stream",
     "text": [
      "Model FID: 0.0008649460979773115 \n",
      "\n",
      "Model architecture: [529, 187, 362]\n"
     ]
    },
    {
     "name": "stderr",
     "output_type": "stream",
     "text": [
      "\u001b[32m[I 2022-05-24 04:12:05,610]\u001b[0m Trial 385 finished with value: 0.2232152429823827 and parameters: {'n_layers': 3, 'n_units_l0': 362, 'n_units_l1': 187, 'n_units_l2': 529}. Best is trial 365 with value: 0.00069642398119257.\u001b[0m\n"
     ]
    },
    {
     "name": "stdout",
     "output_type": "stream",
     "text": [
      "Model FID: 0.2232152429823827 \n",
      "\n",
      "Model architecture: [568, 164, 328]\n"
     ]
    },
    {
     "name": "stderr",
     "output_type": "stream",
     "text": [
      "\u001b[32m[I 2022-05-24 04:13:19,012]\u001b[0m Trial 386 finished with value: 0.0016835160318455229 and parameters: {'n_layers': 3, 'n_units_l0': 328, 'n_units_l1': 164, 'n_units_l2': 568}. Best is trial 365 with value: 0.00069642398119257.\u001b[0m\n"
     ]
    },
    {
     "name": "stdout",
     "output_type": "stream",
     "text": [
      "Model FID: 0.0016835160318455229 \n",
      "\n",
      "Model architecture: [539, 143, 788]\n"
     ]
    },
    {
     "name": "stderr",
     "output_type": "stream",
     "text": [
      "\u001b[32m[I 2022-05-24 04:14:33,244]\u001b[0m Trial 387 finished with value: 0.14175309034013928 and parameters: {'n_layers': 3, 'n_units_l0': 788, 'n_units_l1': 143, 'n_units_l2': 539}. Best is trial 365 with value: 0.00069642398119257.\u001b[0m\n"
     ]
    },
    {
     "name": "stdout",
     "output_type": "stream",
     "text": [
      "Model FID: 0.14175309034013928 \n",
      "\n",
      "Model architecture: [579, 175, 317]\n"
     ]
    },
    {
     "name": "stderr",
     "output_type": "stream",
     "text": [
      "\u001b[32m[I 2022-05-24 04:15:48,453]\u001b[0m Trial 388 finished with value: 0.0008587176890515764 and parameters: {'n_layers': 3, 'n_units_l0': 317, 'n_units_l1': 175, 'n_units_l2': 579}. Best is trial 365 with value: 0.00069642398119257.\u001b[0m\n"
     ]
    },
    {
     "name": "stdout",
     "output_type": "stream",
     "text": [
      "Model FID: 0.0008587176890515764 \n",
      "\n",
      "Model architecture: [576, 183, 380]\n"
     ]
    },
    {
     "name": "stderr",
     "output_type": "stream",
     "text": [
      "\u001b[32m[I 2022-05-24 04:17:03,299]\u001b[0m Trial 389 finished with value: 0.04579470220469786 and parameters: {'n_layers': 3, 'n_units_l0': 380, 'n_units_l1': 183, 'n_units_l2': 576}. Best is trial 365 with value: 0.00069642398119257.\u001b[0m\n"
     ]
    },
    {
     "name": "stdout",
     "output_type": "stream",
     "text": [
      "Model FID: 0.04579470220469786 \n",
      "\n",
      "Model architecture: [608, 172, 351]\n"
     ]
    },
    {
     "name": "stderr",
     "output_type": "stream",
     "text": [
      "\u001b[32m[I 2022-05-24 04:18:17,734]\u001b[0m Trial 390 finished with value: 0.31833614016497 and parameters: {'n_layers': 3, 'n_units_l0': 351, 'n_units_l1': 172, 'n_units_l2': 608}. Best is trial 365 with value: 0.00069642398119257.\u001b[0m\n"
     ]
    },
    {
     "name": "stdout",
     "output_type": "stream",
     "text": [
      "Model FID: 0.31833614016497 \n",
      "\n",
      "Model architecture: [587, 190, 323]\n"
     ]
    },
    {
     "name": "stderr",
     "output_type": "stream",
     "text": [
      "\u001b[32m[I 2022-05-24 04:19:32,503]\u001b[0m Trial 391 finished with value: 0.001023454271119338 and parameters: {'n_layers': 3, 'n_units_l0': 323, 'n_units_l1': 190, 'n_units_l2': 587}. Best is trial 365 with value: 0.00069642398119257.\u001b[0m\n"
     ]
    },
    {
     "name": "stdout",
     "output_type": "stream",
     "text": [
      "Model FID: 0.001023454271119338 \n",
      "\n",
      "Model architecture: [558, 155, 317]\n"
     ]
    },
    {
     "name": "stderr",
     "output_type": "stream",
     "text": [
      "\u001b[32m[I 2022-05-24 04:20:47,594]\u001b[0m Trial 392 finished with value: 0.0010577159100893514 and parameters: {'n_layers': 3, 'n_units_l0': 317, 'n_units_l1': 155, 'n_units_l2': 558}. Best is trial 365 with value: 0.00069642398119257.\u001b[0m\n"
     ]
    },
    {
     "name": "stdout",
     "output_type": "stream",
     "text": [
      "Model FID: 0.0010577159100893514 \n",
      "\n",
      "Model architecture: [577, 143, 332]\n"
     ]
    },
    {
     "name": "stderr",
     "output_type": "stream",
     "text": [
      "\u001b[32m[I 2022-05-24 04:22:02,140]\u001b[0m Trial 393 finished with value: 0.0011468540718988023 and parameters: {'n_layers': 3, 'n_units_l0': 332, 'n_units_l1': 143, 'n_units_l2': 577}. Best is trial 365 with value: 0.00069642398119257.\u001b[0m\n"
     ]
    },
    {
     "name": "stdout",
     "output_type": "stream",
     "text": [
      "Model FID: 0.0011468540718988023 \n",
      "\n",
      "Model architecture: [603, 172, 308]\n"
     ]
    },
    {
     "name": "stderr",
     "output_type": "stream",
     "text": [
      "\u001b[32m[I 2022-05-24 04:23:15,373]\u001b[0m Trial 394 finished with value: 0.002832505046242718 and parameters: {'n_layers': 3, 'n_units_l0': 308, 'n_units_l1': 172, 'n_units_l2': 603}. Best is trial 365 with value: 0.00069642398119257.\u001b[0m\n"
     ]
    },
    {
     "name": "stdout",
     "output_type": "stream",
     "text": [
      "Model FID: 0.002832505046242718 \n",
      "\n",
      "Model architecture: [491, 143, 346]\n"
     ]
    },
    {
     "name": "stderr",
     "output_type": "stream",
     "text": [
      "\u001b[32m[I 2022-05-24 04:24:29,798]\u001b[0m Trial 395 finished with value: 0.0009690519703969465 and parameters: {'n_layers': 3, 'n_units_l0': 346, 'n_units_l1': 143, 'n_units_l2': 491}. Best is trial 365 with value: 0.00069642398119257.\u001b[0m\n"
     ]
    },
    {
     "name": "stdout",
     "output_type": "stream",
     "text": [
      "Model FID: 0.0009690519703969465 \n",
      "\n",
      "Model architecture: [541, 192, 919]\n"
     ]
    },
    {
     "name": "stderr",
     "output_type": "stream",
     "text": [
      "\u001b[32m[I 2022-05-24 04:25:43,618]\u001b[0m Trial 396 finished with value: 0.015533723647586855 and parameters: {'n_layers': 3, 'n_units_l0': 919, 'n_units_l1': 192, 'n_units_l2': 541}. Best is trial 365 with value: 0.00069642398119257.\u001b[0m\n"
     ]
    },
    {
     "name": "stdout",
     "output_type": "stream",
     "text": [
      "Model FID: 0.015533723647586855 \n",
      "\n",
      "Model architecture: [517, 608, 300]\n"
     ]
    },
    {
     "name": "stderr",
     "output_type": "stream",
     "text": [
      "\u001b[32m[I 2022-05-24 04:26:57,012]\u001b[0m Trial 397 finished with value: 10.760307957746233 and parameters: {'n_layers': 3, 'n_units_l0': 300, 'n_units_l1': 608, 'n_units_l2': 517}. Best is trial 365 with value: 0.00069642398119257.\u001b[0m\n"
     ]
    },
    {
     "name": "stdout",
     "output_type": "stream",
     "text": [
      "Model FID: 10.760307957746233 \n",
      "\n",
      "Model architecture: [568, 704, 264]\n"
     ]
    },
    {
     "name": "stderr",
     "output_type": "stream",
     "text": [
      "\u001b[32m[I 2022-05-24 04:28:08,986]\u001b[0m Trial 398 finished with value: 0.08019424468617434 and parameters: {'n_layers': 3, 'n_units_l0': 264, 'n_units_l1': 704, 'n_units_l2': 568}. Best is trial 365 with value: 0.00069642398119257.\u001b[0m\n"
     ]
    },
    {
     "name": "stdout",
     "output_type": "stream",
     "text": [
      "Model FID: 0.08019424468617434 \n",
      "\n",
      "Model architecture: [552, 128, 316]\n"
     ]
    },
    {
     "name": "stderr",
     "output_type": "stream",
     "text": [
      "\u001b[32m[I 2022-05-24 04:29:23,310]\u001b[0m Trial 399 finished with value: 0.0014702078312007196 and parameters: {'n_layers': 3, 'n_units_l0': 316, 'n_units_l1': 128, 'n_units_l2': 552}. Best is trial 365 with value: 0.00069642398119257.\u001b[0m\n"
     ]
    },
    {
     "name": "stdout",
     "output_type": "stream",
     "text": [
      "Model FID: 0.0014702078312007196 \n",
      "\n",
      "Model architecture: [593, 314, 400]\n"
     ]
    },
    {
     "name": "stderr",
     "output_type": "stream",
     "text": [
      "\u001b[32m[I 2022-05-24 04:30:36,698]\u001b[0m Trial 400 finished with value: 0.002482720511403695 and parameters: {'n_layers': 3, 'n_units_l0': 400, 'n_units_l1': 314, 'n_units_l2': 593}. Best is trial 365 with value: 0.00069642398119257.\u001b[0m\n"
     ]
    },
    {
     "name": "stdout",
     "output_type": "stream",
     "text": [
      "Model FID: 0.002482720511403695 \n",
      "\n",
      "Model architecture: [977, 158, 294]\n"
     ]
    },
    {
     "name": "stderr",
     "output_type": "stream",
     "text": [
      "\u001b[32m[I 2022-05-24 04:31:51,594]\u001b[0m Trial 401 finished with value: 0.07738981364359396 and parameters: {'n_layers': 3, 'n_units_l0': 294, 'n_units_l1': 158, 'n_units_l2': 977}. Best is trial 365 with value: 0.00069642398119257.\u001b[0m\n"
     ]
    },
    {
     "name": "stdout",
     "output_type": "stream",
     "text": [
      "Model FID: 0.07738981364359396 \n",
      "\n",
      "Model architecture: [552, 173, 474]\n"
     ]
    },
    {
     "name": "stderr",
     "output_type": "stream",
     "text": [
      "\u001b[32m[I 2022-05-24 04:33:05,736]\u001b[0m Trial 402 finished with value: 0.0013185116357943122 and parameters: {'n_layers': 3, 'n_units_l0': 474, 'n_units_l1': 173, 'n_units_l2': 552}. Best is trial 365 with value: 0.00069642398119257.\u001b[0m\n"
     ]
    },
    {
     "name": "stdout",
     "output_type": "stream",
     "text": [
      "Model FID: 0.0013185116357943122 \n",
      "\n",
      "Model architecture: [577, 196, 260]\n"
     ]
    },
    {
     "name": "stderr",
     "output_type": "stream",
     "text": [
      "\u001b[32m[I 2022-05-24 04:34:19,039]\u001b[0m Trial 403 finished with value: 0.0008942259679282865 and parameters: {'n_layers': 3, 'n_units_l0': 260, 'n_units_l1': 196, 'n_units_l2': 577}. Best is trial 365 with value: 0.00069642398119257.\u001b[0m\n"
     ]
    },
    {
     "name": "stdout",
     "output_type": "stream",
     "text": [
      "Model FID: 0.0008942259679282865 \n",
      "\n",
      "Model architecture: [611, 205, 279]\n"
     ]
    },
    {
     "name": "stderr",
     "output_type": "stream",
     "text": [
      "\u001b[32m[I 2022-05-24 04:35:32,711]\u001b[0m Trial 404 finished with value: 0.8320267609217438 and parameters: {'n_layers': 3, 'n_units_l0': 279, 'n_units_l1': 205, 'n_units_l2': 611}. Best is trial 365 with value: 0.00069642398119257.\u001b[0m\n"
     ]
    },
    {
     "name": "stdout",
     "output_type": "stream",
     "text": [
      "Model FID: 0.8320267609217438 \n",
      "\n",
      "Model architecture: [580, 193, 260]\n"
     ]
    },
    {
     "name": "stderr",
     "output_type": "stream",
     "text": [
      "\u001b[32m[I 2022-05-24 04:36:46,200]\u001b[0m Trial 405 finished with value: 0.000979316058041345 and parameters: {'n_layers': 3, 'n_units_l0': 260, 'n_units_l1': 193, 'n_units_l2': 580}. Best is trial 365 with value: 0.00069642398119257.\u001b[0m\n"
     ]
    },
    {
     "name": "stdout",
     "output_type": "stream",
     "text": [
      "Model FID: 0.000979316058041345 \n",
      "\n",
      "Model architecture: [572, 853, 296]\n"
     ]
    },
    {
     "name": "stderr",
     "output_type": "stream",
     "text": [
      "\u001b[32m[I 2022-05-24 04:38:01,426]\u001b[0m Trial 406 finished with value: 0.01550531543526629 and parameters: {'n_layers': 3, 'n_units_l0': 296, 'n_units_l1': 853, 'n_units_l2': 572}. Best is trial 365 with value: 0.00069642398119257.\u001b[0m\n"
     ]
    },
    {
     "name": "stdout",
     "output_type": "stream",
     "text": [
      "Model FID: 0.01550531543526629 \n",
      "\n",
      "Model architecture: [622, 180, 337]\n"
     ]
    },
    {
     "name": "stderr",
     "output_type": "stream",
     "text": [
      "\u001b[32m[I 2022-05-24 04:39:15,876]\u001b[0m Trial 407 finished with value: 0.04334663306412515 and parameters: {'n_layers': 3, 'n_units_l0': 337, 'n_units_l1': 180, 'n_units_l2': 622}. Best is trial 365 with value: 0.00069642398119257.\u001b[0m\n"
     ]
    },
    {
     "name": "stdout",
     "output_type": "stream",
     "text": [
      "Model FID: 0.04334663306412515 \n",
      "\n",
      "Model architecture: [542, 224, 260]\n"
     ]
    },
    {
     "name": "stderr",
     "output_type": "stream",
     "text": [
      "\u001b[32m[I 2022-05-24 04:40:29,469]\u001b[0m Trial 408 finished with value: 0.0019151217652017072 and parameters: {'n_layers': 3, 'n_units_l0': 260, 'n_units_l1': 224, 'n_units_l2': 542}. Best is trial 365 with value: 0.00069642398119257.\u001b[0m\n"
     ]
    },
    {
     "name": "stdout",
     "output_type": "stream",
     "text": [
      "Model FID: 0.0019151217652017072 \n",
      "\n",
      "Model architecture: [508, 202, 317]\n"
     ]
    },
    {
     "name": "stderr",
     "output_type": "stream",
     "text": [
      "\u001b[32m[I 2022-05-24 04:41:44,373]\u001b[0m Trial 409 finished with value: 0.0015910393255354578 and parameters: {'n_layers': 3, 'n_units_l0': 317, 'n_units_l1': 202, 'n_units_l2': 508}. Best is trial 365 with value: 0.00069642398119257.\u001b[0m\n"
     ]
    },
    {
     "name": "stdout",
     "output_type": "stream",
     "text": [
      "Model FID: 0.0015910393255354578 \n",
      "\n",
      "Model architecture: [590, 160, 278]\n"
     ]
    },
    {
     "name": "stderr",
     "output_type": "stream",
     "text": [
      "\u001b[32m[I 2022-05-24 04:43:02,879]\u001b[0m Trial 410 finished with value: 0.0012900135856972095 and parameters: {'n_layers': 3, 'n_units_l0': 278, 'n_units_l1': 160, 'n_units_l2': 590}. Best is trial 365 with value: 0.00069642398119257.\u001b[0m\n"
     ]
    },
    {
     "name": "stdout",
     "output_type": "stream",
     "text": [
      "Model FID: 0.0012900135856972095 \n",
      "\n",
      "Model architecture: [562, 144, 233]\n"
     ]
    },
    {
     "name": "stderr",
     "output_type": "stream",
     "text": [
      "\u001b[32m[I 2022-05-24 04:44:17,772]\u001b[0m Trial 411 finished with value: 0.0011773540914463993 and parameters: {'n_layers': 3, 'n_units_l0': 233, 'n_units_l1': 144, 'n_units_l2': 562}. Best is trial 365 with value: 0.00069642398119257.\u001b[0m\n"
     ]
    },
    {
     "name": "stdout",
     "output_type": "stream",
     "text": [
      "Model FID: 0.0011773540914463993 \n",
      "\n",
      "Model architecture: [347, 291]\n"
     ]
    },
    {
     "name": "stderr",
     "output_type": "stream",
     "text": [
      "\u001b[32m[I 2022-05-24 04:45:16,738]\u001b[0m Trial 412 finished with value: 0.02104680602217378 and parameters: {'n_layers': 2, 'n_units_l0': 291, 'n_units_l1': 347}. Best is trial 365 with value: 0.00069642398119257.\u001b[0m\n"
     ]
    },
    {
     "name": "stdout",
     "output_type": "stream",
     "text": [
      "Model FID: 0.02104680602217378 \n",
      "\n",
      "Model architecture: [581, 183, 364]\n"
     ]
    },
    {
     "name": "stderr",
     "output_type": "stream",
     "text": [
      "\u001b[32m[I 2022-05-24 04:46:31,782]\u001b[0m Trial 413 finished with value: 0.5045508743381547 and parameters: {'n_layers': 3, 'n_units_l0': 364, 'n_units_l1': 183, 'n_units_l2': 581}. Best is trial 365 with value: 0.00069642398119257.\u001b[0m\n"
     ]
    },
    {
     "name": "stdout",
     "output_type": "stream",
     "text": [
      "Model FID: 0.5045508743381547 \n",
      "\n",
      "Model architecture: [533, 168, 251]\n"
     ]
    },
    {
     "name": "stderr",
     "output_type": "stream",
     "text": [
      "\u001b[32m[I 2022-05-24 04:47:46,912]\u001b[0m Trial 414 finished with value: 0.0014688954842223764 and parameters: {'n_layers': 3, 'n_units_l0': 251, 'n_units_l1': 168, 'n_units_l2': 533}. Best is trial 365 with value: 0.00069642398119257.\u001b[0m\n"
     ]
    },
    {
     "name": "stdout",
     "output_type": "stream",
     "text": [
      "Model FID: 0.0014688954842223764 \n",
      "\n",
      "Model architecture: [480, 128, 311]\n"
     ]
    },
    {
     "name": "stderr",
     "output_type": "stream",
     "text": [
      "\u001b[32m[I 2022-05-24 04:49:01,752]\u001b[0m Trial 415 finished with value: 0.0014306133692640229 and parameters: {'n_layers': 3, 'n_units_l0': 311, 'n_units_l1': 128, 'n_units_l2': 480}. Best is trial 365 with value: 0.00069642398119257.\u001b[0m\n"
     ]
    },
    {
     "name": "stdout",
     "output_type": "stream",
     "text": [
      "Model FID: 0.0014306133692640229 \n",
      "\n",
      "Model architecture: [608, 275, 270]\n"
     ]
    },
    {
     "name": "stderr",
     "output_type": "stream",
     "text": [
      "\u001b[32m[I 2022-05-24 04:50:15,791]\u001b[0m Trial 416 finished with value: 0.305948620359082 and parameters: {'n_layers': 3, 'n_units_l0': 270, 'n_units_l1': 275, 'n_units_l2': 608}. Best is trial 365 with value: 0.00069642398119257.\u001b[0m\n"
     ]
    },
    {
     "name": "stdout",
     "output_type": "stream",
     "text": [
      "Model FID: 0.305948620359082 \n",
      "\n",
      "Model architecture: [558, 249, 224]\n"
     ]
    },
    {
     "name": "stderr",
     "output_type": "stream",
     "text": [
      "\u001b[32m[I 2022-05-24 04:51:30,199]\u001b[0m Trial 417 finished with value: 0.23888710369560204 and parameters: {'n_layers': 3, 'n_units_l0': 224, 'n_units_l1': 249, 'n_units_l2': 558}. Best is trial 365 with value: 0.00069642398119257.\u001b[0m\n"
     ]
    },
    {
     "name": "stdout",
     "output_type": "stream",
     "text": [
      "Model FID: 0.23888710369560204 \n",
      "\n",
      "Model architecture: [530, 210, 248]\n"
     ]
    },
    {
     "name": "stderr",
     "output_type": "stream",
     "text": [
      "\u001b[32m[I 2022-05-24 04:52:44,622]\u001b[0m Trial 418 finished with value: 0.0008656835707629507 and parameters: {'n_layers': 3, 'n_units_l0': 248, 'n_units_l1': 210, 'n_units_l2': 530}. Best is trial 365 with value: 0.00069642398119257.\u001b[0m\n"
     ]
    },
    {
     "name": "stdout",
     "output_type": "stream",
     "text": [
      "Model FID: 0.0008656835707629507 \n",
      "\n",
      "Model architecture: [504, 211, 241]\n"
     ]
    },
    {
     "name": "stderr",
     "output_type": "stream",
     "text": [
      "\u001b[32m[I 2022-05-24 04:53:58,486]\u001b[0m Trial 419 finished with value: 0.001529804141560906 and parameters: {'n_layers': 3, 'n_units_l0': 241, 'n_units_l1': 211, 'n_units_l2': 504}. Best is trial 365 with value: 0.00069642398119257.\u001b[0m\n"
     ]
    },
    {
     "name": "stdout",
     "output_type": "stream",
     "text": [
      "Model FID: 0.001529804141560906 \n",
      "\n",
      "Model architecture: [533, 217, 205]\n"
     ]
    },
    {
     "name": "stderr",
     "output_type": "stream",
     "text": [
      "\u001b[32m[I 2022-05-24 04:55:12,531]\u001b[0m Trial 420 finished with value: 0.006466871571239277 and parameters: {'n_layers': 3, 'n_units_l0': 205, 'n_units_l1': 217, 'n_units_l2': 533}. Best is trial 365 with value: 0.00069642398119257.\u001b[0m\n"
     ]
    },
    {
     "name": "stdout",
     "output_type": "stream",
     "text": [
      "Model FID: 0.006466871571239277 \n",
      "\n",
      "Model architecture: [526, 191, 628]\n"
     ]
    },
    {
     "name": "stderr",
     "output_type": "stream",
     "text": [
      "\u001b[32m[I 2022-05-24 04:56:26,475]\u001b[0m Trial 421 finished with value: 0.001001875791486382 and parameters: {'n_layers': 3, 'n_units_l0': 628, 'n_units_l1': 191, 'n_units_l2': 526}. Best is trial 365 with value: 0.00069642398119257.\u001b[0m\n"
     ]
    },
    {
     "name": "stdout",
     "output_type": "stream",
     "text": [
      "Model FID: 0.001001875791486382 \n",
      "\n",
      "Model architecture: [517, 234, 251]\n"
     ]
    },
    {
     "name": "stderr",
     "output_type": "stream",
     "text": [
      "\u001b[32m[I 2022-05-24 04:57:41,116]\u001b[0m Trial 422 finished with value: 0.012609300520243446 and parameters: {'n_layers': 3, 'n_units_l0': 251, 'n_units_l1': 234, 'n_units_l2': 517}. Best is trial 365 with value: 0.00069642398119257.\u001b[0m\n"
     ]
    },
    {
     "name": "stdout",
     "output_type": "stream",
     "text": [
      "Model FID: 0.012609300520243446 \n",
      "\n",
      "Model architecture: [460, 206, 219]\n"
     ]
    },
    {
     "name": "stderr",
     "output_type": "stream",
     "text": [
      "\u001b[32m[I 2022-05-24 04:58:55,219]\u001b[0m Trial 423 finished with value: 0.0011043145632823905 and parameters: {'n_layers': 3, 'n_units_l0': 219, 'n_units_l1': 206, 'n_units_l2': 460}. Best is trial 365 with value: 0.00069642398119257.\u001b[0m\n"
     ]
    },
    {
     "name": "stdout",
     "output_type": "stream",
     "text": [
      "Model FID: 0.0011043145632823905 \n",
      "\n",
      "Model architecture: [547, 256, 238]\n"
     ]
    },
    {
     "name": "stderr",
     "output_type": "stream",
     "text": [
      "\u001b[32m[I 2022-05-24 05:00:09,875]\u001b[0m Trial 424 finished with value: 0.14620801093454183 and parameters: {'n_layers': 3, 'n_units_l0': 238, 'n_units_l1': 256, 'n_units_l2': 547}. Best is trial 365 with value: 0.00069642398119257.\u001b[0m\n"
     ]
    },
    {
     "name": "stdout",
     "output_type": "stream",
     "text": [
      "Model FID: 0.14620801093454183 \n",
      "\n",
      "Model architecture: [493, 228, 265]\n"
     ]
    },
    {
     "name": "stderr",
     "output_type": "stream",
     "text": [
      "\u001b[32m[I 2022-05-24 05:01:23,877]\u001b[0m Trial 425 finished with value: 0.001390671982904466 and parameters: {'n_layers': 3, 'n_units_l0': 265, 'n_units_l1': 228, 'n_units_l2': 493}. Best is trial 365 with value: 0.00069642398119257.\u001b[0m\n"
     ]
    },
    {
     "name": "stdout",
     "output_type": "stream",
     "text": [
      "Model FID: 0.001390671982904466 \n",
      "\n",
      "Model architecture: [597, 506, 257]\n"
     ]
    },
    {
     "name": "stderr",
     "output_type": "stream",
     "text": [
      "\u001b[32m[I 2022-05-24 05:02:38,177]\u001b[0m Trial 426 finished with value: 0.002038005276267169 and parameters: {'n_layers': 3, 'n_units_l0': 257, 'n_units_l1': 506, 'n_units_l2': 597}. Best is trial 365 with value: 0.00069642398119257.\u001b[0m\n"
     ]
    },
    {
     "name": "stdout",
     "output_type": "stream",
     "text": [
      "Model FID: 0.002038005276267169 \n",
      "\n",
      "Model architecture: [555, 193, 198]\n"
     ]
    },
    {
     "name": "stderr",
     "output_type": "stream",
     "text": [
      "\u001b[32m[I 2022-05-24 05:03:51,805]\u001b[0m Trial 427 finished with value: 0.0008927695198470292 and parameters: {'n_layers': 3, 'n_units_l0': 198, 'n_units_l1': 193, 'n_units_l2': 555}. Best is trial 365 with value: 0.00069642398119257.\u001b[0m\n"
     ]
    },
    {
     "name": "stdout",
     "output_type": "stream",
     "text": [
      "Model FID: 0.0008927695198470292 \n",
      "\n",
      "Model architecture: [568, 204, 187]\n"
     ]
    },
    {
     "name": "stderr",
     "output_type": "stream",
     "text": [
      "\u001b[32m[I 2022-05-24 05:05:06,968]\u001b[0m Trial 428 finished with value: 0.000832003072038478 and parameters: {'n_layers': 3, 'n_units_l0': 187, 'n_units_l1': 204, 'n_units_l2': 568}. Best is trial 365 with value: 0.00069642398119257.\u001b[0m\n"
     ]
    },
    {
     "name": "stdout",
     "output_type": "stream",
     "text": [
      "Model FID: 0.000832003072038478 \n",
      "\n",
      "Model architecture: [554, 242, 156]\n"
     ]
    },
    {
     "name": "stderr",
     "output_type": "stream",
     "text": [
      "\u001b[32m[I 2022-05-24 05:06:24,427]\u001b[0m Trial 429 finished with value: 0.0011175808279983393 and parameters: {'n_layers': 3, 'n_units_l0': 156, 'n_units_l1': 242, 'n_units_l2': 554}. Best is trial 365 with value: 0.00069642398119257.\u001b[0m\n"
     ]
    },
    {
     "name": "stdout",
     "output_type": "stream",
     "text": [
      "Model FID: 0.0011175808279983393 \n",
      "\n",
      "Model architecture: [133, 216, 172]\n"
     ]
    },
    {
     "name": "stderr",
     "output_type": "stream",
     "text": [
      "\u001b[32m[I 2022-05-24 05:07:36,563]\u001b[0m Trial 430 finished with value: 0.002370108463297005 and parameters: {'n_layers': 3, 'n_units_l0': 172, 'n_units_l1': 216, 'n_units_l2': 133}. Best is trial 365 with value: 0.00069642398119257.\u001b[0m\n"
     ]
    },
    {
     "name": "stdout",
     "output_type": "stream",
     "text": [
      "Model FID: 0.002370108463297005 \n",
      "\n",
      "Model architecture: [572, 231, 180]\n"
     ]
    },
    {
     "name": "stderr",
     "output_type": "stream",
     "text": [
      "\u001b[32m[I 2022-05-24 05:08:51,762]\u001b[0m Trial 431 finished with value: 0.1460124385859289 and parameters: {'n_layers': 3, 'n_units_l0': 180, 'n_units_l1': 231, 'n_units_l2': 572}. Best is trial 365 with value: 0.00069642398119257.\u001b[0m\n"
     ]
    },
    {
     "name": "stdout",
     "output_type": "stream",
     "text": [
      "Model FID: 0.1460124385859289 \n",
      "\n",
      "Model architecture: [533, 201, 187]\n"
     ]
    },
    {
     "name": "stderr",
     "output_type": "stream",
     "text": [
      "\u001b[32m[I 2022-05-24 05:10:06,939]\u001b[0m Trial 432 finished with value: 0.0013797762948223298 and parameters: {'n_layers': 3, 'n_units_l0': 187, 'n_units_l1': 201, 'n_units_l2': 533}. Best is trial 365 with value: 0.00069642398119257.\u001b[0m\n"
     ]
    },
    {
     "name": "stdout",
     "output_type": "stream",
     "text": [
      "Model FID: 0.0013797762948223298 \n",
      "\n",
      "Model architecture: [550, 201, 193]\n"
     ]
    },
    {
     "name": "stderr",
     "output_type": "stream",
     "text": [
      "\u001b[32m[I 2022-05-24 05:11:20,550]\u001b[0m Trial 433 finished with value: 0.0008744095248787279 and parameters: {'n_layers': 3, 'n_units_l0': 193, 'n_units_l1': 201, 'n_units_l2': 550}. Best is trial 365 with value: 0.00069642398119257.\u001b[0m\n"
     ]
    },
    {
     "name": "stdout",
     "output_type": "stream",
     "text": [
      "Model FID: 0.0008744095248787279 \n",
      "\n",
      "Model architecture: [522, 223, 204]\n"
     ]
    },
    {
     "name": "stderr",
     "output_type": "stream",
     "text": [
      "\u001b[32m[I 2022-05-24 05:12:34,836]\u001b[0m Trial 434 finished with value: 0.0010880569815100126 and parameters: {'n_layers': 3, 'n_units_l0': 204, 'n_units_l1': 223, 'n_units_l2': 522}. Best is trial 365 with value: 0.00069642398119257.\u001b[0m\n"
     ]
    },
    {
     "name": "stdout",
     "output_type": "stream",
     "text": [
      "Model FID: 0.0010880569815100126 \n",
      "\n",
      "Model architecture: [553, 210, 194]\n"
     ]
    },
    {
     "name": "stderr",
     "output_type": "stream",
     "text": [
      "\u001b[32m[I 2022-05-24 05:13:48,519]\u001b[0m Trial 435 finished with value: 0.0013959129808443851 and parameters: {'n_layers': 3, 'n_units_l0': 194, 'n_units_l1': 210, 'n_units_l2': 553}. Best is trial 365 with value: 0.00069642398119257.\u001b[0m\n"
     ]
    },
    {
     "name": "stdout",
     "output_type": "stream",
     "text": [
      "Model FID: 0.0013959129808443851 \n",
      "\n",
      "Model architecture: [566, 196, 194]\n"
     ]
    },
    {
     "name": "stderr",
     "output_type": "stream",
     "text": [
      "\u001b[32m[I 2022-05-24 05:15:02,125]\u001b[0m Trial 436 finished with value: 0.0011728684040438783 and parameters: {'n_layers': 3, 'n_units_l0': 194, 'n_units_l1': 196, 'n_units_l2': 566}. Best is trial 365 with value: 0.00069642398119257.\u001b[0m\n"
     ]
    },
    {
     "name": "stdout",
     "output_type": "stream",
     "text": [
      "Model FID: 0.0011728684040438783 \n",
      "\n",
      "Model architecture: [589, 248, 139]\n"
     ]
    },
    {
     "name": "stderr",
     "output_type": "stream",
     "text": [
      "\u001b[32m[I 2022-05-24 05:16:17,310]\u001b[0m Trial 437 finished with value: 0.0012709685312005186 and parameters: {'n_layers': 3, 'n_units_l0': 139, 'n_units_l1': 248, 'n_units_l2': 589}. Best is trial 365 with value: 0.00069642398119257.\u001b[0m\n"
     ]
    },
    {
     "name": "stdout",
     "output_type": "stream",
     "text": [
      "Model FID: 0.0012709685312005186 \n",
      "\n",
      "Model architecture: [546, 895, 169]\n"
     ]
    },
    {
     "name": "stderr",
     "output_type": "stream",
     "text": [
      "\u001b[32m[I 2022-05-24 05:17:32,537]\u001b[0m Trial 438 finished with value: 0.0034710176080395188 and parameters: {'n_layers': 3, 'n_units_l0': 169, 'n_units_l1': 895, 'n_units_l2': 546}. Best is trial 365 with value: 0.00069642398119257.\u001b[0m\n"
     ]
    },
    {
     "name": "stdout",
     "output_type": "stream",
     "text": [
      "Model FID: 0.0034710176080395188 \n",
      "\n",
      "Model architecture: [569, 192, 167]\n"
     ]
    },
    {
     "name": "stderr",
     "output_type": "stream",
     "text": [
      "\u001b[32m[I 2022-05-24 05:18:47,643]\u001b[0m Trial 439 finished with value: 0.0010543861488048678 and parameters: {'n_layers': 3, 'n_units_l0': 167, 'n_units_l1': 192, 'n_units_l2': 569}. Best is trial 365 with value: 0.00069642398119257.\u001b[0m\n"
     ]
    },
    {
     "name": "stdout",
     "output_type": "stream",
     "text": [
      "Model FID: 0.0010543861488048678 \n",
      "\n",
      "Model architecture: [537, 225, 129]\n"
     ]
    },
    {
     "name": "stderr",
     "output_type": "stream",
     "text": [
      "\u001b[32m[I 2022-05-24 05:20:02,447]\u001b[0m Trial 440 finished with value: 0.0009356460766078915 and parameters: {'n_layers': 3, 'n_units_l0': 129, 'n_units_l1': 225, 'n_units_l2': 537}. Best is trial 365 with value: 0.00069642398119257.\u001b[0m\n"
     ]
    },
    {
     "name": "stdout",
     "output_type": "stream",
     "text": [
      "Model FID: 0.0009356460766078915 \n",
      "\n",
      "Model architecture: [593, 205, 212]\n"
     ]
    },
    {
     "name": "stderr",
     "output_type": "stream",
     "text": [
      "\u001b[32m[I 2022-05-24 05:21:16,700]\u001b[0m Trial 441 finished with value: 0.03361880273669189 and parameters: {'n_layers': 3, 'n_units_l0': 212, 'n_units_l1': 205, 'n_units_l2': 593}. Best is trial 365 with value: 0.00069642398119257.\u001b[0m\n"
     ]
    },
    {
     "name": "stdout",
     "output_type": "stream",
     "text": [
      "Model FID: 0.03361880273669189 \n",
      "\n",
      "Model architecture: [628, 184, 196]\n"
     ]
    },
    {
     "name": "stderr",
     "output_type": "stream",
     "text": [
      "\u001b[32m[I 2022-05-24 05:22:29,565]\u001b[0m Trial 442 finished with value: 0.0009855813816530873 and parameters: {'n_layers': 3, 'n_units_l0': 196, 'n_units_l1': 184, 'n_units_l2': 628}. Best is trial 365 with value: 0.00069642398119257.\u001b[0m\n"
     ]
    },
    {
     "name": "stdout",
     "output_type": "stream",
     "text": [
      "Model FID: 0.0009855813816530873 \n",
      "\n",
      "Model architecture: [506, 212, 185]\n"
     ]
    },
    {
     "name": "stderr",
     "output_type": "stream",
     "text": [
      "\u001b[32m[I 2022-05-24 05:23:44,778]\u001b[0m Trial 443 finished with value: 0.0012870034803242674 and parameters: {'n_layers': 3, 'n_units_l0': 185, 'n_units_l1': 212, 'n_units_l2': 506}. Best is trial 365 with value: 0.00069642398119257.\u001b[0m\n"
     ]
    },
    {
     "name": "stdout",
     "output_type": "stream",
     "text": [
      "Model FID: 0.0012870034803242674 \n",
      "\n",
      "Model architecture: [558, 262, 157]\n"
     ]
    },
    {
     "name": "stderr",
     "output_type": "stream",
     "text": [
      "\u001b[32m[I 2022-05-24 05:25:00,052]\u001b[0m Trial 444 finished with value: 0.0010452109004234337 and parameters: {'n_layers': 3, 'n_units_l0': 157, 'n_units_l1': 262, 'n_units_l2': 558}. Best is trial 365 with value: 0.00069642398119257.\u001b[0m\n"
     ]
    },
    {
     "name": "stdout",
     "output_type": "stream",
     "text": [
      "Model FID: 0.0010452109004234337 \n",
      "\n",
      "Model architecture: [580, 185, 212]\n"
     ]
    },
    {
     "name": "stderr",
     "output_type": "stream",
     "text": [
      "\u001b[32m[I 2022-05-24 05:26:15,040]\u001b[0m Trial 445 finished with value: 0.0011057165488831534 and parameters: {'n_layers': 3, 'n_units_l0': 212, 'n_units_l1': 185, 'n_units_l2': 580}. Best is trial 365 with value: 0.00069642398119257.\u001b[0m\n"
     ]
    },
    {
     "name": "stdout",
     "output_type": "stream",
     "text": [
      "Model FID: 0.0011057165488831534 \n",
      "\n",
      "Model architecture: [528, 239, 225]\n"
     ]
    },
    {
     "name": "stderr",
     "output_type": "stream",
     "text": [
      "\u001b[32m[I 2022-05-24 05:27:29,509]\u001b[0m Trial 446 finished with value: 1.8775053238039605 and parameters: {'n_layers': 3, 'n_units_l0': 225, 'n_units_l1': 239, 'n_units_l2': 528}. Best is trial 365 with value: 0.00069642398119257.\u001b[0m\n"
     ]
    },
    {
     "name": "stdout",
     "output_type": "stream",
     "text": [
      "Model FID: 1.8775053238039605 \n",
      "\n",
      "Model architecture: [607, 198, 196]\n"
     ]
    },
    {
     "name": "stderr",
     "output_type": "stream",
     "text": [
      "\u001b[32m[I 2022-05-24 05:28:43,157]\u001b[0m Trial 447 finished with value: 0.0007312758104111625 and parameters: {'n_layers': 3, 'n_units_l0': 196, 'n_units_l1': 198, 'n_units_l2': 607}. Best is trial 365 with value: 0.00069642398119257.\u001b[0m\n"
     ]
    },
    {
     "name": "stdout",
     "output_type": "stream",
     "text": [
      "Model FID: 0.0007312758104111625 \n",
      "\n",
      "Model architecture: [548, 206, 163]\n"
     ]
    },
    {
     "name": "stderr",
     "output_type": "stream",
     "text": [
      "\u001b[32m[I 2022-05-24 05:29:57,716]\u001b[0m Trial 448 finished with value: 0.000658299361787154 and parameters: {'n_layers': 3, 'n_units_l0': 163, 'n_units_l1': 206, 'n_units_l2': 548}. Best is trial 448 with value: 0.000658299361787154.\u001b[0m\n"
     ]
    },
    {
     "name": "stdout",
     "output_type": "stream",
     "text": [
      "Model FID: 0.000658299361787154 \n",
      "\n",
      "Model architecture: [540, 217, 141]\n"
     ]
    },
    {
     "name": "stderr",
     "output_type": "stream",
     "text": [
      "\u001b[32m[I 2022-05-24 05:31:12,713]\u001b[0m Trial 449 finished with value: 0.003044487323455485 and parameters: {'n_layers': 3, 'n_units_l0': 141, 'n_units_l1': 217, 'n_units_l2': 540}. Best is trial 448 with value: 0.000658299361787154.\u001b[0m\n"
     ]
    },
    {
     "name": "stdout",
     "output_type": "stream",
     "text": [
      "Model FID: 0.003044487323455485 \n",
      "\n",
      "Model architecture: [511, 225, 155]\n"
     ]
    },
    {
     "name": "stderr",
     "output_type": "stream",
     "text": [
      "\u001b[32m[I 2022-05-24 05:32:30,631]\u001b[0m Trial 450 finished with value: 0.0015065214991115408 and parameters: {'n_layers': 3, 'n_units_l0': 155, 'n_units_l1': 225, 'n_units_l2': 511}. Best is trial 448 with value: 0.000658299361787154.\u001b[0m\n"
     ]
    },
    {
     "name": "stdout",
     "output_type": "stream",
     "text": [
      "Model FID: 0.0015065214991115408 \n",
      "\n",
      "Model architecture: [552, 207, 166]\n"
     ]
    },
    {
     "name": "stderr",
     "output_type": "stream",
     "text": [
      "\u001b[32m[I 2022-05-24 05:33:45,375]\u001b[0m Trial 451 finished with value: 0.001504477854179966 and parameters: {'n_layers': 3, 'n_units_l0': 166, 'n_units_l1': 207, 'n_units_l2': 552}. Best is trial 448 with value: 0.000658299361787154.\u001b[0m\n"
     ]
    },
    {
     "name": "stdout",
     "output_type": "stream",
     "text": [
      "Model FID: 0.001504477854179966 \n",
      "\n",
      "Model architecture: [239, 173]\n"
     ]
    },
    {
     "name": "stderr",
     "output_type": "stream",
     "text": [
      "\u001b[32m[I 2022-05-24 05:34:45,894]\u001b[0m Trial 452 finished with value: 0.007235163203679014 and parameters: {'n_layers': 2, 'n_units_l0': 173, 'n_units_l1': 239}. Best is trial 448 with value: 0.000658299361787154.\u001b[0m\n"
     ]
    },
    {
     "name": "stdout",
     "output_type": "stream",
     "text": [
      "Model FID: 0.007235163203679014 \n",
      "\n",
      "Model architecture: [527, 190, 184]\n"
     ]
    },
    {
     "name": "stderr",
     "output_type": "stream",
     "text": [
      "\u001b[32m[I 2022-05-24 05:36:01,170]\u001b[0m Trial 453 finished with value: 0.0011946766526399078 and parameters: {'n_layers': 3, 'n_units_l0': 184, 'n_units_l1': 190, 'n_units_l2': 527}. Best is trial 448 with value: 0.000658299361787154.\u001b[0m\n"
     ]
    },
    {
     "name": "stdout",
     "output_type": "stream",
     "text": [
      "Model FID: 0.0011946766526399078 \n",
      "\n",
      "Model architecture: [555, 285, 195]\n"
     ]
    },
    {
     "name": "stderr",
     "output_type": "stream",
     "text": [
      "\u001b[32m[I 2022-05-24 05:37:16,123]\u001b[0m Trial 454 finished with value: 0.0015457033117835762 and parameters: {'n_layers': 3, 'n_units_l0': 195, 'n_units_l1': 285, 'n_units_l2': 555}. Best is trial 448 with value: 0.000658299361787154.\u001b[0m\n"
     ]
    },
    {
     "name": "stdout",
     "output_type": "stream",
     "text": [
      "Model FID: 0.0015457033117835762 \n",
      "\n",
      "Model architecture: [643, 183, 168]\n"
     ]
    },
    {
     "name": "stderr",
     "output_type": "stream",
     "text": [
      "\u001b[32m[I 2022-05-24 05:38:31,200]\u001b[0m Trial 455 finished with value: 0.0016708727313411403 and parameters: {'n_layers': 3, 'n_units_l0': 168, 'n_units_l1': 183, 'n_units_l2': 643}. Best is trial 448 with value: 0.000658299361787154.\u001b[0m\n"
     ]
    },
    {
     "name": "stdout",
     "output_type": "stream",
     "text": [
      "Model FID: 0.0016708727313411403 \n",
      "\n",
      "Model architecture: [486, 203, 192]\n"
     ]
    },
    {
     "name": "stderr",
     "output_type": "stream",
     "text": [
      "\u001b[32m[I 2022-05-24 05:39:46,386]\u001b[0m Trial 456 finished with value: 0.01146238017378198 and parameters: {'n_layers': 3, 'n_units_l0': 192, 'n_units_l1': 203, 'n_units_l2': 486}. Best is trial 448 with value: 0.000658299361787154.\u001b[0m\n"
     ]
    },
    {
     "name": "stdout",
     "output_type": "stream",
     "text": [
      "Model FID: 0.01146238017378198 \n",
      "\n",
      "Model architecture: [573, 178, 155]\n"
     ]
    },
    {
     "name": "stderr",
     "output_type": "stream",
     "text": [
      "\u001b[32m[I 2022-05-24 05:41:04,107]\u001b[0m Trial 457 finished with value: 0.0027421259543441096 and parameters: {'n_layers': 3, 'n_units_l0': 155, 'n_units_l1': 178, 'n_units_l2': 573}. Best is trial 448 with value: 0.000658299361787154.\u001b[0m\n"
     ]
    },
    {
     "name": "stdout",
     "output_type": "stream",
     "text": [
      "Model FID: 0.0027421259543441096 \n",
      "\n",
      "Model architecture: [951, 226, 201]\n"
     ]
    },
    {
     "name": "stderr",
     "output_type": "stream",
     "text": [
      "\u001b[32m[I 2022-05-24 05:42:17,982]\u001b[0m Trial 458 finished with value: 0.05254091634972825 and parameters: {'n_layers': 3, 'n_units_l0': 201, 'n_units_l1': 226, 'n_units_l2': 951}. Best is trial 448 with value: 0.000658299361787154.\u001b[0m\n"
     ]
    },
    {
     "name": "stdout",
     "output_type": "stream",
     "text": [
      "Model FID: 0.05254091634972825 \n",
      "\n",
      "Model architecture: [544, 173, 216]\n"
     ]
    },
    {
     "name": "stderr",
     "output_type": "stream",
     "text": [
      "\u001b[32m[I 2022-05-24 05:43:32,624]\u001b[0m Trial 459 finished with value: 0.0011623066555245705 and parameters: {'n_layers': 3, 'n_units_l0': 216, 'n_units_l1': 173, 'n_units_l2': 544}. Best is trial 448 with value: 0.000658299361787154.\u001b[0m\n"
     ]
    },
    {
     "name": "stdout",
     "output_type": "stream",
     "text": [
      "Model FID: 0.0011623066555245705 \n",
      "\n",
      "Model architecture: [605, 757, 171]\n"
     ]
    },
    {
     "name": "stderr",
     "output_type": "stream",
     "text": [
      "\u001b[32m[I 2022-05-24 05:44:47,825]\u001b[0m Trial 460 finished with value: 0.0477139417840613 and parameters: {'n_layers': 3, 'n_units_l0': 171, 'n_units_l1': 757, 'n_units_l2': 605}. Best is trial 448 with value: 0.000658299361787154.\u001b[0m\n"
     ]
    },
    {
     "name": "stdout",
     "output_type": "stream",
     "text": [
      "Model FID: 0.0477139417840613 \n",
      "\n",
      "Model architecture: [622, 201, 186]\n"
     ]
    },
    {
     "name": "stderr",
     "output_type": "stream",
     "text": [
      "\u001b[32m[I 2022-05-24 05:46:03,132]\u001b[0m Trial 461 finished with value: 0.001222806026476917 and parameters: {'n_layers': 3, 'n_units_l0': 186, 'n_units_l1': 201, 'n_units_l2': 622}. Best is trial 448 with value: 0.000658299361787154.\u001b[0m\n"
     ]
    },
    {
     "name": "stdout",
     "output_type": "stream",
     "text": [
      "Model FID: 0.001222806026476917 \n",
      "\n",
      "Model architecture: [512, 266, 211]\n"
     ]
    },
    {
     "name": "stderr",
     "output_type": "stream",
     "text": [
      "\u001b[32m[I 2022-05-24 05:47:16,455]\u001b[0m Trial 462 finished with value: 0.0015013948890216697 and parameters: {'n_layers': 3, 'n_units_l0': 211, 'n_units_l1': 266, 'n_units_l2': 512}. Best is trial 448 with value: 0.000658299361787154.\u001b[0m\n"
     ]
    },
    {
     "name": "stdout",
     "output_type": "stream",
     "text": [
      "Model FID: 0.0015013948890216697 \n",
      "\n",
      "Model architecture: [563, 175, 139]\n"
     ]
    },
    {
     "name": "stderr",
     "output_type": "stream",
     "text": [
      "\u001b[32m[I 2022-05-24 05:48:30,995]\u001b[0m Trial 463 finished with value: 0.001040017756793769 and parameters: {'n_layers': 3, 'n_units_l0': 139, 'n_units_l1': 175, 'n_units_l2': 563}. Best is trial 448 with value: 0.000658299361787154.\u001b[0m\n"
     ]
    },
    {
     "name": "stdout",
     "output_type": "stream",
     "text": [
      "Model FID: 0.001040017756793769 \n",
      "\n",
      "Model architecture: [524, 213, 206]\n"
     ]
    },
    {
     "name": "stderr",
     "output_type": "stream",
     "text": [
      "\u001b[32m[I 2022-05-24 05:49:44,913]\u001b[0m Trial 464 finished with value: 0.0012094647762330246 and parameters: {'n_layers': 3, 'n_units_l0': 206, 'n_units_l1': 213, 'n_units_l2': 524}. Best is trial 448 with value: 0.000658299361787154.\u001b[0m\n"
     ]
    },
    {
     "name": "stdout",
     "output_type": "stream",
     "text": [
      "Model FID: 0.0012094647762330246 \n",
      "\n",
      "Model architecture: [543, 191, 235]\n"
     ]
    },
    {
     "name": "stderr",
     "output_type": "stream",
     "text": [
      "\u001b[32m[I 2022-05-24 05:50:59,975]\u001b[0m Trial 465 finished with value: 0.0007428726080519561 and parameters: {'n_layers': 3, 'n_units_l0': 235, 'n_units_l1': 191, 'n_units_l2': 543}. Best is trial 448 with value: 0.000658299361787154.\u001b[0m\n"
     ]
    },
    {
     "name": "stdout",
     "output_type": "stream",
     "text": [
      "Model FID: 0.0007428726080519561 \n",
      "\n",
      "Model architecture: [708, 171, 706]\n"
     ]
    },
    {
     "name": "stderr",
     "output_type": "stream",
     "text": [
      "\u001b[32m[I 2022-05-24 05:52:13,627]\u001b[0m Trial 466 finished with value: 0.19057453355954893 and parameters: {'n_layers': 3, 'n_units_l0': 706, 'n_units_l1': 171, 'n_units_l2': 708}. Best is trial 448 with value: 0.000658299361787154.\u001b[0m\n"
     ]
    },
    {
     "name": "stdout",
     "output_type": "stream",
     "text": [
      "Model FID: 0.19057453355954893 \n",
      "\n",
      "Model architecture: [590, 475, 236]\n"
     ]
    },
    {
     "name": "stderr",
     "output_type": "stream",
     "text": [
      "\u001b[32m[I 2022-05-24 05:53:28,578]\u001b[0m Trial 467 finished with value: 0.006946296052852944 and parameters: {'n_layers': 3, 'n_units_l0': 236, 'n_units_l1': 475, 'n_units_l2': 590}. Best is trial 448 with value: 0.000658299361787154.\u001b[0m\n"
     ]
    },
    {
     "name": "stdout",
     "output_type": "stream",
     "text": [
      "Model FID: 0.006946296052852944 \n",
      "\n",
      "Model architecture: [473, 555, 227]\n"
     ]
    },
    {
     "name": "stderr",
     "output_type": "stream",
     "text": [
      "\u001b[32m[I 2022-05-24 05:54:43,249]\u001b[0m Trial 468 finished with value: 0.0015301923027659014 and parameters: {'n_layers': 3, 'n_units_l0': 227, 'n_units_l1': 555, 'n_units_l2': 473}. Best is trial 448 with value: 0.000658299361787154.\u001b[0m\n"
     ]
    },
    {
     "name": "stdout",
     "output_type": "stream",
     "text": [
      "Model FID: 0.0015301923027659014 \n",
      "\n",
      "Model architecture: [537, 241, 245]\n"
     ]
    },
    {
     "name": "stderr",
     "output_type": "stream",
     "text": [
      "\u001b[32m[I 2022-05-24 05:55:57,963]\u001b[0m Trial 469 finished with value: 0.7217371697081081 and parameters: {'n_layers': 3, 'n_units_l0': 245, 'n_units_l1': 241, 'n_units_l2': 537}. Best is trial 448 with value: 0.000658299361787154.\u001b[0m\n"
     ]
    },
    {
     "name": "stdout",
     "output_type": "stream",
     "text": [
      "Model FID: 0.7217371697081081 \n",
      "\n",
      "Model architecture: [491, 189, 236]\n"
     ]
    },
    {
     "name": "stderr",
     "output_type": "stream",
     "text": [
      "\u001b[32m[I 2022-05-24 05:57:12,935]\u001b[0m Trial 470 finished with value: 0.002119648960846352 and parameters: {'n_layers': 3, 'n_units_l0': 236, 'n_units_l1': 189, 'n_units_l2': 491}. Best is trial 448 with value: 0.000658299361787154.\u001b[0m\n"
     ]
    },
    {
     "name": "stdout",
     "output_type": "stream",
     "text": [
      "Model FID: 0.002119648960846352 \n",
      "\n",
      "Model architecture: [693, 168, 378]\n"
     ]
    },
    {
     "name": "stderr",
     "output_type": "stream",
     "text": [
      "\u001b[32m[I 2022-05-24 05:58:27,903]\u001b[0m Trial 471 finished with value: 0.19665817321531068 and parameters: {'n_layers': 3, 'n_units_l0': 378, 'n_units_l1': 168, 'n_units_l2': 693}. Best is trial 448 with value: 0.000658299361787154.\u001b[0m\n"
     ]
    },
    {
     "name": "stdout",
     "output_type": "stream",
     "text": [
      "Model FID: 0.19665817321531068 \n",
      "\n",
      "Model architecture: [521, 225, 279]\n"
     ]
    },
    {
     "name": "stderr",
     "output_type": "stream",
     "text": [
      "\u001b[32m[I 2022-05-24 05:59:41,844]\u001b[0m Trial 472 finished with value: 0.013087473775724952 and parameters: {'n_layers': 3, 'n_units_l0': 279, 'n_units_l1': 225, 'n_units_l2': 521}. Best is trial 448 with value: 0.000658299361787154.\u001b[0m\n"
     ]
    },
    {
     "name": "stdout",
     "output_type": "stream",
     "text": [
      "Model FID: 0.013087473775724952 \n",
      "\n",
      "Model architecture: [567, 155, 263]\n"
     ]
    },
    {
     "name": "stderr",
     "output_type": "stream",
     "text": [
      "\u001b[32m[I 2022-05-24 06:00:56,350]\u001b[0m Trial 473 finished with value: 0.00111600654879671 and parameters: {'n_layers': 3, 'n_units_l0': 263, 'n_units_l1': 155, 'n_units_l2': 567}. Best is trial 448 with value: 0.000658299361787154.\u001b[0m\n"
     ]
    },
    {
     "name": "stdout",
     "output_type": "stream",
     "text": [
      "Model FID: 0.00111600654879671 \n",
      "\n",
      "Model architecture: [547, 198, 247]\n"
     ]
    },
    {
     "name": "stderr",
     "output_type": "stream",
     "text": [
      "\u001b[32m[I 2022-05-24 06:02:10,594]\u001b[0m Trial 474 finished with value: 0.0016946368328416618 and parameters: {'n_layers': 3, 'n_units_l0': 247, 'n_units_l1': 198, 'n_units_l2': 547}. Best is trial 448 with value: 0.000658299361787154.\u001b[0m\n"
     ]
    },
    {
     "name": "stdout",
     "output_type": "stream",
     "text": [
      "Model FID: 0.0016946368328416618 \n",
      "\n",
      "Model architecture: [581, 176, 345]\n"
     ]
    },
    {
     "name": "stderr",
     "output_type": "stream",
     "text": [
      "\u001b[32m[I 2022-05-24 06:03:25,313]\u001b[0m Trial 475 finished with value: 0.0011756902443321744 and parameters: {'n_layers': 3, 'n_units_l0': 345, 'n_units_l1': 176, 'n_units_l2': 581}. Best is trial 448 with value: 0.000658299361787154.\u001b[0m\n"
     ]
    },
    {
     "name": "stdout",
     "output_type": "stream",
     "text": [
      "Model FID: 0.0011756902443321744 \n",
      "\n",
      "Model architecture: [538, 208, 223]\n"
     ]
    },
    {
     "name": "stderr",
     "output_type": "stream",
     "text": [
      "\u001b[32m[I 2022-05-24 06:04:39,456]\u001b[0m Trial 476 finished with value: 0.001293698065433838 and parameters: {'n_layers': 3, 'n_units_l0': 223, 'n_units_l1': 208, 'n_units_l2': 538}. Best is trial 448 with value: 0.000658299361787154.\u001b[0m\n"
     ]
    },
    {
     "name": "stdout",
     "output_type": "stream",
     "text": [
      "Model FID: 0.001293698065433838 \n",
      "\n",
      "Model architecture: [564, 162, 274]\n"
     ]
    },
    {
     "name": "stderr",
     "output_type": "stream",
     "text": [
      "\u001b[32m[I 2022-05-24 06:05:54,285]\u001b[0m Trial 477 finished with value: 0.0013064561654294342 and parameters: {'n_layers': 3, 'n_units_l0': 274, 'n_units_l1': 162, 'n_units_l2': 564}. Best is trial 448 with value: 0.000658299361787154.\u001b[0m\n"
     ]
    },
    {
     "name": "stdout",
     "output_type": "stream",
     "text": [
      "Model FID: 0.0013064561654294342 \n",
      "\n",
      "Model architecture: [508, 192, 244]\n"
     ]
    },
    {
     "name": "stderr",
     "output_type": "stream",
     "text": [
      "\u001b[32m[I 2022-05-24 06:07:07,789]\u001b[0m Trial 478 finished with value: 0.001196737122613831 and parameters: {'n_layers': 3, 'n_units_l0': 244, 'n_units_l1': 192, 'n_units_l2': 508}. Best is trial 448 with value: 0.000658299361787154.\u001b[0m\n"
     ]
    },
    {
     "name": "stdout",
     "output_type": "stream",
     "text": [
      "Model FID: 0.001196737122613831 \n",
      "\n",
      "Model architecture: [612, 154, 328]\n"
     ]
    },
    {
     "name": "stderr",
     "output_type": "stream",
     "text": [
      "\u001b[32m[I 2022-05-24 06:08:22,074]\u001b[0m Trial 479 finished with value: 0.002281768756033786 and parameters: {'n_layers': 3, 'n_units_l0': 328, 'n_units_l1': 154, 'n_units_l2': 612}. Best is trial 448 with value: 0.000658299361787154.\u001b[0m\n"
     ]
    },
    {
     "name": "stdout",
     "output_type": "stream",
     "text": [
      "Model FID: 0.002281768756033786 \n",
      "\n",
      "Model architecture: [680, 178, 220]\n"
     ]
    },
    {
     "name": "stderr",
     "output_type": "stream",
     "text": [
      "\u001b[32m[I 2022-05-24 06:09:36,786]\u001b[0m Trial 480 finished with value: 0.0017890590750535623 and parameters: {'n_layers': 3, 'n_units_l0': 220, 'n_units_l1': 178, 'n_units_l2': 680}. Best is trial 448 with value: 0.000658299361787154.\u001b[0m\n"
     ]
    },
    {
     "name": "stdout",
     "output_type": "stream",
     "text": [
      "Model FID: 0.0017890590750535623 \n",
      "\n",
      "Model architecture: [730, 146, 280]\n"
     ]
    },
    {
     "name": "stderr",
     "output_type": "stream",
     "text": [
      "\u001b[32m[I 2022-05-24 06:10:50,843]\u001b[0m Trial 481 finished with value: 0.0010247333868719116 and parameters: {'n_layers': 3, 'n_units_l0': 280, 'n_units_l1': 146, 'n_units_l2': 730}. Best is trial 448 with value: 0.000658299361787154.\u001b[0m\n"
     ]
    },
    {
     "name": "stdout",
     "output_type": "stream",
     "text": [
      "Model FID: 0.0010247333868719116 \n",
      "\n",
      "Model architecture: [586, 215, 250]\n"
     ]
    },
    {
     "name": "stderr",
     "output_type": "stream",
     "text": [
      "\u001b[32m[I 2022-05-24 06:12:04,888]\u001b[0m Trial 482 finished with value: 0.001427777265081817 and parameters: {'n_layers': 3, 'n_units_l0': 250, 'n_units_l1': 215, 'n_units_l2': 586}. Best is trial 448 with value: 0.000658299361787154.\u001b[0m\n"
     ]
    },
    {
     "name": "stdout",
     "output_type": "stream",
     "text": [
      "Model FID: 0.001427777265081817 \n",
      "\n",
      "Model architecture: [445, 246, 180]\n"
     ]
    },
    {
     "name": "stderr",
     "output_type": "stream",
     "text": [
      "\u001b[32m[I 2022-05-24 06:13:20,112]\u001b[0m Trial 483 finished with value: 0.014022527196623655 and parameters: {'n_layers': 3, 'n_units_l0': 180, 'n_units_l1': 246, 'n_units_l2': 445}. Best is trial 448 with value: 0.000658299361787154.\u001b[0m\n"
     ]
    },
    {
     "name": "stdout",
     "output_type": "stream",
     "text": [
      "Model FID: 0.014022527196623655 \n",
      "\n",
      "Model architecture: [544, 170, 300]\n"
     ]
    },
    {
     "name": "stderr",
     "output_type": "stream",
     "text": [
      "\u001b[32m[I 2022-05-24 06:14:34,997]\u001b[0m Trial 484 finished with value: 0.03745209370482861 and parameters: {'n_layers': 3, 'n_units_l0': 300, 'n_units_l1': 170, 'n_units_l2': 544}. Best is trial 448 with value: 0.000658299361787154.\u001b[0m\n"
     ]
    },
    {
     "name": "stdout",
     "output_type": "stream",
     "text": [
      "Model FID: 0.03745209370482861 \n",
      "\n",
      "Model architecture: [565, 184, 151]\n"
     ]
    },
    {
     "name": "stderr",
     "output_type": "stream",
     "text": [
      "\u001b[32m[I 2022-05-24 06:15:53,807]\u001b[0m Trial 485 finished with value: 0.0008651475342855607 and parameters: {'n_layers': 3, 'n_units_l0': 151, 'n_units_l1': 184, 'n_units_l2': 565}. Best is trial 448 with value: 0.000658299361787154.\u001b[0m\n"
     ]
    },
    {
     "name": "stdout",
     "output_type": "stream",
     "text": [
      "Model FID: 0.0008651475342855607 \n",
      "\n",
      "Model architecture: [647, 203, 143]\n"
     ]
    },
    {
     "name": "stderr",
     "output_type": "stream",
     "text": [
      "\u001b[32m[I 2022-05-24 06:17:08,684]\u001b[0m Trial 486 finished with value: 0.0018242447969798123 and parameters: {'n_layers': 3, 'n_units_l0': 143, 'n_units_l1': 203, 'n_units_l2': 647}. Best is trial 448 with value: 0.000658299361787154.\u001b[0m\n"
     ]
    },
    {
     "name": "stdout",
     "output_type": "stream",
     "text": [
      "Model FID: 0.0018242447969798123 \n",
      "\n",
      "Model architecture: [595, 230, 129]\n"
     ]
    },
    {
     "name": "stderr",
     "output_type": "stream",
     "text": [
      "\u001b[32m[I 2022-05-24 06:18:23,411]\u001b[0m Trial 487 finished with value: 0.0027906152035594997 and parameters: {'n_layers': 3, 'n_units_l0': 129, 'n_units_l1': 230, 'n_units_l2': 595}. Best is trial 448 with value: 0.000658299361787154.\u001b[0m\n"
     ]
    },
    {
     "name": "stdout",
     "output_type": "stream",
     "text": [
      "Model FID: 0.0027906152035594997 \n",
      "\n",
      "Model architecture: [566, 187, 189]\n"
     ]
    },
    {
     "name": "stderr",
     "output_type": "stream",
     "text": [
      "\u001b[32m[I 2022-05-24 06:19:38,693]\u001b[0m Trial 488 finished with value: 0.001554586081135575 and parameters: {'n_layers': 3, 'n_units_l0': 189, 'n_units_l1': 187, 'n_units_l2': 566}. Best is trial 448 with value: 0.000658299361787154.\u001b[0m\n"
     ]
    },
    {
     "name": "stdout",
     "output_type": "stream",
     "text": [
      "Model FID: 0.001554586081135575 \n",
      "\n",
      "Model architecture: [582, 220, 141]\n"
     ]
    },
    {
     "name": "stderr",
     "output_type": "stream",
     "text": [
      "\u001b[32m[I 2022-05-24 06:20:53,742]\u001b[0m Trial 489 finished with value: 0.0011796113665830128 and parameters: {'n_layers': 3, 'n_units_l0': 141, 'n_units_l1': 220, 'n_units_l2': 582}. Best is trial 448 with value: 0.000658299361787154.\u001b[0m\n"
     ]
    },
    {
     "name": "stdout",
     "output_type": "stream",
     "text": [
      "Model FID: 0.0011796113665830128 \n",
      "\n",
      "Model architecture: [187, 167]\n"
     ]
    },
    {
     "name": "stderr",
     "output_type": "stream",
     "text": [
      "\u001b[32m[I 2022-05-24 06:21:54,386]\u001b[0m Trial 490 finished with value: 0.013311577846098908 and parameters: {'n_layers': 2, 'n_units_l0': 167, 'n_units_l1': 187}. Best is trial 448 with value: 0.000658299361787154.\u001b[0m\n"
     ]
    },
    {
     "name": "stdout",
     "output_type": "stream",
     "text": [
      "Model FID: 0.013311577846098908 \n",
      "\n",
      "Model architecture: [625, 205, 160]\n"
     ]
    },
    {
     "name": "stderr",
     "output_type": "stream",
     "text": [
      "\u001b[32m[I 2022-05-24 06:23:12,216]\u001b[0m Trial 491 finished with value: 0.0012782878333742473 and parameters: {'n_layers': 3, 'n_units_l0': 160, 'n_units_l1': 205, 'n_units_l2': 625}. Best is trial 448 with value: 0.000658299361787154.\u001b[0m\n"
     ]
    },
    {
     "name": "stdout",
     "output_type": "stream",
     "text": [
      "Model FID: 0.0012782878333742473 \n",
      "\n",
      "Model architecture: [556, 144, 204]\n"
     ]
    },
    {
     "name": "stderr",
     "output_type": "stream",
     "text": [
      "\u001b[32m[I 2022-05-24 06:24:25,076]\u001b[0m Trial 492 finished with value: 0.0009024039724645173 and parameters: {'n_layers': 3, 'n_units_l0': 204, 'n_units_l1': 144, 'n_units_l2': 556}. Best is trial 448 with value: 0.000658299361787154.\u001b[0m\n"
     ]
    },
    {
     "name": "stdout",
     "output_type": "stream",
     "text": [
      "Model FID: 0.0009024039724645173 \n",
      "\n",
      "Model architecture: [607, 174, 161]\n"
     ]
    },
    {
     "name": "stderr",
     "output_type": "stream",
     "text": [
      "\u001b[32m[I 2022-05-24 06:25:40,239]\u001b[0m Trial 493 finished with value: 0.0009055870863586095 and parameters: {'n_layers': 3, 'n_units_l0': 161, 'n_units_l1': 174, 'n_units_l2': 607}. Best is trial 448 with value: 0.000658299361787154.\u001b[0m\n"
     ]
    },
    {
     "name": "stdout",
     "output_type": "stream",
     "text": [
      "Model FID: 0.0009055870863586095 \n",
      "\n",
      "Model architecture: [574, 192, 155]\n"
     ]
    },
    {
     "name": "stderr",
     "output_type": "stream",
     "text": [
      "\u001b[32m[I 2022-05-24 06:26:58,838]\u001b[0m Trial 494 finished with value: 0.0016532889660485824 and parameters: {'n_layers': 3, 'n_units_l0': 155, 'n_units_l1': 192, 'n_units_l2': 574}. Best is trial 448 with value: 0.000658299361787154.\u001b[0m\n"
     ]
    },
    {
     "name": "stdout",
     "output_type": "stream",
     "text": [
      "Model FID: 0.0016532889660485824 \n",
      "\n",
      "Model architecture: [561, 128, 179]\n"
     ]
    },
    {
     "name": "stderr",
     "output_type": "stream",
     "text": [
      "\u001b[32m[I 2022-05-24 06:28:14,097]\u001b[0m Trial 495 finished with value: 0.0018573623876489876 and parameters: {'n_layers': 3, 'n_units_l0': 179, 'n_units_l1': 128, 'n_units_l2': 561}. Best is trial 448 with value: 0.000658299361787154.\u001b[0m\n"
     ]
    },
    {
     "name": "stdout",
     "output_type": "stream",
     "text": [
      "Model FID: 0.0018573623876489876 \n",
      "\n",
      "Model architecture: [524, 152, 210]\n"
     ]
    },
    {
     "name": "stderr",
     "output_type": "stream",
     "text": [
      "\u001b[32m[I 2022-05-24 06:29:28,834]\u001b[0m Trial 496 finished with value: 0.001555548104661685 and parameters: {'n_layers': 3, 'n_units_l0': 210, 'n_units_l1': 152, 'n_units_l2': 524}. Best is trial 448 with value: 0.000658299361787154.\u001b[0m\n"
     ]
    },
    {
     "name": "stdout",
     "output_type": "stream",
     "text": [
      "Model FID: 0.001555548104661685 \n",
      "\n",
      "Model architecture: [592, 252, 408]\n"
     ]
    },
    {
     "name": "stderr",
     "output_type": "stream",
     "text": [
      "\u001b[32m[I 2022-05-24 06:30:43,074]\u001b[0m Trial 497 finished with value: 0.14625963460304808 and parameters: {'n_layers': 3, 'n_units_l0': 408, 'n_units_l1': 252, 'n_units_l2': 592}. Best is trial 448 with value: 0.000658299361787154.\u001b[0m\n"
     ]
    },
    {
     "name": "stdout",
     "output_type": "stream",
     "text": [
      "Model FID: 0.14625963460304808 \n",
      "\n",
      "Model architecture: [466, 167, 234]\n"
     ]
    },
    {
     "name": "stderr",
     "output_type": "stream",
     "text": [
      "\u001b[32m[I 2022-05-24 06:31:57,992]\u001b[0m Trial 498 finished with value: 0.0006487778121263216 and parameters: {'n_layers': 3, 'n_units_l0': 234, 'n_units_l1': 167, 'n_units_l2': 466}. Best is trial 498 with value: 0.0006487778121263216.\u001b[0m\n"
     ]
    },
    {
     "name": "stdout",
     "output_type": "stream",
     "text": [
      "Model FID: 0.0006487778121263216 \n",
      "\n",
      "Model architecture: [467, 963, 434]\n"
     ]
    },
    {
     "name": "stderr",
     "output_type": "stream",
     "text": [
      "\u001b[32m[I 2022-05-24 06:33:12,592]\u001b[0m Trial 499 finished with value: 0.043124393636605786 and parameters: {'n_layers': 3, 'n_units_l0': 434, 'n_units_l1': 963, 'n_units_l2': 467}. Best is trial 498 with value: 0.0006487778121263216.\u001b[0m\n"
     ]
    },
    {
     "name": "stdout",
     "output_type": "stream",
     "text": [
      "Model FID: 0.043124393636605786 \n",
      "\n"
     ]
    }
   ],
   "source": [
    "# Optimize the RMSE of the model\n",
    "study.optimize(objective, n_trials=300)"
   ]
  },
  {
   "cell_type": "markdown",
   "metadata": {},
   "source": [
    "According to the last study, the best architecture is [466, 167, 234] with FID = 0.000649."
   ]
  }
 ],
 "metadata": {
  "kernelspec": {
   "display_name": "Python 3.10.6 ('pytorchML')",
   "language": "python",
   "name": "python3"
  },
  "language_info": {
   "codemirror_mode": {
    "name": "ipython",
    "version": 3
   },
   "file_extension": ".py",
   "mimetype": "text/x-python",
   "name": "python",
   "nbconvert_exporter": "python",
   "pygments_lexer": "ipython3",
   "version": "3.10.6 | packaged by conda-forge | (main, Aug 22 2022, 20:30:19) [MSC v.1929 64 bit (AMD64)]"
  },
  "orig_nbformat": 4,
  "vscode": {
   "interpreter": {
    "hash": "81db743140582c4f094d37d428652ea020bf43f8f4558b1aabf895cb009224a0"
   }
  }
 },
 "nbformat": 4,
 "nbformat_minor": 2
}
